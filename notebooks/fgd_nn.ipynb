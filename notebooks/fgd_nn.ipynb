{
 "cells": [
  {
   "cell_type": "code",
   "execution_count": 31,
   "metadata": {},
   "outputs": [],
   "source": [
    "import os\n",
    "import time\n",
    "import torch\n",
    "import functools\n",
    "import torchvision\n",
    "import numpy as np\n",
    "import torch.nn as nn\n",
    "import torch.nn.functional as F\n",
    "import matplotlib.pyplot as plt\n",
    "import torchvision.transforms as transforms\n",
    "\n",
    "from functorch import make_functional\n",
    "from tqdm.auto import tqdm"
   ]
  },
  {
   "cell_type": "code",
   "execution_count": 27,
   "metadata": {},
   "outputs": [],
   "source": [
    "def utils_cross_entropy(params, func, x, t):\n",
    "    # Compute the prediction\n",
    "    y_pred = func(params, x)\n",
    "    # Compute the CE loss\n",
    "    loss = F.cross_entropy(y_pred, t, reduction='mean')\n",
    "    return loss"
   ]
  },
  {
   "cell_type": "code",
   "execution_count": 4,
   "metadata": {},
   "outputs": [],
   "source": [
    "# Paper FNN\n",
    "class FNN(nn.Module):\n",
    "    def __init__(self):\n",
    "        super(FNN, self).__init__()\n",
    "        self.fc1 = nn.Linear(784, 1024)\n",
    "        self.fc2 = nn.Linear(1024, 1024)\n",
    "        self.fc3 = nn.Linear(1024, 10)\n",
    "\n",
    "    def forward(self, x):\n",
    "        x = F.relu(self.fc1(x))\n",
    "        x = F.relu(self.fc2(x))\n",
    "        x = self.fc3(x)\n",
    "        return x\n",
    "\n",
    "# Paper CNN\n",
    "class CNN(nn.Module):\n",
    "    def __init__(self):\n",
    "        super(CNN, self).__init__()\n",
    "        self.conv1 = nn.Conv2d(in_channels=1, out_channels=64, kernel_size=3, stride=1, padding=1)\n",
    "        self.conv2 = nn.Conv2d(in_channels=64, out_channels=64, kernel_size=3, stride=1, padding=1)\n",
    "        self.conv3 = nn.Conv2d(in_channels=64, out_channels=64, kernel_size=3, stride=1, padding=1)\n",
    "        self.conv4 = nn.Conv2d(in_channels=64, out_channels=64, kernel_size=3, stride=1, padding=1)\n",
    "        self.fc1 = nn.Linear(in_features=3136, out_features=1024)\n",
    "        self.fc2 = nn.Linear(in_features=1024, out_features=10)\n",
    "\n",
    "    def forward(self, x):\n",
    "        x = F.relu(self.conv1(x))\n",
    "        x = F.relu(self.conv2(x))\n",
    "        x = F.max_pool2d(x, kernel_size=2, stride=2)\n",
    "        x = F.relu(self.conv3(x))\n",
    "        x = F.relu(self.conv4(x))\n",
    "        x = F.max_pool2d(x, kernel_size=2, stride=2)\n",
    "        x = x.view(-1, 3136)\n",
    "        x = F.relu(self.fc1(x))\n",
    "        x = self.fc2(x)\n",
    "        return x"
   ]
  },
  {
   "cell_type": "code",
   "execution_count": 12,
   "metadata": {},
   "outputs": [],
   "source": [
    "data_dir = 'D:/data/'\n",
    "# Download dataset: set to true if you don't have it saved locally\n",
    "download_dataset = True if os.path.exists(data_dir + 'mnist') else False\n",
    "\n",
    "# Load the MNIST dataset\n",
    "transform = transforms.Compose([\n",
    "    transforms.ToTensor(),\n",
    "    transforms.Normalize((0.5,), (0.5,))\n",
    "])\n",
    "\n",
    "# Define the batch size\n",
    "batch_size = 64\n",
    "\n",
    "# Create train and test dataset...\n",
    "train_dataset = torchvision.datasets.MNIST(root=data_dir, train=True, download=download_dataset, transform=transform)\n",
    "test_dataset = torchvision.datasets.MNIST(root=data_dir, train=False, download=download_dataset, transform=transform)\n",
    "\n",
    "# ... and respective dataloaders\n",
    "train_loader = torch.utils.data.DataLoader(dataset=train_dataset, batch_size=batch_size, shuffle=True)\n",
    "test_loader = torch.utils.data.DataLoader(dataset=test_dataset, batch_size=batch_size, shuffle=False)"
   ]
  },
  {
   "cell_type": "code",
   "execution_count": 36,
   "metadata": {},
   "outputs": [
    {
     "name": "stderr",
     "output_type": "stream",
     "text": [
      "C:\\Users\\MOSS_8192\\AppData\\Local\\Temp\\ipykernel_8840\\1367907692.py:1: FutureWarning: We've integrated functorch into PyTorch. As the final step of the integration, `functorch.make_functional` is deprecated as of PyTorch 2.0 and will be deleted in a future version of PyTorch >= 2.3. Please use `torch.func.functional_call` instead; see the PyTorch 2.0 release notes and/or the `torch.func` migration guide for more details https://pytorch.org/docs/main/func.migrating.html\n",
      "  func, params = make_functional(FNN())\n"
     ]
    },
    {
     "data": {
      "text/plain": [
       "(Parameter containing:\n",
       " tensor([[ 0.0063,  0.0211,  0.0177,  ...,  0.0300,  0.0322, -0.0225],\n",
       "         [-0.0318, -0.0170, -0.0280,  ..., -0.0077, -0.0014,  0.0031],\n",
       "         [-0.0129, -0.0079,  0.0276,  ...,  0.0343, -0.0269,  0.0191],\n",
       "         ...,\n",
       "         [-0.0303, -0.0029, -0.0324,  ..., -0.0117,  0.0105, -0.0319],\n",
       "         [ 0.0074, -0.0179, -0.0061,  ...,  0.0020, -0.0197, -0.0263],\n",
       "         [-0.0341,  0.0119,  0.0113,  ...,  0.0170,  0.0344,  0.0223]],\n",
       "        requires_grad=True),\n",
       " Parameter containing:\n",
       " tensor([-2.2597e-02, -2.2120e-02, -1.4868e-02,  ...,  1.2657e-02,\n",
       "         -2.3954e-05,  1.1002e-02], requires_grad=True),\n",
       " Parameter containing:\n",
       " tensor([[-0.0302,  0.0304,  0.0157,  ...,  0.0239,  0.0187,  0.0240],\n",
       "         [ 0.0250,  0.0156, -0.0240,  ...,  0.0003,  0.0221, -0.0006],\n",
       "         [ 0.0082, -0.0303, -0.0184,  ...,  0.0309,  0.0149, -0.0253],\n",
       "         ...,\n",
       "         [-0.0230, -0.0001,  0.0107,  ...,  0.0201, -0.0006,  0.0039],\n",
       "         [ 0.0287, -0.0044,  0.0042,  ...,  0.0095, -0.0213,  0.0142],\n",
       "         [-0.0143,  0.0131,  0.0108,  ..., -0.0172, -0.0124,  0.0044]],\n",
       "        requires_grad=True),\n",
       " Parameter containing:\n",
       " tensor([ 0.0045, -0.0273, -0.0162,  ..., -0.0038,  0.0219,  0.0184],\n",
       "        requires_grad=True),\n",
       " Parameter containing:\n",
       " tensor([[ 0.0244,  0.0141, -0.0069,  ...,  0.0050,  0.0133, -0.0066],\n",
       "         [ 0.0010,  0.0258, -0.0080,  ..., -0.0077, -0.0109,  0.0298],\n",
       "         [-0.0083, -0.0037,  0.0155,  ..., -0.0066, -0.0004, -0.0218],\n",
       "         ...,\n",
       "         [ 0.0111,  0.0199, -0.0257,  ..., -0.0115, -0.0187, -0.0294],\n",
       "         [-0.0150,  0.0206,  0.0173,  ...,  0.0182, -0.0300,  0.0087],\n",
       "         [ 0.0275,  0.0117,  0.0246,  ..., -0.0078, -0.0100,  0.0296]],\n",
       "        requires_grad=True),\n",
       " Parameter containing:\n",
       " tensor([ 0.0069, -0.0308, -0.0272,  0.0050,  0.0049, -0.0217, -0.0304, -0.0212,\n",
       "         -0.0224, -0.0181], requires_grad=True))"
      ]
     },
     "execution_count": 36,
     "metadata": {},
     "output_type": "execute_result"
    }
   ],
   "source": [
    "func, params = make_functional(FNN())\n",
    "params"
   ]
  },
  {
   "cell_type": "code",
   "execution_count": 37,
   "metadata": {},
   "outputs": [],
   "source": [
    "# Given a model, train it using FGD\n",
    "def train_fgd(model, train_loader, num_epochs=20, learning_rate=2e-4, input_size=28*28):\n",
    "    print(f'\\n\\nTraining {model.__class__.__name__} with FGD for {num_epochs} epochs...')\n",
    "\n",
    "    # Initialize losses and times\n",
    "    losses = list()\n",
    "    times = list([0])\n",
    "\n",
    "    with torch.no_grad():\n",
    "        # Get the functional version of the model with functorch\n",
    "        func, params = make_functional(model)\n",
    "        \n",
    "        # Train the network with FGD (forward Gradient Descent)\n",
    "        for epoch in tqdm(range(num_epochs)): \n",
    "            for i, (images, labels) in enumerate(train_loader): \n",
    "                # Start time\n",
    "                t0 = time.time()\n",
    "                # Reshape the images (for FNN only)\n",
    "                if isinstance(model, FNN): images = images.reshape(-1, input_size)\n",
    "                # Create callable CE function\n",
    "                f = functools.partial(utils_cross_entropy, func=func, x=images, t=labels)            \n",
    "                # Sample perturbation (for each parameter of the model)\n",
    "                v_params = tuple([torch.randn_like(p) for p in params])  \n",
    "                # Forward AD\n",
    "                loss, jvp = torch.func.jvp(f, (tuple(params),), (v_params,))\n",
    "                # Decay learning rate\n",
    "                l_rate = learning_rate * np.exp(-((i+epoch*len(train_loader))*1e-4))\n",
    "                # For each parameter\n",
    "                for j, p in enumerate(params):\n",
    "                    # Compute forward gradient\n",
    "                    g = jvp * v_params[j]\n",
    "                    # Parameters update\n",
    "                    p.sub_(l_rate * g)  \n",
    "                # End time\n",
    "                t1 = time.time()     \n",
    "                # Update losses and times\n",
    "                losses.append(loss)\n",
    "                times.append(times[-1]+t1-t0)     \n",
    "                # Print the statistics\n",
    "                if (i+1) % batch_size == 0:\n",
    "                    print (f'Epoch [{epoch+1}/{num_epochs}],\\tStep [{i+1}/{len(train_loader)}],\\t' +\n",
    "                            f'Iteraion [{i+1+epoch*len(train_loader)}/{len(train_loader)*num_epochs}],\\t' +\n",
    "                            f'Loss: {loss:.4f},\\tTime: {t1-t0:.2f}')\n",
    "    print('Finished FGD Training')\n",
    "    return losses, times"
   ]
  },
  {
   "cell_type": "code",
   "execution_count": 32,
   "metadata": {},
   "outputs": [
    {
     "name": "stderr",
     "output_type": "stream",
     "text": [
      "C:\\Users\\MOSS_8192\\AppData\\Local\\Temp\\ipykernel_8840\\2394295025.py:11: FutureWarning: We've integrated functorch into PyTorch. As the final step of the integration, `functorch.make_functional` is deprecated as of PyTorch 2.0 and will be deleted in a future version of PyTorch >= 2.3. Please use `torch.func.functional_call` instead; see the PyTorch 2.0 release notes and/or the `torch.func` migration guide for more details https://pytorch.org/docs/main/func.migrating.html\n",
      "  func, params = make_functional(model)\n"
     ]
    },
    {
     "name": "stdout",
     "output_type": "stream",
     "text": [
      "\n",
      "\n",
      "Training FNN with FGD for 20 epochs...\n"
     ]
    },
    {
     "name": "stderr",
     "output_type": "stream",
     "text": [
      "  0%|          | 0/20 [00:00<?, ?it/s]"
     ]
    },
    {
     "name": "stdout",
     "output_type": "stream",
     "text": [
      "Epoch [1/20],\tStep [64/938],\tIteraion [64/18760],\tLoss: 2.3052,\tTime: 0.02\n",
      "Epoch [1/20],\tStep [128/938],\tIteraion [128/18760],\tLoss: 2.3054,\tTime: 0.01\n",
      "Epoch [1/20],\tStep [192/938],\tIteraion [192/18760],\tLoss: 2.2861,\tTime: 0.02\n",
      "Epoch [1/20],\tStep [256/938],\tIteraion [256/18760],\tLoss: 2.2755,\tTime: 0.02\n",
      "Epoch [1/20],\tStep [320/938],\tIteraion [320/18760],\tLoss: 2.2830,\tTime: 0.02\n",
      "Epoch [1/20],\tStep [384/938],\tIteraion [384/18760],\tLoss: 2.2853,\tTime: 0.02\n",
      "Epoch [1/20],\tStep [448/938],\tIteraion [448/18760],\tLoss: 2.2746,\tTime: 0.02\n",
      "Epoch [1/20],\tStep [512/938],\tIteraion [512/18760],\tLoss: 2.2468,\tTime: 0.00\n",
      "Epoch [1/20],\tStep [576/938],\tIteraion [576/18760],\tLoss: 2.2528,\tTime: 0.02\n",
      "Epoch [1/20],\tStep [640/938],\tIteraion [640/18760],\tLoss: 2.2578,\tTime: 0.02\n",
      "Epoch [1/20],\tStep [704/938],\tIteraion [704/18760],\tLoss: 2.2366,\tTime: 0.02\n",
      "Epoch [1/20],\tStep [768/938],\tIteraion [768/18760],\tLoss: 2.2487,\tTime: 0.01\n",
      "Epoch [1/20],\tStep [832/938],\tIteraion [832/18760],\tLoss: 2.2177,\tTime: 0.02\n",
      "Epoch [1/20],\tStep [896/938],\tIteraion [896/18760],\tLoss: 2.2162,\tTime: 0.02\n"
     ]
    },
    {
     "name": "stderr",
     "output_type": "stream",
     "text": [
      "  5%|▌         | 1/20 [00:24<07:44, 24.45s/it]"
     ]
    },
    {
     "name": "stdout",
     "output_type": "stream",
     "text": [
      "Epoch [2/20],\tStep [64/938],\tIteraion [1002/18760],\tLoss: 2.2149,\tTime: 0.02\n",
      "Epoch [2/20],\tStep [128/938],\tIteraion [1066/18760],\tLoss: 2.1927,\tTime: 0.01\n",
      "Epoch [2/20],\tStep [192/938],\tIteraion [1130/18760],\tLoss: 2.2275,\tTime: 0.02\n",
      "Epoch [2/20],\tStep [256/938],\tIteraion [1194/18760],\tLoss: 2.1962,\tTime: 0.02\n",
      "Epoch [2/20],\tStep [320/938],\tIteraion [1258/18760],\tLoss: 2.2068,\tTime: 0.01\n",
      "Epoch [2/20],\tStep [384/938],\tIteraion [1322/18760],\tLoss: 2.2019,\tTime: 0.00\n",
      "Epoch [2/20],\tStep [448/938],\tIteraion [1386/18760],\tLoss: 2.2094,\tTime: 0.02\n",
      "Epoch [2/20],\tStep [512/938],\tIteraion [1450/18760],\tLoss: 2.1799,\tTime: 0.02\n",
      "Epoch [2/20],\tStep [576/938],\tIteraion [1514/18760],\tLoss: 2.1618,\tTime: 0.01\n",
      "Epoch [2/20],\tStep [640/938],\tIteraion [1578/18760],\tLoss: 2.1623,\tTime: 0.02\n",
      "Epoch [2/20],\tStep [704/938],\tIteraion [1642/18760],\tLoss: 2.1554,\tTime: 0.02\n",
      "Epoch [2/20],\tStep [768/938],\tIteraion [1706/18760],\tLoss: 2.1745,\tTime: 0.02\n",
      "Epoch [2/20],\tStep [832/938],\tIteraion [1770/18760],\tLoss: 2.1283,\tTime: 0.01\n",
      "Epoch [2/20],\tStep [896/938],\tIteraion [1834/18760],\tLoss: 2.1607,\tTime: 0.02\n"
     ]
    },
    {
     "name": "stderr",
     "output_type": "stream",
     "text": [
      " 10%|█         | 2/20 [00:48<07:17, 24.29s/it]"
     ]
    },
    {
     "name": "stdout",
     "output_type": "stream",
     "text": [
      "Epoch [3/20],\tStep [64/938],\tIteraion [1940/18760],\tLoss: 2.1710,\tTime: 0.02\n",
      "Epoch [3/20],\tStep [128/938],\tIteraion [2004/18760],\tLoss: 2.1392,\tTime: 0.02\n",
      "Epoch [3/20],\tStep [192/938],\tIteraion [2068/18760],\tLoss: 2.0826,\tTime: 0.02\n",
      "Epoch [3/20],\tStep [256/938],\tIteraion [2132/18760],\tLoss: 2.1064,\tTime: 0.02\n",
      "Epoch [3/20],\tStep [320/938],\tIteraion [2196/18760],\tLoss: 2.1300,\tTime: 0.02\n",
      "Epoch [3/20],\tStep [384/938],\tIteraion [2260/18760],\tLoss: 2.1340,\tTime: 0.01\n",
      "Epoch [3/20],\tStep [448/938],\tIteraion [2324/18760],\tLoss: 2.0841,\tTime: 0.00\n",
      "Epoch [3/20],\tStep [512/938],\tIteraion [2388/18760],\tLoss: 2.0651,\tTime: 0.00\n",
      "Epoch [3/20],\tStep [576/938],\tIteraion [2452/18760],\tLoss: 2.1085,\tTime: 0.02\n",
      "Epoch [3/20],\tStep [640/938],\tIteraion [2516/18760],\tLoss: 2.0990,\tTime: 0.02\n",
      "Epoch [3/20],\tStep [704/938],\tIteraion [2580/18760],\tLoss: 2.0935,\tTime: 0.02\n",
      "Epoch [3/20],\tStep [768/938],\tIteraion [2644/18760],\tLoss: 2.0664,\tTime: 0.02\n",
      "Epoch [3/20],\tStep [832/938],\tIteraion [2708/18760],\tLoss: 2.0672,\tTime: 0.01\n",
      "Epoch [3/20],\tStep [896/938],\tIteraion [2772/18760],\tLoss: 2.0503,\tTime: 0.02\n"
     ]
    },
    {
     "name": "stderr",
     "output_type": "stream",
     "text": [
      " 15%|█▌        | 3/20 [01:13<06:53, 24.34s/it]"
     ]
    },
    {
     "name": "stdout",
     "output_type": "stream",
     "text": [
      "Epoch [4/20],\tStep [64/938],\tIteraion [2878/18760],\tLoss: 2.0088,\tTime: 0.00\n",
      "Epoch [4/20],\tStep [128/938],\tIteraion [2942/18760],\tLoss: 1.9998,\tTime: 0.02\n",
      "Epoch [4/20],\tStep [192/938],\tIteraion [3006/18760],\tLoss: 2.0300,\tTime: 0.02\n",
      "Epoch [4/20],\tStep [256/938],\tIteraion [3070/18760],\tLoss: 2.0033,\tTime: 0.02\n",
      "Epoch [4/20],\tStep [320/938],\tIteraion [3134/18760],\tLoss: 1.9110,\tTime: 0.02\n",
      "Epoch [4/20],\tStep [384/938],\tIteraion [3198/18760],\tLoss: 1.9938,\tTime: 0.02\n",
      "Epoch [4/20],\tStep [448/938],\tIteraion [3262/18760],\tLoss: 1.9638,\tTime: 0.01\n",
      "Epoch [4/20],\tStep [512/938],\tIteraion [3326/18760],\tLoss: 2.0190,\tTime: 0.01\n",
      "Epoch [4/20],\tStep [576/938],\tIteraion [3390/18760],\tLoss: 1.9811,\tTime: 0.02\n",
      "Epoch [4/20],\tStep [640/938],\tIteraion [3454/18760],\tLoss: 1.9876,\tTime: 0.01\n",
      "Epoch [4/20],\tStep [704/938],\tIteraion [3518/18760],\tLoss: 1.9299,\tTime: 0.02\n",
      "Epoch [4/20],\tStep [768/938],\tIteraion [3582/18760],\tLoss: 1.9226,\tTime: 0.02\n",
      "Epoch [4/20],\tStep [832/938],\tIteraion [3646/18760],\tLoss: 1.8809,\tTime: 0.02\n",
      "Epoch [4/20],\tStep [896/938],\tIteraion [3710/18760],\tLoss: 1.8442,\tTime: 0.02\n"
     ]
    },
    {
     "name": "stderr",
     "output_type": "stream",
     "text": [
      " 20%|██        | 4/20 [01:37<06:28, 24.29s/it]"
     ]
    },
    {
     "name": "stdout",
     "output_type": "stream",
     "text": [
      "Epoch [5/20],\tStep [64/938],\tIteraion [3816/18760],\tLoss: 1.8088,\tTime: 0.02\n",
      "Epoch [5/20],\tStep [128/938],\tIteraion [3880/18760],\tLoss: 1.8397,\tTime: 0.02\n",
      "Epoch [5/20],\tStep [192/938],\tIteraion [3944/18760],\tLoss: 1.8818,\tTime: 0.02\n",
      "Epoch [5/20],\tStep [256/938],\tIteraion [4008/18760],\tLoss: 1.8523,\tTime: 0.02\n",
      "Epoch [5/20],\tStep [320/938],\tIteraion [4072/18760],\tLoss: 1.7776,\tTime: 0.02\n",
      "Epoch [5/20],\tStep [384/938],\tIteraion [4136/18760],\tLoss: 1.7722,\tTime: 0.02\n",
      "Epoch [5/20],\tStep [448/938],\tIteraion [4200/18760],\tLoss: 1.7909,\tTime: 0.02\n",
      "Epoch [5/20],\tStep [512/938],\tIteraion [4264/18760],\tLoss: 1.8255,\tTime: 0.03\n",
      "Epoch [5/20],\tStep [576/938],\tIteraion [4328/18760],\tLoss: 1.8080,\tTime: 0.02\n",
      "Epoch [5/20],\tStep [640/938],\tIteraion [4392/18760],\tLoss: 1.7951,\tTime: 0.02\n",
      "Epoch [5/20],\tStep [704/938],\tIteraion [4456/18760],\tLoss: 1.7312,\tTime: 0.02\n",
      "Epoch [5/20],\tStep [768/938],\tIteraion [4520/18760],\tLoss: 1.6995,\tTime: 0.01\n",
      "Epoch [5/20],\tStep [832/938],\tIteraion [4584/18760],\tLoss: 1.7764,\tTime: 0.02\n",
      "Epoch [5/20],\tStep [896/938],\tIteraion [4648/18760],\tLoss: 1.7128,\tTime: 0.02\n"
     ]
    },
    {
     "name": "stderr",
     "output_type": "stream",
     "text": [
      " 25%|██▌       | 5/20 [02:01<06:03, 24.26s/it]"
     ]
    },
    {
     "name": "stdout",
     "output_type": "stream",
     "text": [
      "Epoch [6/20],\tStep [64/938],\tIteraion [4754/18760],\tLoss: 1.6246,\tTime: 0.02\n",
      "Epoch [6/20],\tStep [128/938],\tIteraion [4818/18760],\tLoss: 1.6610,\tTime: 0.01\n",
      "Epoch [6/20],\tStep [192/938],\tIteraion [4882/18760],\tLoss: 1.7271,\tTime: 0.02\n",
      "Epoch [6/20],\tStep [256/938],\tIteraion [4946/18760],\tLoss: 1.7210,\tTime: 0.02\n",
      "Epoch [6/20],\tStep [320/938],\tIteraion [5010/18760],\tLoss: 1.6231,\tTime: 0.03\n",
      "Epoch [6/20],\tStep [384/938],\tIteraion [5074/18760],\tLoss: 1.6211,\tTime: 0.02\n",
      "Epoch [6/20],\tStep [448/938],\tIteraion [5138/18760],\tLoss: 1.6019,\tTime: 0.01\n",
      "Epoch [6/20],\tStep [512/938],\tIteraion [5202/18760],\tLoss: 1.7045,\tTime: 0.02\n",
      "Epoch [6/20],\tStep [576/938],\tIteraion [5266/18760],\tLoss: 1.5845,\tTime: 0.01\n",
      "Epoch [6/20],\tStep [640/938],\tIteraion [5330/18760],\tLoss: 1.6006,\tTime: 0.02\n",
      "Epoch [6/20],\tStep [704/938],\tIteraion [5394/18760],\tLoss: 1.6688,\tTime: 0.01\n",
      "Epoch [6/20],\tStep [768/938],\tIteraion [5458/18760],\tLoss: 1.5613,\tTime: 0.02\n",
      "Epoch [6/20],\tStep [832/938],\tIteraion [5522/18760],\tLoss: 1.5406,\tTime: 0.01\n",
      "Epoch [6/20],\tStep [896/938],\tIteraion [5586/18760],\tLoss: 1.6069,\tTime: 0.03\n"
     ]
    },
    {
     "name": "stderr",
     "output_type": "stream",
     "text": [
      " 30%|███       | 6/20 [02:25<05:38, 24.17s/it]"
     ]
    },
    {
     "name": "stdout",
     "output_type": "stream",
     "text": [
      "Epoch [7/20],\tStep [64/938],\tIteraion [5692/18760],\tLoss: 1.5155,\tTime: 0.01\n",
      "Epoch [7/20],\tStep [128/938],\tIteraion [5756/18760],\tLoss: 1.5691,\tTime: 0.01\n",
      "Epoch [7/20],\tStep [192/938],\tIteraion [5820/18760],\tLoss: 1.4982,\tTime: 0.01\n",
      "Epoch [7/20],\tStep [256/938],\tIteraion [5884/18760],\tLoss: 1.5450,\tTime: 0.01\n",
      "Epoch [7/20],\tStep [320/938],\tIteraion [5948/18760],\tLoss: 1.4694,\tTime: 0.02\n",
      "Epoch [7/20],\tStep [384/938],\tIteraion [6012/18760],\tLoss: 1.4700,\tTime: 0.01\n",
      "Epoch [7/20],\tStep [448/938],\tIteraion [6076/18760],\tLoss: 1.5191,\tTime: 0.02\n",
      "Epoch [7/20],\tStep [512/938],\tIteraion [6140/18760],\tLoss: 1.4588,\tTime: 0.02\n",
      "Epoch [7/20],\tStep [576/938],\tIteraion [6204/18760],\tLoss: 1.3525,\tTime: 0.00\n",
      "Epoch [7/20],\tStep [640/938],\tIteraion [6268/18760],\tLoss: 1.3202,\tTime: 0.01\n",
      "Epoch [7/20],\tStep [704/938],\tIteraion [6332/18760],\tLoss: 1.5136,\tTime: 0.02\n",
      "Epoch [7/20],\tStep [768/938],\tIteraion [6396/18760],\tLoss: 1.4189,\tTime: 0.02\n",
      "Epoch [7/20],\tStep [832/938],\tIteraion [6460/18760],\tLoss: 1.4876,\tTime: 0.01\n",
      "Epoch [7/20],\tStep [896/938],\tIteraion [6524/18760],\tLoss: 1.4420,\tTime: 0.02\n"
     ]
    },
    {
     "name": "stderr",
     "output_type": "stream",
     "text": [
      " 35%|███▌      | 7/20 [02:49<05:14, 24.22s/it]"
     ]
    },
    {
     "name": "stdout",
     "output_type": "stream",
     "text": [
      "Epoch [8/20],\tStep [64/938],\tIteraion [6630/18760],\tLoss: 1.3461,\tTime: 0.01\n",
      "Epoch [8/20],\tStep [128/938],\tIteraion [6694/18760],\tLoss: 1.4023,\tTime: 0.02\n",
      "Epoch [8/20],\tStep [192/938],\tIteraion [6758/18760],\tLoss: 1.3584,\tTime: 0.02\n",
      "Epoch [8/20],\tStep [256/938],\tIteraion [6822/18760],\tLoss: 1.2457,\tTime: 0.02\n",
      "Epoch [8/20],\tStep [320/938],\tIteraion [6886/18760],\tLoss: 1.3712,\tTime: 0.01\n",
      "Epoch [8/20],\tStep [384/938],\tIteraion [6950/18760],\tLoss: 1.3318,\tTime: 0.00\n",
      "Epoch [8/20],\tStep [448/938],\tIteraion [7014/18760],\tLoss: 1.3667,\tTime: 0.02\n",
      "Epoch [8/20],\tStep [512/938],\tIteraion [7078/18760],\tLoss: 1.3499,\tTime: 0.02\n",
      "Epoch [8/20],\tStep [576/938],\tIteraion [7142/18760],\tLoss: 1.2758,\tTime: 0.02\n",
      "Epoch [8/20],\tStep [640/938],\tIteraion [7206/18760],\tLoss: 1.3949,\tTime: 0.02\n",
      "Epoch [8/20],\tStep [704/938],\tIteraion [7270/18760],\tLoss: 1.3629,\tTime: 0.00\n",
      "Epoch [8/20],\tStep [768/938],\tIteraion [7334/18760],\tLoss: 1.2607,\tTime: 0.01\n",
      "Epoch [8/20],\tStep [832/938],\tIteraion [7398/18760],\tLoss: 1.2814,\tTime: 0.01\n",
      "Epoch [8/20],\tStep [896/938],\tIteraion [7462/18760],\tLoss: 1.1657,\tTime: 0.02\n"
     ]
    },
    {
     "name": "stderr",
     "output_type": "stream",
     "text": [
      " 40%|████      | 8/20 [03:13<04:50, 24.18s/it]"
     ]
    },
    {
     "name": "stdout",
     "output_type": "stream",
     "text": [
      "Epoch [9/20],\tStep [64/938],\tIteraion [7568/18760],\tLoss: 1.2707,\tTime: 0.02\n",
      "Epoch [9/20],\tStep [128/938],\tIteraion [7632/18760],\tLoss: 1.1445,\tTime: 0.00\n",
      "Epoch [9/20],\tStep [192/938],\tIteraion [7696/18760],\tLoss: 1.2302,\tTime: 0.01\n",
      "Epoch [9/20],\tStep [256/938],\tIteraion [7760/18760],\tLoss: 1.2917,\tTime: 0.02\n",
      "Epoch [9/20],\tStep [320/938],\tIteraion [7824/18760],\tLoss: 1.1960,\tTime: 0.02\n",
      "Epoch [9/20],\tStep [384/938],\tIteraion [7888/18760],\tLoss: 0.9666,\tTime: 0.02\n",
      "Epoch [9/20],\tStep [448/938],\tIteraion [7952/18760],\tLoss: 1.1808,\tTime: 0.02\n",
      "Epoch [9/20],\tStep [512/938],\tIteraion [8016/18760],\tLoss: 1.2574,\tTime: 0.02\n",
      "Epoch [9/20],\tStep [576/938],\tIteraion [8080/18760],\tLoss: 1.1342,\tTime: 0.02\n",
      "Epoch [9/20],\tStep [640/938],\tIteraion [8144/18760],\tLoss: 1.0659,\tTime: 0.02\n",
      "Epoch [9/20],\tStep [704/938],\tIteraion [8208/18760],\tLoss: 1.1621,\tTime: 0.02\n",
      "Epoch [9/20],\tStep [768/938],\tIteraion [8272/18760],\tLoss: 0.9498,\tTime: 0.01\n",
      "Epoch [9/20],\tStep [832/938],\tIteraion [8336/18760],\tLoss: 1.1623,\tTime: 0.02\n",
      "Epoch [9/20],\tStep [896/938],\tIteraion [8400/18760],\tLoss: 1.1864,\tTime: 0.00\n"
     ]
    },
    {
     "name": "stderr",
     "output_type": "stream",
     "text": [
      " 45%|████▌     | 9/20 [03:38<04:26, 24.20s/it]"
     ]
    },
    {
     "name": "stdout",
     "output_type": "stream",
     "text": [
      "Epoch [10/20],\tStep [64/938],\tIteraion [8506/18760],\tLoss: 1.1386,\tTime: 0.03\n",
      "Epoch [10/20],\tStep [128/938],\tIteraion [8570/18760],\tLoss: 1.0148,\tTime: 0.03\n",
      "Epoch [10/20],\tStep [192/938],\tIteraion [8634/18760],\tLoss: 1.0582,\tTime: 0.01\n",
      "Epoch [10/20],\tStep [256/938],\tIteraion [8698/18760],\tLoss: 1.1433,\tTime: 0.03\n",
      "Epoch [10/20],\tStep [320/938],\tIteraion [8762/18760],\tLoss: 1.0369,\tTime: 0.00\n",
      "Epoch [10/20],\tStep [384/938],\tIteraion [8826/18760],\tLoss: 0.9732,\tTime: 0.02\n",
      "Epoch [10/20],\tStep [448/938],\tIteraion [8890/18760],\tLoss: 1.1384,\tTime: 0.02\n",
      "Epoch [10/20],\tStep [512/938],\tIteraion [8954/18760],\tLoss: 1.0099,\tTime: 0.01\n",
      "Epoch [10/20],\tStep [576/938],\tIteraion [9018/18760],\tLoss: 1.1860,\tTime: 0.02\n",
      "Epoch [10/20],\tStep [640/938],\tIteraion [9082/18760],\tLoss: 1.1301,\tTime: 0.01\n",
      "Epoch [10/20],\tStep [704/938],\tIteraion [9146/18760],\tLoss: 1.0439,\tTime: 0.02\n",
      "Epoch [10/20],\tStep [768/938],\tIteraion [9210/18760],\tLoss: 1.0931,\tTime: 0.02\n",
      "Epoch [10/20],\tStep [832/938],\tIteraion [9274/18760],\tLoss: 0.9447,\tTime: 0.01\n",
      "Epoch [10/20],\tStep [896/938],\tIteraion [9338/18760],\tLoss: 1.0641,\tTime: 0.02\n"
     ]
    },
    {
     "name": "stderr",
     "output_type": "stream",
     "text": [
      " 50%|█████     | 10/20 [04:02<04:01, 24.19s/it]"
     ]
    },
    {
     "name": "stdout",
     "output_type": "stream",
     "text": [
      "Epoch [11/20],\tStep [64/938],\tIteraion [9444/18760],\tLoss: 1.1778,\tTime: 0.02\n",
      "Epoch [11/20],\tStep [128/938],\tIteraion [9508/18760],\tLoss: 0.9225,\tTime: 0.02\n",
      "Epoch [11/20],\tStep [192/938],\tIteraion [9572/18760],\tLoss: 0.9705,\tTime: 0.02\n",
      "Epoch [11/20],\tStep [256/938],\tIteraion [9636/18760],\tLoss: 0.9230,\tTime: 0.02\n",
      "Epoch [11/20],\tStep [320/938],\tIteraion [9700/18760],\tLoss: 0.9967,\tTime: 0.02\n",
      "Epoch [11/20],\tStep [384/938],\tIteraion [9764/18760],\tLoss: 1.0804,\tTime: 0.02\n",
      "Epoch [11/20],\tStep [448/938],\tIteraion [9828/18760],\tLoss: 0.9781,\tTime: 0.02\n",
      "Epoch [11/20],\tStep [512/938],\tIteraion [9892/18760],\tLoss: 1.0088,\tTime: 0.02\n",
      "Epoch [11/20],\tStep [576/938],\tIteraion [9956/18760],\tLoss: 0.9822,\tTime: 0.03\n",
      "Epoch [11/20],\tStep [640/938],\tIteraion [10020/18760],\tLoss: 0.9461,\tTime: 0.01\n",
      "Epoch [11/20],\tStep [704/938],\tIteraion [10084/18760],\tLoss: 0.8815,\tTime: 0.02\n",
      "Epoch [11/20],\tStep [768/938],\tIteraion [10148/18760],\tLoss: 1.0383,\tTime: 0.02\n",
      "Epoch [11/20],\tStep [832/938],\tIteraion [10212/18760],\tLoss: 0.9606,\tTime: 0.02\n",
      "Epoch [11/20],\tStep [896/938],\tIteraion [10276/18760],\tLoss: 1.0267,\tTime: 0.02\n"
     ]
    },
    {
     "name": "stderr",
     "output_type": "stream",
     "text": [
      " 55%|█████▌    | 11/20 [04:26<03:37, 24.19s/it]"
     ]
    },
    {
     "name": "stdout",
     "output_type": "stream",
     "text": [
      "Epoch [12/20],\tStep [64/938],\tIteraion [10382/18760],\tLoss: 0.8486,\tTime: 0.01\n",
      "Epoch [12/20],\tStep [128/938],\tIteraion [10446/18760],\tLoss: 0.7760,\tTime: 0.02\n",
      "Epoch [12/20],\tStep [192/938],\tIteraion [10510/18760],\tLoss: 0.8522,\tTime: 0.02\n",
      "Epoch [12/20],\tStep [256/938],\tIteraion [10574/18760],\tLoss: 1.0371,\tTime: 0.02\n",
      "Epoch [12/20],\tStep [320/938],\tIteraion [10638/18760],\tLoss: 0.8687,\tTime: 0.02\n",
      "Epoch [12/20],\tStep [384/938],\tIteraion [10702/18760],\tLoss: 0.8946,\tTime: 0.00\n",
      "Epoch [12/20],\tStep [448/938],\tIteraion [10766/18760],\tLoss: 0.8972,\tTime: 0.02\n",
      "Epoch [12/20],\tStep [512/938],\tIteraion [10830/18760],\tLoss: 0.8401,\tTime: 0.02\n",
      "Epoch [12/20],\tStep [576/938],\tIteraion [10894/18760],\tLoss: 0.8961,\tTime: 0.01\n",
      "Epoch [12/20],\tStep [640/938],\tIteraion [10958/18760],\tLoss: 1.0798,\tTime: 0.02\n",
      "Epoch [12/20],\tStep [704/938],\tIteraion [11022/18760],\tLoss: 0.9795,\tTime: 0.02\n",
      "Epoch [12/20],\tStep [768/938],\tIteraion [11086/18760],\tLoss: 0.8864,\tTime: 0.02\n",
      "Epoch [12/20],\tStep [832/938],\tIteraion [11150/18760],\tLoss: 0.7784,\tTime: 0.02\n",
      "Epoch [12/20],\tStep [896/938],\tIteraion [11214/18760],\tLoss: 0.8789,\tTime: 0.02\n"
     ]
    },
    {
     "name": "stderr",
     "output_type": "stream",
     "text": [
      " 60%|██████    | 12/20 [04:50<03:13, 24.17s/it]"
     ]
    },
    {
     "name": "stdout",
     "output_type": "stream",
     "text": [
      "Epoch [13/20],\tStep [64/938],\tIteraion [11320/18760],\tLoss: 1.0507,\tTime: 0.02\n",
      "Epoch [13/20],\tStep [128/938],\tIteraion [11384/18760],\tLoss: 0.7580,\tTime: 0.02\n",
      "Epoch [13/20],\tStep [192/938],\tIteraion [11448/18760],\tLoss: 0.9710,\tTime: 0.02\n",
      "Epoch [13/20],\tStep [256/938],\tIteraion [11512/18760],\tLoss: 0.8471,\tTime: 0.02\n",
      "Epoch [13/20],\tStep [320/938],\tIteraion [11576/18760],\tLoss: 0.7778,\tTime: 0.02\n",
      "Epoch [13/20],\tStep [384/938],\tIteraion [11640/18760],\tLoss: 0.7132,\tTime: 0.02\n",
      "Epoch [13/20],\tStep [448/938],\tIteraion [11704/18760],\tLoss: 0.8176,\tTime: 0.02\n",
      "Epoch [13/20],\tStep [512/938],\tIteraion [11768/18760],\tLoss: 0.7803,\tTime: 0.02\n",
      "Epoch [13/20],\tStep [576/938],\tIteraion [11832/18760],\tLoss: 0.8523,\tTime: 0.02\n",
      "Epoch [13/20],\tStep [640/938],\tIteraion [11896/18760],\tLoss: 0.7755,\tTime: 0.03\n",
      "Epoch [13/20],\tStep [704/938],\tIteraion [11960/18760],\tLoss: 0.8972,\tTime: 0.02\n",
      "Epoch [13/20],\tStep [768/938],\tIteraion [12024/18760],\tLoss: 0.8424,\tTime: 0.02\n",
      "Epoch [13/20],\tStep [832/938],\tIteraion [12088/18760],\tLoss: 0.8217,\tTime: 0.02\n",
      "Epoch [13/20],\tStep [896/938],\tIteraion [12152/18760],\tLoss: 0.8407,\tTime: 0.02\n"
     ]
    },
    {
     "name": "stderr",
     "output_type": "stream",
     "text": [
      " 65%|██████▌   | 13/20 [05:14<02:49, 24.19s/it]"
     ]
    },
    {
     "name": "stdout",
     "output_type": "stream",
     "text": [
      "Epoch [14/20],\tStep [64/938],\tIteraion [12258/18760],\tLoss: 0.9199,\tTime: 0.01\n",
      "Epoch [14/20],\tStep [128/938],\tIteraion [12322/18760],\tLoss: 0.9631,\tTime: 0.02\n",
      "Epoch [14/20],\tStep [192/938],\tIteraion [12386/18760],\tLoss: 0.8157,\tTime: 0.02\n",
      "Epoch [14/20],\tStep [256/938],\tIteraion [12450/18760],\tLoss: 0.9656,\tTime: 0.02\n",
      "Epoch [14/20],\tStep [320/938],\tIteraion [12514/18760],\tLoss: 0.9921,\tTime: 0.02\n",
      "Epoch [14/20],\tStep [384/938],\tIteraion [12578/18760],\tLoss: 0.8812,\tTime: 0.02\n",
      "Epoch [14/20],\tStep [448/938],\tIteraion [12642/18760],\tLoss: 0.8119,\tTime: 0.02\n",
      "Epoch [14/20],\tStep [512/938],\tIteraion [12706/18760],\tLoss: 0.8892,\tTime: 0.02\n",
      "Epoch [14/20],\tStep [576/938],\tIteraion [12770/18760],\tLoss: 0.8635,\tTime: 0.02\n",
      "Epoch [14/20],\tStep [640/938],\tIteraion [12834/18760],\tLoss: 0.8399,\tTime: 0.02\n",
      "Epoch [14/20],\tStep [704/938],\tIteraion [12898/18760],\tLoss: 0.8500,\tTime: 0.02\n",
      "Epoch [14/20],\tStep [768/938],\tIteraion [12962/18760],\tLoss: 0.8654,\tTime: 0.02\n",
      "Epoch [14/20],\tStep [832/938],\tIteraion [13026/18760],\tLoss: 0.8498,\tTime: 0.02\n",
      "Epoch [14/20],\tStep [896/938],\tIteraion [13090/18760],\tLoss: 0.7276,\tTime: 0.02\n"
     ]
    },
    {
     "name": "stderr",
     "output_type": "stream",
     "text": [
      " 70%|███████   | 14/20 [05:38<02:24, 24.17s/it]"
     ]
    },
    {
     "name": "stdout",
     "output_type": "stream",
     "text": [
      "Epoch [15/20],\tStep [64/938],\tIteraion [13196/18760],\tLoss: 0.7955,\tTime: 0.02\n",
      "Epoch [15/20],\tStep [128/938],\tIteraion [13260/18760],\tLoss: 0.8052,\tTime: 0.02\n",
      "Epoch [15/20],\tStep [192/938],\tIteraion [13324/18760],\tLoss: 0.7421,\tTime: 0.01\n",
      "Epoch [15/20],\tStep [256/938],\tIteraion [13388/18760],\tLoss: 0.7664,\tTime: 0.02\n",
      "Epoch [15/20],\tStep [320/938],\tIteraion [13452/18760],\tLoss: 0.8206,\tTime: 0.02\n",
      "Epoch [15/20],\tStep [384/938],\tIteraion [13516/18760],\tLoss: 0.7516,\tTime: 0.01\n",
      "Epoch [15/20],\tStep [448/938],\tIteraion [13580/18760],\tLoss: 0.7114,\tTime: 0.02\n",
      "Epoch [15/20],\tStep [512/938],\tIteraion [13644/18760],\tLoss: 0.7979,\tTime: 0.02\n",
      "Epoch [15/20],\tStep [576/938],\tIteraion [13708/18760],\tLoss: 0.6844,\tTime: 0.02\n",
      "Epoch [15/20],\tStep [640/938],\tIteraion [13772/18760],\tLoss: 0.7488,\tTime: 0.02\n",
      "Epoch [15/20],\tStep [704/938],\tIteraion [13836/18760],\tLoss: 0.7939,\tTime: 0.01\n",
      "Epoch [15/20],\tStep [768/938],\tIteraion [13900/18760],\tLoss: 0.7539,\tTime: 0.02\n",
      "Epoch [15/20],\tStep [832/938],\tIteraion [13964/18760],\tLoss: 0.6997,\tTime: 0.00\n",
      "Epoch [15/20],\tStep [896/938],\tIteraion [14028/18760],\tLoss: 0.8006,\tTime: 0.01\n"
     ]
    },
    {
     "name": "stderr",
     "output_type": "stream",
     "text": [
      " 75%|███████▌  | 15/20 [06:03<02:01, 24.22s/it]"
     ]
    },
    {
     "name": "stdout",
     "output_type": "stream",
     "text": [
      "Epoch [16/20],\tStep [64/938],\tIteraion [14134/18760],\tLoss: 0.7572,\tTime: 0.01\n",
      "Epoch [16/20],\tStep [128/938],\tIteraion [14198/18760],\tLoss: 0.7239,\tTime: 0.02\n",
      "Epoch [16/20],\tStep [192/938],\tIteraion [14262/18760],\tLoss: 0.7589,\tTime: 0.02\n",
      "Epoch [16/20],\tStep [256/938],\tIteraion [14326/18760],\tLoss: 0.8467,\tTime: 0.02\n",
      "Epoch [16/20],\tStep [320/938],\tIteraion [14390/18760],\tLoss: 0.8496,\tTime: 0.02\n",
      "Epoch [16/20],\tStep [384/938],\tIteraion [14454/18760],\tLoss: 0.7182,\tTime: 0.02\n",
      "Epoch [16/20],\tStep [448/938],\tIteraion [14518/18760],\tLoss: 0.8134,\tTime: 0.01\n",
      "Epoch [16/20],\tStep [512/938],\tIteraion [14582/18760],\tLoss: 0.7196,\tTime: 0.02\n",
      "Epoch [16/20],\tStep [576/938],\tIteraion [14646/18760],\tLoss: 0.6970,\tTime: 0.02\n",
      "Epoch [16/20],\tStep [640/938],\tIteraion [14710/18760],\tLoss: 0.7663,\tTime: 0.01\n",
      "Epoch [16/20],\tStep [704/938],\tIteraion [14774/18760],\tLoss: 0.7247,\tTime: 0.02\n",
      "Epoch [16/20],\tStep [768/938],\tIteraion [14838/18760],\tLoss: 0.7684,\tTime: 0.02\n",
      "Epoch [16/20],\tStep [832/938],\tIteraion [14902/18760],\tLoss: 0.9255,\tTime: 0.02\n",
      "Epoch [16/20],\tStep [896/938],\tIteraion [14966/18760],\tLoss: 0.7006,\tTime: 0.02\n"
     ]
    },
    {
     "name": "stderr",
     "output_type": "stream",
     "text": [
      " 80%|████████  | 16/20 [06:27<01:37, 24.26s/it]"
     ]
    },
    {
     "name": "stdout",
     "output_type": "stream",
     "text": [
      "Epoch [17/20],\tStep [64/938],\tIteraion [15072/18760],\tLoss: 0.8528,\tTime: 0.02\n",
      "Epoch [17/20],\tStep [128/938],\tIteraion [15136/18760],\tLoss: 0.8794,\tTime: 0.02\n",
      "Epoch [17/20],\tStep [192/938],\tIteraion [15200/18760],\tLoss: 0.6918,\tTime: 0.02\n",
      "Epoch [17/20],\tStep [256/938],\tIteraion [15264/18760],\tLoss: 0.6094,\tTime: 0.01\n",
      "Epoch [17/20],\tStep [320/938],\tIteraion [15328/18760],\tLoss: 0.7858,\tTime: 0.02\n",
      "Epoch [17/20],\tStep [384/938],\tIteraion [15392/18760],\tLoss: 0.5729,\tTime: 0.02\n",
      "Epoch [17/20],\tStep [448/938],\tIteraion [15456/18760],\tLoss: 0.6632,\tTime: 0.02\n",
      "Epoch [17/20],\tStep [512/938],\tIteraion [15520/18760],\tLoss: 0.5772,\tTime: 0.02\n",
      "Epoch [17/20],\tStep [576/938],\tIteraion [15584/18760],\tLoss: 0.8614,\tTime: 0.02\n",
      "Epoch [17/20],\tStep [640/938],\tIteraion [15648/18760],\tLoss: 0.6397,\tTime: 0.02\n",
      "Epoch [17/20],\tStep [704/938],\tIteraion [15712/18760],\tLoss: 0.7298,\tTime: 0.02\n",
      "Epoch [17/20],\tStep [768/938],\tIteraion [15776/18760],\tLoss: 0.6672,\tTime: 0.02\n",
      "Epoch [17/20],\tStep [832/938],\tIteraion [15840/18760],\tLoss: 0.7596,\tTime: 0.01\n",
      "Epoch [17/20],\tStep [896/938],\tIteraion [15904/18760],\tLoss: 0.8818,\tTime: 0.01\n"
     ]
    },
    {
     "name": "stderr",
     "output_type": "stream",
     "text": [
      " 85%|████████▌ | 17/20 [06:51<01:12, 24.26s/it]"
     ]
    },
    {
     "name": "stdout",
     "output_type": "stream",
     "text": [
      "Epoch [18/20],\tStep [64/938],\tIteraion [16010/18760],\tLoss: 0.6451,\tTime: 0.00\n",
      "Epoch [18/20],\tStep [128/938],\tIteraion [16074/18760],\tLoss: 0.7315,\tTime: 0.02\n",
      "Epoch [18/20],\tStep [192/938],\tIteraion [16138/18760],\tLoss: 0.8660,\tTime: 0.02\n",
      "Epoch [18/20],\tStep [256/938],\tIteraion [16202/18760],\tLoss: 0.8252,\tTime: 0.02\n",
      "Epoch [18/20],\tStep [320/938],\tIteraion [16266/18760],\tLoss: 0.6477,\tTime: 0.02\n",
      "Epoch [18/20],\tStep [384/938],\tIteraion [16330/18760],\tLoss: 0.8687,\tTime: 0.01\n",
      "Epoch [18/20],\tStep [448/938],\tIteraion [16394/18760],\tLoss: 0.6975,\tTime: 0.02\n",
      "Epoch [18/20],\tStep [512/938],\tIteraion [16458/18760],\tLoss: 0.7824,\tTime: 0.02\n",
      "Epoch [18/20],\tStep [576/938],\tIteraion [16522/18760],\tLoss: 0.8501,\tTime: 0.02\n",
      "Epoch [18/20],\tStep [640/938],\tIteraion [16586/18760],\tLoss: 0.6959,\tTime: 0.02\n",
      "Epoch [18/20],\tStep [704/938],\tIteraion [16650/18760],\tLoss: 0.7934,\tTime: 0.02\n",
      "Epoch [18/20],\tStep [768/938],\tIteraion [16714/18760],\tLoss: 0.6737,\tTime: 0.02\n",
      "Epoch [18/20],\tStep [832/938],\tIteraion [16778/18760],\tLoss: 0.8669,\tTime: 0.02\n",
      "Epoch [18/20],\tStep [896/938],\tIteraion [16842/18760],\tLoss: 1.0106,\tTime: 0.02\n"
     ]
    },
    {
     "name": "stderr",
     "output_type": "stream",
     "text": [
      " 90%|█████████ | 18/20 [07:16<00:48, 24.28s/it]"
     ]
    },
    {
     "name": "stdout",
     "output_type": "stream",
     "text": [
      "Epoch [19/20],\tStep [64/938],\tIteraion [16948/18760],\tLoss: 0.5961,\tTime: 0.01\n",
      "Epoch [19/20],\tStep [128/938],\tIteraion [17012/18760],\tLoss: 0.7139,\tTime: 0.03\n",
      "Epoch [19/20],\tStep [192/938],\tIteraion [17076/18760],\tLoss: 0.8545,\tTime: 0.02\n",
      "Epoch [19/20],\tStep [256/938],\tIteraion [17140/18760],\tLoss: 0.6448,\tTime: 0.02\n",
      "Epoch [19/20],\tStep [320/938],\tIteraion [17204/18760],\tLoss: 0.7857,\tTime: 0.02\n",
      "Epoch [19/20],\tStep [384/938],\tIteraion [17268/18760],\tLoss: 0.7149,\tTime: 0.02\n",
      "Epoch [19/20],\tStep [448/938],\tIteraion [17332/18760],\tLoss: 0.7450,\tTime: 0.01\n",
      "Epoch [19/20],\tStep [512/938],\tIteraion [17396/18760],\tLoss: 0.7586,\tTime: 0.01\n",
      "Epoch [19/20],\tStep [576/938],\tIteraion [17460/18760],\tLoss: 0.6975,\tTime: 0.02\n",
      "Epoch [19/20],\tStep [640/938],\tIteraion [17524/18760],\tLoss: 0.6797,\tTime: 0.01\n",
      "Epoch [19/20],\tStep [704/938],\tIteraion [17588/18760],\tLoss: 0.7293,\tTime: 0.02\n",
      "Epoch [19/20],\tStep [768/938],\tIteraion [17652/18760],\tLoss: 0.7118,\tTime: 0.01\n",
      "Epoch [19/20],\tStep [832/938],\tIteraion [17716/18760],\tLoss: 0.6869,\tTime: 0.01\n",
      "Epoch [19/20],\tStep [896/938],\tIteraion [17780/18760],\tLoss: 0.6469,\tTime: 0.02\n"
     ]
    },
    {
     "name": "stderr",
     "output_type": "stream",
     "text": [
      " 95%|█████████▌| 19/20 [07:40<00:24, 24.29s/it]"
     ]
    },
    {
     "name": "stdout",
     "output_type": "stream",
     "text": [
      "Epoch [20/20],\tStep [64/938],\tIteraion [17886/18760],\tLoss: 0.7394,\tTime: 0.02\n",
      "Epoch [20/20],\tStep [128/938],\tIteraion [17950/18760],\tLoss: 0.7242,\tTime: 0.02\n",
      "Epoch [20/20],\tStep [192/938],\tIteraion [18014/18760],\tLoss: 0.6025,\tTime: 0.02\n",
      "Epoch [20/20],\tStep [256/938],\tIteraion [18078/18760],\tLoss: 0.6899,\tTime: 0.02\n",
      "Epoch [20/20],\tStep [320/938],\tIteraion [18142/18760],\tLoss: 0.8292,\tTime: 0.03\n",
      "Epoch [20/20],\tStep [384/938],\tIteraion [18206/18760],\tLoss: 0.7370,\tTime: 0.01\n",
      "Epoch [20/20],\tStep [448/938],\tIteraion [18270/18760],\tLoss: 0.6709,\tTime: 0.02\n",
      "Epoch [20/20],\tStep [512/938],\tIteraion [18334/18760],\tLoss: 0.6645,\tTime: 0.01\n",
      "Epoch [20/20],\tStep [576/938],\tIteraion [18398/18760],\tLoss: 0.7322,\tTime: 0.01\n",
      "Epoch [20/20],\tStep [640/938],\tIteraion [18462/18760],\tLoss: 0.6634,\tTime: 0.02\n",
      "Epoch [20/20],\tStep [704/938],\tIteraion [18526/18760],\tLoss: 0.6745,\tTime: 0.02\n",
      "Epoch [20/20],\tStep [768/938],\tIteraion [18590/18760],\tLoss: 0.6858,\tTime: 0.02\n",
      "Epoch [20/20],\tStep [832/938],\tIteraion [18654/18760],\tLoss: 0.6118,\tTime: 0.02\n",
      "Epoch [20/20],\tStep [896/938],\tIteraion [18718/18760],\tLoss: 0.6405,\tTime: 0.02\n"
     ]
    },
    {
     "name": "stderr",
     "output_type": "stream",
     "text": [
      "100%|██████████| 20/20 [08:04<00:00, 24.24s/it]\n"
     ]
    },
    {
     "name": "stdout",
     "output_type": "stream",
     "text": [
      "Finished FGD Training\n"
     ]
    },
    {
     "data": {
      "image/png": "[encoded data removed]",
      "text/plain": [
       "<Figure size 1200x480 with 2 Axes>"
      ]
     },
     "metadata": {},
     "output_type": "display_data"
    }
   ],
   "source": [
    "# Train FNN with FGD\n",
    "fnn_fgd_l, fnn_fgd_t = train_fgd(FNN(), train_loader=train_loader, num_epochs=20)\n",
    "# Train FNN with SGD\n",
    "# fnn_sgd_l, fnn_sgd_t = train_sgd(FNN(), train_loader=train_loader, num_epochs=20)\n",
    "\n",
    "# Set up a figure\n",
    "fig = plt.figure(figsize=plt.figaspect(.4))\n",
    "fig.suptitle(\"FNN losses and training times\", fontsize=15, fontweight='bold', y=1.05)\n",
    "\n",
    "# First subplot (Losses)\n",
    "ax1 = fig.add_subplot(1, 2, 1)\n",
    "ax1.set_title(\"FNN losses\")\n",
    "ax1.plot(fnn_fgd_l, label='FGD', alpha=0.75)\n",
    "# ax1.plot(fnn_sgd_l, label='SGD', alpha=0.75)\n",
    "ax1.set_xlabel(\"Iterations\")\n",
    "ax1.set_ylabel(\"Loss\")\n",
    "ax1.legend()\n",
    "\n",
    "# Second subplot (Times)\n",
    "ax2 = fig.add_subplot(1, 2, 2)\n",
    "ax2.set_title(\"FNN training time\")\n",
    "ax2.plot(fnn_fgd_t, label='FGD', alpha=0.75)\n",
    "# ax2.plot(fnn_sgd_t, label='SGD', alpha=0.75)\n",
    "ax2.set_xlabel(\"Iterations\")\n",
    "ax2.set_ylabel(\"Time (s)\")\n",
    "ax2.legend()\n",
    "\n",
    "plt.show()"
   ]
  },
  {
   "cell_type": "code",
   "execution_count": 38,
   "metadata": {},
   "outputs": [
    {
     "name": "stderr",
     "output_type": "stream",
     "text": [
      "C:\\Users\\MOSS_8192\\AppData\\Local\\Temp\\ipykernel_8840\\2394295025.py:11: FutureWarning: We've integrated functorch into PyTorch. As the final step of the integration, `functorch.make_functional` is deprecated as of PyTorch 2.0 and will be deleted in a future version of PyTorch >= 2.3. Please use `torch.func.functional_call` instead; see the PyTorch 2.0 release notes and/or the `torch.func` migration guide for more details https://pytorch.org/docs/main/func.migrating.html\n",
      "  func, params = make_functional(model)\n"
     ]
    },
    {
     "name": "stdout",
     "output_type": "stream",
     "text": [
      "\n",
      "\n",
      "Training CNN with FGD for 50 epochs...\n"
     ]
    },
    {
     "name": "stderr",
     "output_type": "stream",
     "text": [
      "  0%|          | 0/50 [00:00<?, ?it/s]"
     ]
    },
    {
     "name": "stdout",
     "output_type": "stream",
     "text": [
      "Epoch [1/50],\tStep [64/938],\tIteraion [64/46900],\tLoss: 2.3012,\tTime: 0.07\n",
      "Epoch [1/50],\tStep [128/938],\tIteraion [128/46900],\tLoss: 2.3035,\tTime: 0.06\n",
      "Epoch [1/50],\tStep [192/938],\tIteraion [192/46900],\tLoss: 2.3041,\tTime: 0.08\n",
      "Epoch [1/50],\tStep [256/938],\tIteraion [256/46900],\tLoss: 2.3040,\tTime: 0.06\n",
      "Epoch [1/50],\tStep [320/938],\tIteraion [320/46900],\tLoss: 2.2963,\tTime: 0.07\n",
      "Epoch [1/50],\tStep [384/938],\tIteraion [384/46900],\tLoss: 2.3074,\tTime: 0.07\n",
      "Epoch [1/50],\tStep [448/938],\tIteraion [448/46900],\tLoss: 2.3010,\tTime: 0.07\n",
      "Epoch [1/50],\tStep [512/938],\tIteraion [512/46900],\tLoss: 2.3067,\tTime: 0.06\n",
      "Epoch [1/50],\tStep [576/938],\tIteraion [576/46900],\tLoss: 2.3051,\tTime: 0.05\n",
      "Epoch [1/50],\tStep [640/938],\tIteraion [640/46900],\tLoss: 2.3019,\tTime: 0.07\n",
      "Epoch [1/50],\tStep [704/938],\tIteraion [704/46900],\tLoss: 2.3002,\tTime: 0.08\n",
      "Epoch [1/50],\tStep [768/938],\tIteraion [768/46900],\tLoss: 2.3032,\tTime: 0.07\n",
      "Epoch [1/50],\tStep [832/938],\tIteraion [832/46900],\tLoss: 2.3050,\tTime: 0.08\n",
      "Epoch [1/50],\tStep [896/938],\tIteraion [896/46900],\tLoss: 2.3013,\tTime: 0.07\n"
     ]
    },
    {
     "name": "stderr",
     "output_type": "stream",
     "text": [
      "  2%|▏         | 1/50 [01:08<55:44, 68.25s/it]"
     ]
    },
    {
     "name": "stdout",
     "output_type": "stream",
     "text": [
      "Epoch [2/50],\tStep [64/938],\tIteraion [1002/46900],\tLoss: 2.3027,\tTime: 0.05\n",
      "Epoch [2/50],\tStep [128/938],\tIteraion [1066/46900],\tLoss: 2.3019,\tTime: 0.05\n",
      "Epoch [2/50],\tStep [192/938],\tIteraion [1130/46900],\tLoss: 2.3032,\tTime: 0.07\n",
      "Epoch [2/50],\tStep [256/938],\tIteraion [1194/46900],\tLoss: 2.2996,\tTime: 0.08\n",
      "Epoch [2/50],\tStep [320/938],\tIteraion [1258/46900],\tLoss: 2.3062,\tTime: 0.07\n",
      "Epoch [2/50],\tStep [384/938],\tIteraion [1322/46900],\tLoss: 2.3024,\tTime: 0.07\n",
      "Epoch [2/50],\tStep [448/938],\tIteraion [1386/46900],\tLoss: 2.3005,\tTime: 0.07\n",
      "Epoch [2/50],\tStep [512/938],\tIteraion [1450/46900],\tLoss: 2.3041,\tTime: 0.05\n",
      "Epoch [2/50],\tStep [576/938],\tIteraion [1514/46900],\tLoss: 2.3000,\tTime: 0.06\n",
      "Epoch [2/50],\tStep [640/938],\tIteraion [1578/46900],\tLoss: 2.3019,\tTime: 0.06\n",
      "Epoch [2/50],\tStep [704/938],\tIteraion [1642/46900],\tLoss: 2.2990,\tTime: 0.06\n",
      "Epoch [2/50],\tStep [768/938],\tIteraion [1706/46900],\tLoss: 2.3005,\tTime: 0.05\n",
      "Epoch [2/50],\tStep [832/938],\tIteraion [1770/46900],\tLoss: 2.3034,\tTime: 0.07\n",
      "Epoch [2/50],\tStep [896/938],\tIteraion [1834/46900],\tLoss: 2.3014,\tTime: 0.06\n"
     ]
    },
    {
     "name": "stderr",
     "output_type": "stream",
     "text": [
      "  4%|▍         | 2/50 [02:19<56:02, 70.06s/it]"
     ]
    },
    {
     "name": "stdout",
     "output_type": "stream",
     "text": [
      "Epoch [3/50],\tStep [64/938],\tIteraion [1940/46900],\tLoss: 2.3009,\tTime: 0.05\n",
      "Epoch [3/50],\tStep [128/938],\tIteraion [2004/46900],\tLoss: 2.2996,\tTime: 0.06\n",
      "Epoch [3/50],\tStep [192/938],\tIteraion [2068/46900],\tLoss: 2.2951,\tTime: 0.07\n",
      "Epoch [3/50],\tStep [256/938],\tIteraion [2132/46900],\tLoss: 2.3000,\tTime: 0.07\n",
      "Epoch [3/50],\tStep [320/938],\tIteraion [2196/46900],\tLoss: 2.2994,\tTime: 0.05\n",
      "Epoch [3/50],\tStep [384/938],\tIteraion [2260/46900],\tLoss: 2.3030,\tTime: 0.07\n",
      "Epoch [3/50],\tStep [448/938],\tIteraion [2324/46900],\tLoss: 2.3019,\tTime: 0.07\n",
      "Epoch [3/50],\tStep [512/938],\tIteraion [2388/46900],\tLoss: 2.3005,\tTime: 0.05\n",
      "Epoch [3/50],\tStep [576/938],\tIteraion [2452/46900],\tLoss: 2.2989,\tTime: 0.06\n",
      "Epoch [3/50],\tStep [640/938],\tIteraion [2516/46900],\tLoss: 2.3065,\tTime: 0.07\n",
      "Epoch [3/50],\tStep [704/938],\tIteraion [2580/46900],\tLoss: 2.3019,\tTime: 0.07\n",
      "Epoch [3/50],\tStep [768/938],\tIteraion [2644/46900],\tLoss: 2.2991,\tTime: 0.07\n",
      "Epoch [3/50],\tStep [832/938],\tIteraion [2708/46900],\tLoss: 2.3004,\tTime: 0.06\n",
      "Epoch [3/50],\tStep [896/938],\tIteraion [2772/46900],\tLoss: 2.2987,\tTime: 0.07\n"
     ]
    },
    {
     "name": "stderr",
     "output_type": "stream",
     "text": [
      "  6%|▌         | 3/50 [03:27<54:14, 69.25s/it]"
     ]
    },
    {
     "name": "stdout",
     "output_type": "stream",
     "text": [
      "Epoch [4/50],\tStep [64/938],\tIteraion [2878/46900],\tLoss: 2.3005,\tTime: 0.07\n",
      "Epoch [4/50],\tStep [128/938],\tIteraion [2942/46900],\tLoss: 2.2990,\tTime: 0.07\n",
      "Epoch [4/50],\tStep [192/938],\tIteraion [3006/46900],\tLoss: 2.2995,\tTime: 0.06\n",
      "Epoch [4/50],\tStep [256/938],\tIteraion [3070/46900],\tLoss: 2.3022,\tTime: 0.05\n",
      "Epoch [4/50],\tStep [320/938],\tIteraion [3134/46900],\tLoss: 2.3030,\tTime: 0.07\n",
      "Epoch [4/50],\tStep [384/938],\tIteraion [3198/46900],\tLoss: 2.2991,\tTime: 0.07\n",
      "Epoch [4/50],\tStep [448/938],\tIteraion [3262/46900],\tLoss: 2.2977,\tTime: 0.05\n",
      "Epoch [4/50],\tStep [512/938],\tIteraion [3326/46900],\tLoss: 2.2981,\tTime: 0.05\n",
      "Epoch [4/50],\tStep [576/938],\tIteraion [3390/46900],\tLoss: 2.2997,\tTime: 0.07\n",
      "Epoch [4/50],\tStep [640/938],\tIteraion [3454/46900],\tLoss: 2.2972,\tTime: 0.07\n",
      "Epoch [4/50],\tStep [704/938],\tIteraion [3518/46900],\tLoss: 2.2983,\tTime: 0.06\n",
      "Epoch [4/50],\tStep [768/938],\tIteraion [3582/46900],\tLoss: 2.2974,\tTime: 0.05\n",
      "Epoch [4/50],\tStep [832/938],\tIteraion [3646/46900],\tLoss: 2.3025,\tTime: 0.05\n",
      "Epoch [4/50],\tStep [896/938],\tIteraion [3710/46900],\tLoss: 2.3006,\tTime: 0.06\n"
     ]
    },
    {
     "name": "stderr",
     "output_type": "stream",
     "text": [
      "  8%|▊         | 4/50 [04:35<52:40, 68.70s/it]"
     ]
    },
    {
     "name": "stdout",
     "output_type": "stream",
     "text": [
      "Epoch [5/50],\tStep [64/938],\tIteraion [3816/46900],\tLoss: 2.3035,\tTime: 0.05\n",
      "Epoch [5/50],\tStep [128/938],\tIteraion [3880/46900],\tLoss: 2.2968,\tTime: 0.07\n",
      "Epoch [5/50],\tStep [192/938],\tIteraion [3944/46900],\tLoss: 2.2976,\tTime: 0.06\n",
      "Epoch [5/50],\tStep [256/938],\tIteraion [4008/46900],\tLoss: 2.2962,\tTime: 0.06\n",
      "Epoch [5/50],\tStep [320/938],\tIteraion [4072/46900],\tLoss: 2.2981,\tTime: 0.06\n",
      "Epoch [5/50],\tStep [384/938],\tIteraion [4136/46900],\tLoss: 2.3015,\tTime: 0.06\n",
      "Epoch [5/50],\tStep [448/938],\tIteraion [4200/46900],\tLoss: 2.2948,\tTime: 0.07\n",
      "Epoch [5/50],\tStep [512/938],\tIteraion [4264/46900],\tLoss: 2.2987,\tTime: 0.05\n",
      "Epoch [5/50],\tStep [576/938],\tIteraion [4328/46900],\tLoss: 2.2972,\tTime: 0.05\n",
      "Epoch [5/50],\tStep [640/938],\tIteraion [4392/46900],\tLoss: 2.3027,\tTime: 0.06\n",
      "Epoch [5/50],\tStep [704/938],\tIteraion [4456/46900],\tLoss: 2.3019,\tTime: 0.07\n",
      "Epoch [5/50],\tStep [768/938],\tIteraion [4520/46900],\tLoss: 2.2949,\tTime: 0.07\n",
      "Epoch [5/50],\tStep [832/938],\tIteraion [4584/46900],\tLoss: 2.3012,\tTime: 0.06\n",
      "Epoch [5/50],\tStep [896/938],\tIteraion [4648/46900],\tLoss: 2.2976,\tTime: 0.06\n"
     ]
    },
    {
     "name": "stderr",
     "output_type": "stream",
     "text": [
      " 10%|█         | 5/50 [05:43<51:18, 68.40s/it]"
     ]
    },
    {
     "name": "stdout",
     "output_type": "stream",
     "text": [
      "Epoch [6/50],\tStep [64/938],\tIteraion [4754/46900],\tLoss: 2.2989,\tTime: 0.07\n",
      "Epoch [6/50],\tStep [128/938],\tIteraion [4818/46900],\tLoss: 2.3047,\tTime: 0.06\n",
      "Epoch [6/50],\tStep [192/938],\tIteraion [4882/46900],\tLoss: 2.2996,\tTime: 0.05\n",
      "Epoch [6/50],\tStep [256/938],\tIteraion [4946/46900],\tLoss: 2.2976,\tTime: 0.05\n",
      "Epoch [6/50],\tStep [320/938],\tIteraion [5010/46900],\tLoss: 2.2999,\tTime: 0.07\n",
      "Epoch [6/50],\tStep [384/938],\tIteraion [5074/46900],\tLoss: 2.3000,\tTime: 0.07\n",
      "Epoch [6/50],\tStep [448/938],\tIteraion [5138/46900],\tLoss: 2.2981,\tTime: 0.07\n",
      "Epoch [6/50],\tStep [512/938],\tIteraion [5202/46900],\tLoss: 2.2996,\tTime: 0.06\n",
      "Epoch [6/50],\tStep [576/938],\tIteraion [5266/46900],\tLoss: 2.3006,\tTime: 0.06\n",
      "Epoch [6/50],\tStep [640/938],\tIteraion [5330/46900],\tLoss: 2.2977,\tTime: 0.06\n",
      "Epoch [6/50],\tStep [704/938],\tIteraion [5394/46900],\tLoss: 2.2974,\tTime: 0.08\n",
      "Epoch [6/50],\tStep [768/938],\tIteraion [5458/46900],\tLoss: 2.2981,\tTime: 0.07\n",
      "Epoch [6/50],\tStep [832/938],\tIteraion [5522/46900],\tLoss: 2.3013,\tTime: 0.06\n",
      "Epoch [6/50],\tStep [896/938],\tIteraion [5586/46900],\tLoss: 2.2986,\tTime: 0.08\n"
     ]
    },
    {
     "name": "stderr",
     "output_type": "stream",
     "text": [
      " 12%|█▏        | 6/50 [06:51<50:07, 68.36s/it]"
     ]
    },
    {
     "name": "stdout",
     "output_type": "stream",
     "text": [
      "Epoch [7/50],\tStep [64/938],\tIteraion [5692/46900],\tLoss: 2.3016,\tTime: 0.05\n",
      "Epoch [7/50],\tStep [128/938],\tIteraion [5756/46900],\tLoss: 2.2931,\tTime: 0.05\n",
      "Epoch [7/50],\tStep [192/938],\tIteraion [5820/46900],\tLoss: 2.2972,\tTime: 0.05\n",
      "Epoch [7/50],\tStep [256/938],\tIteraion [5884/46900],\tLoss: 2.2971,\tTime: 0.07\n",
      "Epoch [7/50],\tStep [320/938],\tIteraion [5948/46900],\tLoss: 2.2999,\tTime: 0.07\n",
      "Epoch [7/50],\tStep [384/938],\tIteraion [6012/46900],\tLoss: 2.2970,\tTime: 0.05\n",
      "Epoch [7/50],\tStep [448/938],\tIteraion [6076/46900],\tLoss: 2.2961,\tTime: 0.07\n",
      "Epoch [7/50],\tStep [512/938],\tIteraion [6140/46900],\tLoss: 2.2969,\tTime: 0.08\n",
      "Epoch [7/50],\tStep [576/938],\tIteraion [6204/46900],\tLoss: 2.2948,\tTime: 0.07\n",
      "Epoch [7/50],\tStep [640/938],\tIteraion [6268/46900],\tLoss: 2.2954,\tTime: 0.05\n",
      "Epoch [7/50],\tStep [704/938],\tIteraion [6332/46900],\tLoss: 2.3031,\tTime: 0.07\n",
      "Epoch [7/50],\tStep [768/938],\tIteraion [6396/46900],\tLoss: 2.2971,\tTime: 0.07\n",
      "Epoch [7/50],\tStep [832/938],\tIteraion [6460/46900],\tLoss: 2.2991,\tTime: 0.07\n",
      "Epoch [7/50],\tStep [896/938],\tIteraion [6524/46900],\tLoss: 2.3016,\tTime: 0.05\n"
     ]
    },
    {
     "name": "stderr",
     "output_type": "stream",
     "text": [
      " 14%|█▍        | 7/50 [07:59<48:55, 68.27s/it]"
     ]
    },
    {
     "name": "stdout",
     "output_type": "stream",
     "text": [
      "Epoch [8/50],\tStep [64/938],\tIteraion [6630/46900],\tLoss: 2.2955,\tTime: 0.06\n",
      "Epoch [8/50],\tStep [128/938],\tIteraion [6694/46900],\tLoss: 2.3003,\tTime: 0.06\n",
      "Epoch [8/50],\tStep [192/938],\tIteraion [6758/46900],\tLoss: 2.2987,\tTime: 0.07\n",
      "Epoch [8/50],\tStep [256/938],\tIteraion [6822/46900],\tLoss: 2.2964,\tTime: 0.06\n",
      "Epoch [8/50],\tStep [320/938],\tIteraion [6886/46900],\tLoss: 2.3045,\tTime: 0.06\n",
      "Epoch [8/50],\tStep [384/938],\tIteraion [6950/46900],\tLoss: 2.3002,\tTime: 0.07\n",
      "Epoch [8/50],\tStep [448/938],\tIteraion [7014/46900],\tLoss: 2.2986,\tTime: 0.07\n",
      "Epoch [8/50],\tStep [512/938],\tIteraion [7078/46900],\tLoss: 2.2959,\tTime: 0.07\n",
      "Epoch [8/50],\tStep [576/938],\tIteraion [7142/46900],\tLoss: 2.2935,\tTime: 0.07\n",
      "Epoch [8/50],\tStep [640/938],\tIteraion [7206/46900],\tLoss: 2.2990,\tTime: 0.07\n",
      "Epoch [8/50],\tStep [704/938],\tIteraion [7270/46900],\tLoss: 2.2929,\tTime: 0.07\n",
      "Epoch [8/50],\tStep [768/938],\tIteraion [7334/46900],\tLoss: 2.3011,\tTime: 0.08\n",
      "Epoch [8/50],\tStep [832/938],\tIteraion [7398/46900],\tLoss: 2.2917,\tTime: 0.08\n",
      "Epoch [8/50],\tStep [896/938],\tIteraion [7462/46900],\tLoss: 2.2996,\tTime: 0.07\n"
     ]
    },
    {
     "name": "stderr",
     "output_type": "stream",
     "text": [
      " 16%|█▌        | 8/50 [09:14<49:13, 70.32s/it]"
     ]
    },
    {
     "name": "stdout",
     "output_type": "stream",
     "text": [
      "Epoch [9/50],\tStep [64/938],\tIteraion [7568/46900],\tLoss: 2.2990,\tTime: 0.07\n",
      "Epoch [9/50],\tStep [128/938],\tIteraion [7632/46900],\tLoss: 2.3006,\tTime: 0.07\n",
      "Epoch [9/50],\tStep [192/938],\tIteraion [7696/46900],\tLoss: 2.2949,\tTime: 0.07\n",
      "Epoch [9/50],\tStep [256/938],\tIteraion [7760/46900],\tLoss: 2.2952,\tTime: 0.07\n",
      "Epoch [9/50],\tStep [320/938],\tIteraion [7824/46900],\tLoss: 2.3001,\tTime: 0.07\n",
      "Epoch [9/50],\tStep [384/938],\tIteraion [7888/46900],\tLoss: 2.2988,\tTime: 0.08\n",
      "Epoch [9/50],\tStep [448/938],\tIteraion [7952/46900],\tLoss: 2.2968,\tTime: 0.07\n",
      "Epoch [9/50],\tStep [512/938],\tIteraion [8016/46900],\tLoss: 2.3029,\tTime: 0.07\n",
      "Epoch [9/50],\tStep [576/938],\tIteraion [8080/46900],\tLoss: 2.2988,\tTime: 0.07\n",
      "Epoch [9/50],\tStep [640/938],\tIteraion [8144/46900],\tLoss: 2.2970,\tTime: 0.08\n",
      "Epoch [9/50],\tStep [704/938],\tIteraion [8208/46900],\tLoss: 2.3005,\tTime: 0.08\n",
      "Epoch [9/50],\tStep [768/938],\tIteraion [8272/46900],\tLoss: 2.2970,\tTime: 0.07\n",
      "Epoch [9/50],\tStep [832/938],\tIteraion [8336/46900],\tLoss: 2.2987,\tTime: 0.07\n",
      "Epoch [9/50],\tStep [896/938],\tIteraion [8400/46900],\tLoss: 2.2994,\tTime: 0.07\n"
     ]
    },
    {
     "name": "stderr",
     "output_type": "stream",
     "text": [
      " 18%|█▊        | 9/50 [10:34<50:01, 73.20s/it]"
     ]
    },
    {
     "name": "stdout",
     "output_type": "stream",
     "text": [
      "Epoch [10/50],\tStep [64/938],\tIteraion [8506/46900],\tLoss: 2.2930,\tTime: 0.07\n",
      "Epoch [10/50],\tStep [128/938],\tIteraion [8570/46900],\tLoss: 2.2952,\tTime: 0.07\n",
      "Epoch [10/50],\tStep [192/938],\tIteraion [8634/46900],\tLoss: 2.2990,\tTime: 0.07\n",
      "Epoch [10/50],\tStep [256/938],\tIteraion [8698/46900],\tLoss: 2.2995,\tTime: 0.07\n",
      "Epoch [10/50],\tStep [320/938],\tIteraion [8762/46900],\tLoss: 2.2947,\tTime: 0.08\n",
      "Epoch [10/50],\tStep [384/938],\tIteraion [8826/46900],\tLoss: 2.3000,\tTime: 0.07\n",
      "Epoch [10/50],\tStep [448/938],\tIteraion [8890/46900],\tLoss: 2.2976,\tTime: 0.07\n",
      "Epoch [10/50],\tStep [512/938],\tIteraion [8954/46900],\tLoss: 2.3010,\tTime: 0.08\n",
      "Epoch [10/50],\tStep [576/938],\tIteraion [9018/46900],\tLoss: 2.3011,\tTime: 0.08\n",
      "Epoch [10/50],\tStep [640/938],\tIteraion [9082/46900],\tLoss: 2.2946,\tTime: 0.07\n",
      "Epoch [10/50],\tStep [704/938],\tIteraion [9146/46900],\tLoss: 2.2990,\tTime: 0.08\n",
      "Epoch [10/50],\tStep [768/938],\tIteraion [9210/46900],\tLoss: 2.2998,\tTime: 0.08\n",
      "Epoch [10/50],\tStep [832/938],\tIteraion [9274/46900],\tLoss: 2.2942,\tTime: 0.07\n",
      "Epoch [10/50],\tStep [896/938],\tIteraion [9338/46900],\tLoss: 2.2954,\tTime: 0.07\n"
     ]
    },
    {
     "name": "stderr",
     "output_type": "stream",
     "text": [
      " 20%|██        | 10/50 [11:53<50:08, 75.22s/it]"
     ]
    },
    {
     "name": "stdout",
     "output_type": "stream",
     "text": [
      "Epoch [11/50],\tStep [64/938],\tIteraion [9444/46900],\tLoss: 2.3000,\tTime: 0.07\n",
      "Epoch [11/50],\tStep [128/938],\tIteraion [9508/46900],\tLoss: 2.2999,\tTime: 0.08\n",
      "Epoch [11/50],\tStep [192/938],\tIteraion [9572/46900],\tLoss: 2.2897,\tTime: 0.07\n",
      "Epoch [11/50],\tStep [256/938],\tIteraion [9636/46900],\tLoss: 2.2913,\tTime: 0.07\n",
      "Epoch [11/50],\tStep [320/938],\tIteraion [9700/46900],\tLoss: 2.2981,\tTime: 0.07\n",
      "Epoch [11/50],\tStep [384/938],\tIteraion [9764/46900],\tLoss: 2.2972,\tTime: 0.07\n",
      "Epoch [11/50],\tStep [448/938],\tIteraion [9828/46900],\tLoss: 2.2962,\tTime: 0.07\n",
      "Epoch [11/50],\tStep [512/938],\tIteraion [9892/46900],\tLoss: 2.3015,\tTime: 0.07\n",
      "Epoch [11/50],\tStep [576/938],\tIteraion [9956/46900],\tLoss: 2.2953,\tTime: 0.08\n",
      "Epoch [11/50],\tStep [640/938],\tIteraion [10020/46900],\tLoss: 2.2961,\tTime: 0.07\n",
      "Epoch [11/50],\tStep [704/938],\tIteraion [10084/46900],\tLoss: 2.2969,\tTime: 0.07\n",
      "Epoch [11/50],\tStep [768/938],\tIteraion [10148/46900],\tLoss: 2.3004,\tTime: 0.08\n",
      "Epoch [11/50],\tStep [832/938],\tIteraion [10212/46900],\tLoss: 2.2977,\tTime: 0.07\n",
      "Epoch [11/50],\tStep [896/938],\tIteraion [10276/46900],\tLoss: 2.2984,\tTime: 0.07\n"
     ]
    },
    {
     "name": "stderr",
     "output_type": "stream",
     "text": [
      " 22%|██▏       | 11/50 [13:13<49:46, 76.57s/it]"
     ]
    },
    {
     "name": "stdout",
     "output_type": "stream",
     "text": [
      "Epoch [12/50],\tStep [64/938],\tIteraion [10382/46900],\tLoss: 2.2965,\tTime: 0.07\n",
      "Epoch [12/50],\tStep [128/938],\tIteraion [10446/46900],\tLoss: 2.2926,\tTime: 0.07\n",
      "Epoch [12/50],\tStep [192/938],\tIteraion [10510/46900],\tLoss: 2.2994,\tTime: 0.08\n",
      "Epoch [12/50],\tStep [256/938],\tIteraion [10574/46900],\tLoss: 2.2978,\tTime: 0.08\n",
      "Epoch [12/50],\tStep [320/938],\tIteraion [10638/46900],\tLoss: 2.2975,\tTime: 0.08\n",
      "Epoch [12/50],\tStep [384/938],\tIteraion [10702/46900],\tLoss: 2.2911,\tTime: 0.08\n",
      "Epoch [12/50],\tStep [448/938],\tIteraion [10766/46900],\tLoss: 2.2939,\tTime: 0.07\n",
      "Epoch [12/50],\tStep [512/938],\tIteraion [10830/46900],\tLoss: 2.2977,\tTime: 0.08\n",
      "Epoch [12/50],\tStep [576/938],\tIteraion [10894/46900],\tLoss: 2.2963,\tTime: 0.08\n",
      "Epoch [12/50],\tStep [640/938],\tIteraion [10958/46900],\tLoss: 2.2925,\tTime: 0.07\n",
      "Epoch [12/50],\tStep [704/938],\tIteraion [11022/46900],\tLoss: 2.2971,\tTime: 0.07\n",
      "Epoch [12/50],\tStep [768/938],\tIteraion [11086/46900],\tLoss: 2.2941,\tTime: 0.08\n",
      "Epoch [12/50],\tStep [832/938],\tIteraion [11150/46900],\tLoss: 2.2918,\tTime: 0.07\n",
      "Epoch [12/50],\tStep [896/938],\tIteraion [11214/46900],\tLoss: 2.2934,\tTime: 0.07\n"
     ]
    },
    {
     "name": "stderr",
     "output_type": "stream",
     "text": [
      " 24%|██▍       | 12/50 [14:33<49:05, 77.51s/it]"
     ]
    },
    {
     "name": "stdout",
     "output_type": "stream",
     "text": [
      "Epoch [13/50],\tStep [64/938],\tIteraion [11320/46900],\tLoss: 2.2976,\tTime: 0.07\n",
      "Epoch [13/50],\tStep [128/938],\tIteraion [11384/46900],\tLoss: 2.3003,\tTime: 0.07\n",
      "Epoch [13/50],\tStep [192/938],\tIteraion [11448/46900],\tLoss: 2.2972,\tTime: 0.07\n",
      "Epoch [13/50],\tStep [256/938],\tIteraion [11512/46900],\tLoss: 2.2965,\tTime: 0.07\n",
      "Epoch [13/50],\tStep [320/938],\tIteraion [11576/46900],\tLoss: 2.3007,\tTime: 0.08\n",
      "Epoch [13/50],\tStep [384/938],\tIteraion [11640/46900],\tLoss: 2.2958,\tTime: 0.07\n",
      "Epoch [13/50],\tStep [448/938],\tIteraion [11704/46900],\tLoss: 2.2954,\tTime: 0.07\n",
      "Epoch [13/50],\tStep [512/938],\tIteraion [11768/46900],\tLoss: 2.2919,\tTime: 0.08\n",
      "Epoch [13/50],\tStep [576/938],\tIteraion [11832/46900],\tLoss: 2.2922,\tTime: 0.07\n",
      "Epoch [13/50],\tStep [640/938],\tIteraion [11896/46900],\tLoss: 2.2952,\tTime: 0.07\n",
      "Epoch [13/50],\tStep [704/938],\tIteraion [11960/46900],\tLoss: 2.2954,\tTime: 0.07\n",
      "Epoch [13/50],\tStep [768/938],\tIteraion [12024/46900],\tLoss: 2.2991,\tTime: 0.08\n",
      "Epoch [13/50],\tStep [832/938],\tIteraion [12088/46900],\tLoss: 2.2950,\tTime: 0.07\n",
      "Epoch [13/50],\tStep [896/938],\tIteraion [12152/46900],\tLoss: 2.2958,\tTime: 0.07\n"
     ]
    },
    {
     "name": "stderr",
     "output_type": "stream",
     "text": [
      " 26%|██▌       | 13/50 [15:52<48:11, 78.15s/it]"
     ]
    },
    {
     "name": "stdout",
     "output_type": "stream",
     "text": [
      "Epoch [14/50],\tStep [64/938],\tIteraion [12258/46900],\tLoss: 2.2948,\tTime: 0.07\n",
      "Epoch [14/50],\tStep [128/938],\tIteraion [12322/46900],\tLoss: 2.2927,\tTime: 0.07\n",
      "Epoch [14/50],\tStep [192/938],\tIteraion [12386/46900],\tLoss: 2.2938,\tTime: 0.07\n",
      "Epoch [14/50],\tStep [256/938],\tIteraion [12450/46900],\tLoss: 2.2916,\tTime: 0.08\n",
      "Epoch [14/50],\tStep [320/938],\tIteraion [12514/46900],\tLoss: 2.2952,\tTime: 0.07\n",
      "Epoch [14/50],\tStep [384/938],\tIteraion [12578/46900],\tLoss: 2.2980,\tTime: 0.08\n",
      "Epoch [14/50],\tStep [448/938],\tIteraion [12642/46900],\tLoss: 2.2967,\tTime: 0.07\n",
      "Epoch [14/50],\tStep [512/938],\tIteraion [12706/46900],\tLoss: 2.2959,\tTime: 0.07\n",
      "Epoch [14/50],\tStep [576/938],\tIteraion [12770/46900],\tLoss: 2.2943,\tTime: 0.07\n",
      "Epoch [14/50],\tStep [640/938],\tIteraion [12834/46900],\tLoss: 2.2953,\tTime: 0.07\n",
      "Epoch [14/50],\tStep [704/938],\tIteraion [12898/46900],\tLoss: 2.2965,\tTime: 0.08\n",
      "Epoch [14/50],\tStep [768/938],\tIteraion [12962/46900],\tLoss: 2.2965,\tTime: 0.07\n",
      "Epoch [14/50],\tStep [832/938],\tIteraion [13026/46900],\tLoss: 2.2997,\tTime: 0.07\n",
      "Epoch [14/50],\tStep [896/938],\tIteraion [13090/46900],\tLoss: 2.3014,\tTime: 0.08\n"
     ]
    },
    {
     "name": "stderr",
     "output_type": "stream",
     "text": [
      " 28%|██▊       | 14/50 [17:12<47:09, 78.61s/it]"
     ]
    },
    {
     "name": "stdout",
     "output_type": "stream",
     "text": [
      "Epoch [15/50],\tStep [64/938],\tIteraion [13196/46900],\tLoss: 2.2946,\tTime: 0.08\n",
      "Epoch [15/50],\tStep [128/938],\tIteraion [13260/46900],\tLoss: 2.2923,\tTime: 0.08\n",
      "Epoch [15/50],\tStep [192/938],\tIteraion [13324/46900],\tLoss: 2.2940,\tTime: 0.07\n",
      "Epoch [15/50],\tStep [256/938],\tIteraion [13388/46900],\tLoss: 2.2928,\tTime: 0.07\n",
      "Epoch [15/50],\tStep [320/938],\tIteraion [13452/46900],\tLoss: 2.2943,\tTime: 0.07\n",
      "Epoch [15/50],\tStep [384/938],\tIteraion [13516/46900],\tLoss: 2.2927,\tTime: 0.07\n",
      "Epoch [15/50],\tStep [448/938],\tIteraion [13580/46900],\tLoss: 2.2947,\tTime: 0.07\n",
      "Epoch [15/50],\tStep [512/938],\tIteraion [13644/46900],\tLoss: 2.2954,\tTime: 0.07\n",
      "Epoch [15/50],\tStep [576/938],\tIteraion [13708/46900],\tLoss: 2.2963,\tTime: 0.08\n",
      "Epoch [15/50],\tStep [640/938],\tIteraion [13772/46900],\tLoss: 2.2988,\tTime: 0.08\n",
      "Epoch [15/50],\tStep [704/938],\tIteraion [13836/46900],\tLoss: 2.2950,\tTime: 0.08\n",
      "Epoch [15/50],\tStep [768/938],\tIteraion [13900/46900],\tLoss: 2.2971,\tTime: 0.08\n",
      "Epoch [15/50],\tStep [832/938],\tIteraion [13964/46900],\tLoss: 2.2954,\tTime: 0.08\n",
      "Epoch [15/50],\tStep [896/938],\tIteraion [14028/46900],\tLoss: 2.2945,\tTime: 0.08\n"
     ]
    },
    {
     "name": "stderr",
     "output_type": "stream",
     "text": [
      " 30%|███       | 15/50 [18:32<46:02, 78.92s/it]"
     ]
    },
    {
     "name": "stdout",
     "output_type": "stream",
     "text": [
      "Epoch [16/50],\tStep [64/938],\tIteraion [14134/46900],\tLoss: 2.2884,\tTime: 0.08\n",
      "Epoch [16/50],\tStep [128/938],\tIteraion [14198/46900],\tLoss: 2.2979,\tTime: 0.08\n",
      "Epoch [16/50],\tStep [192/938],\tIteraion [14262/46900],\tLoss: 2.2982,\tTime: 0.07\n",
      "Epoch [16/50],\tStep [256/938],\tIteraion [14326/46900],\tLoss: 2.2900,\tTime: 0.07\n",
      "Epoch [16/50],\tStep [320/938],\tIteraion [14390/46900],\tLoss: 2.2959,\tTime: 0.08\n",
      "Epoch [16/50],\tStep [384/938],\tIteraion [14454/46900],\tLoss: 2.2926,\tTime: 0.08\n",
      "Epoch [16/50],\tStep [448/938],\tIteraion [14518/46900],\tLoss: 2.2977,\tTime: 0.07\n",
      "Epoch [16/50],\tStep [512/938],\tIteraion [14582/46900],\tLoss: 2.2915,\tTime: 0.07\n",
      "Epoch [16/50],\tStep [576/938],\tIteraion [14646/46900],\tLoss: 2.2953,\tTime: 0.07\n",
      "Epoch [16/50],\tStep [640/938],\tIteraion [14710/46900],\tLoss: 2.2972,\tTime: 0.07\n",
      "Epoch [16/50],\tStep [704/938],\tIteraion [14774/46900],\tLoss: 2.2948,\tTime: 0.07\n",
      "Epoch [16/50],\tStep [768/938],\tIteraion [14838/46900],\tLoss: 2.2937,\tTime: 0.07\n",
      "Epoch [16/50],\tStep [832/938],\tIteraion [14902/46900],\tLoss: 2.2915,\tTime: 0.07\n",
      "Epoch [16/50],\tStep [896/938],\tIteraion [14966/46900],\tLoss: 2.2944,\tTime: 0.07\n"
     ]
    },
    {
     "name": "stderr",
     "output_type": "stream",
     "text": [
      " 32%|███▏      | 16/50 [19:51<44:51, 79.17s/it]"
     ]
    },
    {
     "name": "stdout",
     "output_type": "stream",
     "text": [
      "Epoch [17/50],\tStep [64/938],\tIteraion [15072/46900],\tLoss: 2.2955,\tTime: 0.08\n",
      "Epoch [17/50],\tStep [128/938],\tIteraion [15136/46900],\tLoss: 2.2997,\tTime: 0.07\n",
      "Epoch [17/50],\tStep [192/938],\tIteraion [15200/46900],\tLoss: 2.2956,\tTime: 0.08\n",
      "Epoch [17/50],\tStep [256/938],\tIteraion [15264/46900],\tLoss: 2.2936,\tTime: 0.07\n",
      "Epoch [17/50],\tStep [320/938],\tIteraion [15328/46900],\tLoss: 2.2928,\tTime: 0.08\n",
      "Epoch [17/50],\tStep [384/938],\tIteraion [15392/46900],\tLoss: 2.2961,\tTime: 0.08\n",
      "Epoch [17/50],\tStep [448/938],\tIteraion [15456/46900],\tLoss: 2.2949,\tTime: 0.07\n",
      "Epoch [17/50],\tStep [512/938],\tIteraion [15520/46900],\tLoss: 2.2896,\tTime: 0.07\n",
      "Epoch [17/50],\tStep [576/938],\tIteraion [15584/46900],\tLoss: 2.2970,\tTime: 0.07\n",
      "Epoch [17/50],\tStep [640/938],\tIteraion [15648/46900],\tLoss: 2.2966,\tTime: 0.07\n",
      "Epoch [17/50],\tStep [704/938],\tIteraion [15712/46900],\tLoss: 2.2962,\tTime: 0.07\n",
      "Epoch [17/50],\tStep [768/938],\tIteraion [15776/46900],\tLoss: 2.2911,\tTime: 0.07\n",
      "Epoch [17/50],\tStep [832/938],\tIteraion [15840/46900],\tLoss: 2.2966,\tTime: 0.07\n",
      "Epoch [17/50],\tStep [896/938],\tIteraion [15904/46900],\tLoss: 2.2960,\tTime: 0.07\n"
     ]
    },
    {
     "name": "stderr",
     "output_type": "stream",
     "text": [
      " 34%|███▍      | 17/50 [21:11<43:36, 79.28s/it]"
     ]
    },
    {
     "name": "stdout",
     "output_type": "stream",
     "text": [
      "Epoch [18/50],\tStep [64/938],\tIteraion [16010/46900],\tLoss: 2.2957,\tTime: 0.07\n",
      "Epoch [18/50],\tStep [128/938],\tIteraion [16074/46900],\tLoss: 2.2944,\tTime: 0.07\n",
      "Epoch [18/50],\tStep [192/938],\tIteraion [16138/46900],\tLoss: 2.2989,\tTime: 0.08\n",
      "Epoch [18/50],\tStep [256/938],\tIteraion [16202/46900],\tLoss: 2.2931,\tTime: 0.07\n",
      "Epoch [18/50],\tStep [320/938],\tIteraion [16266/46900],\tLoss: 2.2985,\tTime: 0.08\n",
      "Epoch [18/50],\tStep [384/938],\tIteraion [16330/46900],\tLoss: 2.2934,\tTime: 0.07\n",
      "Epoch [18/50],\tStep [448/938],\tIteraion [16394/46900],\tLoss: 2.2897,\tTime: 0.07\n",
      "Epoch [18/50],\tStep [512/938],\tIteraion [16458/46900],\tLoss: 2.2973,\tTime: 0.07\n",
      "Epoch [18/50],\tStep [576/938],\tIteraion [16522/46900],\tLoss: 2.2990,\tTime: 0.07\n",
      "Epoch [18/50],\tStep [640/938],\tIteraion [16586/46900],\tLoss: 2.2985,\tTime: 0.07\n",
      "Epoch [18/50],\tStep [704/938],\tIteraion [16650/46900],\tLoss: 2.2934,\tTime: 0.07\n",
      "Epoch [18/50],\tStep [768/938],\tIteraion [16714/46900],\tLoss: 2.3004,\tTime: 0.07\n",
      "Epoch [18/50],\tStep [832/938],\tIteraion [16778/46900],\tLoss: 2.2919,\tTime: 0.07\n",
      "Epoch [18/50],\tStep [896/938],\tIteraion [16842/46900],\tLoss: 2.2945,\tTime: 0.07\n"
     ]
    },
    {
     "name": "stderr",
     "output_type": "stream",
     "text": [
      " 36%|███▌      | 18/50 [22:31<42:19, 79.37s/it]"
     ]
    },
    {
     "name": "stdout",
     "output_type": "stream",
     "text": [
      "Epoch [19/50],\tStep [64/938],\tIteraion [16948/46900],\tLoss: 2.2924,\tTime: 0.07\n",
      "Epoch [19/50],\tStep [128/938],\tIteraion [17012/46900],\tLoss: 2.3017,\tTime: 0.07\n",
      "Epoch [19/50],\tStep [192/938],\tIteraion [17076/46900],\tLoss: 2.2933,\tTime: 0.08\n",
      "Epoch [19/50],\tStep [256/938],\tIteraion [17140/46900],\tLoss: 2.2949,\tTime: 0.07\n",
      "Epoch [19/50],\tStep [320/938],\tIteraion [17204/46900],\tLoss: 2.2881,\tTime: 0.08\n",
      "Epoch [19/50],\tStep [384/938],\tIteraion [17268/46900],\tLoss: 2.2964,\tTime: 0.07\n",
      "Epoch [19/50],\tStep [448/938],\tIteraion [17332/46900],\tLoss: 2.2921,\tTime: 0.07\n",
      "Epoch [19/50],\tStep [512/938],\tIteraion [17396/46900],\tLoss: 2.2939,\tTime: 0.07\n",
      "Epoch [19/50],\tStep [576/938],\tIteraion [17460/46900],\tLoss: 2.2970,\tTime: 0.07\n",
      "Epoch [19/50],\tStep [640/938],\tIteraion [17524/46900],\tLoss: 2.2895,\tTime: 0.07\n",
      "Epoch [19/50],\tStep [704/938],\tIteraion [17588/46900],\tLoss: 2.2950,\tTime: 0.07\n",
      "Epoch [19/50],\tStep [768/938],\tIteraion [17652/46900],\tLoss: 2.2968,\tTime: 0.07\n",
      "Epoch [19/50],\tStep [832/938],\tIteraion [17716/46900],\tLoss: 2.2948,\tTime: 0.08\n",
      "Epoch [19/50],\tStep [896/938],\tIteraion [17780/46900],\tLoss: 2.2970,\tTime: 0.07\n"
     ]
    },
    {
     "name": "stderr",
     "output_type": "stream",
     "text": [
      " 38%|███▊      | 19/50 [23:50<41:03, 79.45s/it]"
     ]
    },
    {
     "name": "stdout",
     "output_type": "stream",
     "text": [
      "Epoch [20/50],\tStep [64/938],\tIteraion [17886/46900],\tLoss: 2.2944,\tTime: 0.08\n",
      "Epoch [20/50],\tStep [128/938],\tIteraion [17950/46900],\tLoss: 2.2912,\tTime: 0.08\n",
      "Epoch [20/50],\tStep [192/938],\tIteraion [18014/46900],\tLoss: 2.2925,\tTime: 0.07\n",
      "Epoch [20/50],\tStep [256/938],\tIteraion [18078/46900],\tLoss: 2.2956,\tTime: 0.07\n",
      "Epoch [20/50],\tStep [320/938],\tIteraion [18142/46900],\tLoss: 2.2936,\tTime: 0.07\n",
      "Epoch [20/50],\tStep [384/938],\tIteraion [18206/46900],\tLoss: 2.2956,\tTime: 0.08\n",
      "Epoch [20/50],\tStep [448/938],\tIteraion [18270/46900],\tLoss: 2.2952,\tTime: 0.08\n",
      "Epoch [20/50],\tStep [512/938],\tIteraion [18334/46900],\tLoss: 2.2936,\tTime: 0.07\n",
      "Epoch [20/50],\tStep [576/938],\tIteraion [18398/46900],\tLoss: 2.2946,\tTime: 0.07\n",
      "Epoch [20/50],\tStep [640/938],\tIteraion [18462/46900],\tLoss: 2.2919,\tTime: 0.08\n",
      "Epoch [20/50],\tStep [704/938],\tIteraion [18526/46900],\tLoss: 2.2937,\tTime: 0.08\n",
      "Epoch [20/50],\tStep [768/938],\tIteraion [18590/46900],\tLoss: 2.2999,\tTime: 0.08\n",
      "Epoch [20/50],\tStep [832/938],\tIteraion [18654/46900],\tLoss: 2.2910,\tTime: 0.07\n",
      "Epoch [20/50],\tStep [896/938],\tIteraion [18718/46900],\tLoss: 2.2931,\tTime: 0.07\n"
     ]
    },
    {
     "name": "stderr",
     "output_type": "stream",
     "text": [
      " 40%|████      | 20/50 [25:10<39:46, 79.53s/it]"
     ]
    },
    {
     "name": "stdout",
     "output_type": "stream",
     "text": [
      "Epoch [21/50],\tStep [64/938],\tIteraion [18824/46900],\tLoss: 2.2935,\tTime: 0.08\n",
      "Epoch [21/50],\tStep [128/938],\tIteraion [18888/46900],\tLoss: 2.2964,\tTime: 0.07\n",
      "Epoch [21/50],\tStep [192/938],\tIteraion [18952/46900],\tLoss: 2.2979,\tTime: 0.08\n",
      "Epoch [21/50],\tStep [256/938],\tIteraion [19016/46900],\tLoss: 2.2937,\tTime: 0.07\n",
      "Epoch [21/50],\tStep [320/938],\tIteraion [19080/46900],\tLoss: 2.2932,\tTime: 0.07\n",
      "Epoch [21/50],\tStep [384/938],\tIteraion [19144/46900],\tLoss: 2.3001,\tTime: 0.07\n",
      "Epoch [21/50],\tStep [448/938],\tIteraion [19208/46900],\tLoss: 2.2953,\tTime: 0.07\n",
      "Epoch [21/50],\tStep [512/938],\tIteraion [19272/46900],\tLoss: 2.2959,\tTime: 0.07\n",
      "Epoch [21/50],\tStep [576/938],\tIteraion [19336/46900],\tLoss: 2.2969,\tTime: 0.08\n",
      "Epoch [21/50],\tStep [640/938],\tIteraion [19400/46900],\tLoss: 2.2943,\tTime: 0.07\n",
      "Epoch [21/50],\tStep [704/938],\tIteraion [19464/46900],\tLoss: 2.2972,\tTime: 0.07\n",
      "Epoch [21/50],\tStep [768/938],\tIteraion [19528/46900],\tLoss: 2.2957,\tTime: 0.08\n",
      "Epoch [21/50],\tStep [832/938],\tIteraion [19592/46900],\tLoss: 2.2949,\tTime: 0.07\n",
      "Epoch [21/50],\tStep [896/938],\tIteraion [19656/46900],\tLoss: 2.2951,\tTime: 0.08\n"
     ]
    },
    {
     "name": "stderr",
     "output_type": "stream",
     "text": [
      " 42%|████▏     | 21/50 [26:30<38:29, 79.64s/it]"
     ]
    },
    {
     "name": "stdout",
     "output_type": "stream",
     "text": [
      "Epoch [22/50],\tStep [64/938],\tIteraion [19762/46900],\tLoss: 2.2938,\tTime: 0.07\n",
      "Epoch [22/50],\tStep [128/938],\tIteraion [19826/46900],\tLoss: 2.2942,\tTime: 0.07\n",
      "Epoch [22/50],\tStep [192/938],\tIteraion [19890/46900],\tLoss: 2.2960,\tTime: 0.07\n",
      "Epoch [22/50],\tStep [256/938],\tIteraion [19954/46900],\tLoss: 2.2890,\tTime: 0.08\n",
      "Epoch [22/50],\tStep [320/938],\tIteraion [20018/46900],\tLoss: 2.2957,\tTime: 0.08\n",
      "Epoch [22/50],\tStep [384/938],\tIteraion [20082/46900],\tLoss: 2.2995,\tTime: 0.07\n",
      "Epoch [22/50],\tStep [448/938],\tIteraion [20146/46900],\tLoss: 2.2934,\tTime: 0.07\n",
      "Epoch [22/50],\tStep [512/938],\tIteraion [20210/46900],\tLoss: 2.2878,\tTime: 0.07\n",
      "Epoch [22/50],\tStep [576/938],\tIteraion [20274/46900],\tLoss: 2.2874,\tTime: 0.07\n",
      "Epoch [22/50],\tStep [640/938],\tIteraion [20338/46900],\tLoss: 2.2929,\tTime: 0.07\n",
      "Epoch [22/50],\tStep [704/938],\tIteraion [20402/46900],\tLoss: 2.2877,\tTime: 0.08\n",
      "Epoch [22/50],\tStep [768/938],\tIteraion [20466/46900],\tLoss: 2.2981,\tTime: 0.08\n",
      "Epoch [22/50],\tStep [832/938],\tIteraion [20530/46900],\tLoss: 2.2902,\tTime: 0.07\n",
      "Epoch [22/50],\tStep [896/938],\tIteraion [20594/46900],\tLoss: 2.2949,\tTime: 0.07\n"
     ]
    },
    {
     "name": "stderr",
     "output_type": "stream",
     "text": [
      " 44%|████▍     | 22/50 [27:49<37:09, 79.63s/it]"
     ]
    },
    {
     "name": "stdout",
     "output_type": "stream",
     "text": [
      "Epoch [23/50],\tStep [64/938],\tIteraion [20700/46900],\tLoss: 2.2947,\tTime: 0.07\n",
      "Epoch [23/50],\tStep [128/938],\tIteraion [20764/46900],\tLoss: 2.2924,\tTime: 0.07\n",
      "Epoch [23/50],\tStep [192/938],\tIteraion [20828/46900],\tLoss: 2.2874,\tTime: 0.07\n",
      "Epoch [23/50],\tStep [256/938],\tIteraion [20892/46900],\tLoss: 2.2970,\tTime: 0.07\n",
      "Epoch [23/50],\tStep [320/938],\tIteraion [20956/46900],\tLoss: 2.2981,\tTime: 0.07\n",
      "Epoch [23/50],\tStep [384/938],\tIteraion [21020/46900],\tLoss: 2.2969,\tTime: 0.07\n",
      "Epoch [23/50],\tStep [448/938],\tIteraion [21084/46900],\tLoss: 2.2931,\tTime: 0.08\n",
      "Epoch [23/50],\tStep [512/938],\tIteraion [21148/46900],\tLoss: 2.2926,\tTime: 0.07\n",
      "Epoch [23/50],\tStep [576/938],\tIteraion [21212/46900],\tLoss: 2.2944,\tTime: 0.07\n",
      "Epoch [23/50],\tStep [640/938],\tIteraion [21276/46900],\tLoss: 2.2921,\tTime: 0.08\n",
      "Epoch [23/50],\tStep [704/938],\tIteraion [21340/46900],\tLoss: 2.2997,\tTime: 0.07\n",
      "Epoch [23/50],\tStep [768/938],\tIteraion [21404/46900],\tLoss: 2.2950,\tTime: 0.07\n",
      "Epoch [23/50],\tStep [832/938],\tIteraion [21468/46900],\tLoss: 2.2916,\tTime: 0.08\n",
      "Epoch [23/50],\tStep [896/938],\tIteraion [21532/46900],\tLoss: 2.2945,\tTime: 0.07\n"
     ]
    },
    {
     "name": "stderr",
     "output_type": "stream",
     "text": [
      " 46%|████▌     | 23/50 [29:09<35:50, 79.64s/it]"
     ]
    },
    {
     "name": "stdout",
     "output_type": "stream",
     "text": [
      "Epoch [24/50],\tStep [64/938],\tIteraion [21638/46900],\tLoss: 2.2936,\tTime: 0.07\n",
      "Epoch [24/50],\tStep [128/938],\tIteraion [21702/46900],\tLoss: 2.2919,\tTime: 0.07\n",
      "Epoch [24/50],\tStep [192/938],\tIteraion [21766/46900],\tLoss: 2.2949,\tTime: 0.07\n",
      "Epoch [24/50],\tStep [256/938],\tIteraion [21830/46900],\tLoss: 2.2931,\tTime: 0.08\n",
      "Epoch [24/50],\tStep [320/938],\tIteraion [21894/46900],\tLoss: 2.2969,\tTime: 0.07\n",
      "Epoch [24/50],\tStep [384/938],\tIteraion [21958/46900],\tLoss: 2.2865,\tTime: 0.08\n",
      "Epoch [24/50],\tStep [448/938],\tIteraion [22022/46900],\tLoss: 2.2955,\tTime: 0.08\n",
      "Epoch [24/50],\tStep [512/938],\tIteraion [22086/46900],\tLoss: 2.2906,\tTime: 0.06\n",
      "Epoch [24/50],\tStep [576/938],\tIteraion [22150/46900],\tLoss: 2.2967,\tTime: 0.08\n",
      "Epoch [24/50],\tStep [640/938],\tIteraion [22214/46900],\tLoss: 2.2973,\tTime: 0.07\n",
      "Epoch [24/50],\tStep [704/938],\tIteraion [22278/46900],\tLoss: 2.2942,\tTime: 0.07\n",
      "Epoch [24/50],\tStep [768/938],\tIteraion [22342/46900],\tLoss: 2.2937,\tTime: 0.08\n",
      "Epoch [24/50],\tStep [832/938],\tIteraion [22406/46900],\tLoss: 2.2952,\tTime: 0.07\n",
      "Epoch [24/50],\tStep [896/938],\tIteraion [22470/46900],\tLoss: 2.2869,\tTime: 0.07\n"
     ]
    },
    {
     "name": "stderr",
     "output_type": "stream",
     "text": [
      " 48%|████▊     | 24/50 [30:29<34:29, 79.60s/it]"
     ]
    },
    {
     "name": "stdout",
     "output_type": "stream",
     "text": [
      "Epoch [25/50],\tStep [64/938],\tIteraion [22576/46900],\tLoss: 2.2928,\tTime: 0.08\n",
      "Epoch [25/50],\tStep [128/938],\tIteraion [22640/46900],\tLoss: 2.2943,\tTime: 0.08\n",
      "Epoch [25/50],\tStep [192/938],\tIteraion [22704/46900],\tLoss: 2.2970,\tTime: 0.07\n",
      "Epoch [25/50],\tStep [256/938],\tIteraion [22768/46900],\tLoss: 2.2899,\tTime: 0.07\n",
      "Epoch [25/50],\tStep [320/938],\tIteraion [22832/46900],\tLoss: 2.2959,\tTime: 0.07\n",
      "Epoch [25/50],\tStep [384/938],\tIteraion [22896/46900],\tLoss: 2.2880,\tTime: 0.07\n",
      "Epoch [25/50],\tStep [448/938],\tIteraion [22960/46900],\tLoss: 2.2981,\tTime: 0.07\n",
      "Epoch [25/50],\tStep [512/938],\tIteraion [23024/46900],\tLoss: 2.2941,\tTime: 0.07\n",
      "Epoch [25/50],\tStep [576/938],\tIteraion [23088/46900],\tLoss: 2.2953,\tTime: 0.07\n",
      "Epoch [25/50],\tStep [640/938],\tIteraion [23152/46900],\tLoss: 2.2915,\tTime: 0.07\n",
      "Epoch [25/50],\tStep [704/938],\tIteraion [23216/46900],\tLoss: 2.2913,\tTime: 0.06\n",
      "Epoch [25/50],\tStep [768/938],\tIteraion [23280/46900],\tLoss: 2.2912,\tTime: 0.07\n",
      "Epoch [25/50],\tStep [832/938],\tIteraion [23344/46900],\tLoss: 2.2935,\tTime: 0.07\n",
      "Epoch [25/50],\tStep [896/938],\tIteraion [23408/46900],\tLoss: 2.2881,\tTime: 0.07\n"
     ]
    },
    {
     "name": "stderr",
     "output_type": "stream",
     "text": [
      " 50%|█████     | 25/50 [31:48<33:11, 79.64s/it]"
     ]
    },
    {
     "name": "stdout",
     "output_type": "stream",
     "text": [
      "Epoch [26/50],\tStep [64/938],\tIteraion [23514/46900],\tLoss: 2.2929,\tTime: 0.07\n",
      "Epoch [26/50],\tStep [128/938],\tIteraion [23578/46900],\tLoss: 2.2938,\tTime: 0.08\n",
      "Epoch [26/50],\tStep [192/938],\tIteraion [23642/46900],\tLoss: 2.2899,\tTime: 0.08\n",
      "Epoch [26/50],\tStep [256/938],\tIteraion [23706/46900],\tLoss: 2.2925,\tTime: 0.07\n",
      "Epoch [26/50],\tStep [320/938],\tIteraion [23770/46900],\tLoss: 2.2927,\tTime: 0.07\n",
      "Epoch [26/50],\tStep [384/938],\tIteraion [23834/46900],\tLoss: 2.2883,\tTime: 0.07\n",
      "Epoch [26/50],\tStep [448/938],\tIteraion [23898/46900],\tLoss: 2.2934,\tTime: 0.07\n",
      "Epoch [26/50],\tStep [512/938],\tIteraion [23962/46900],\tLoss: 2.2864,\tTime: 0.07\n",
      "Epoch [26/50],\tStep [576/938],\tIteraion [24026/46900],\tLoss: 2.2965,\tTime: 0.07\n",
      "Epoch [26/50],\tStep [640/938],\tIteraion [24090/46900],\tLoss: 2.2912,\tTime: 0.07\n",
      "Epoch [26/50],\tStep [704/938],\tIteraion [24154/46900],\tLoss: 2.2926,\tTime: 0.07\n",
      "Epoch [26/50],\tStep [768/938],\tIteraion [24218/46900],\tLoss: 2.2961,\tTime: 0.07\n",
      "Epoch [26/50],\tStep [832/938],\tIteraion [24282/46900],\tLoss: 2.2906,\tTime: 0.07\n",
      "Epoch [26/50],\tStep [896/938],\tIteraion [24346/46900],\tLoss: 2.2952,\tTime: 0.08\n"
     ]
    },
    {
     "name": "stderr",
     "output_type": "stream",
     "text": [
      " 52%|█████▏    | 26/50 [33:08<31:51, 79.65s/it]"
     ]
    },
    {
     "name": "stdout",
     "output_type": "stream",
     "text": [
      "Epoch [27/50],\tStep [64/938],\tIteraion [24452/46900],\tLoss: 2.2918,\tTime: 0.08\n",
      "Epoch [27/50],\tStep [128/938],\tIteraion [24516/46900],\tLoss: 2.2946,\tTime: 0.08\n",
      "Epoch [27/50],\tStep [192/938],\tIteraion [24580/46900],\tLoss: 2.2929,\tTime: 0.07\n",
      "Epoch [27/50],\tStep [256/938],\tIteraion [24644/46900],\tLoss: 2.2927,\tTime: 0.08\n",
      "Epoch [27/50],\tStep [320/938],\tIteraion [24708/46900],\tLoss: 2.2901,\tTime: 0.07\n",
      "Epoch [27/50],\tStep [384/938],\tIteraion [24772/46900],\tLoss: 2.2965,\tTime: 0.07\n",
      "Epoch [27/50],\tStep [448/938],\tIteraion [24836/46900],\tLoss: 2.2933,\tTime: 0.08\n",
      "Epoch [27/50],\tStep [512/938],\tIteraion [24900/46900],\tLoss: 2.2955,\tTime: 0.08\n",
      "Epoch [27/50],\tStep [576/938],\tIteraion [24964/46900],\tLoss: 2.2896,\tTime: 0.07\n",
      "Epoch [27/50],\tStep [640/938],\tIteraion [25028/46900],\tLoss: 2.2896,\tTime: 0.07\n",
      "Epoch [27/50],\tStep [704/938],\tIteraion [25092/46900],\tLoss: 2.2925,\tTime: 0.07\n",
      "Epoch [27/50],\tStep [768/938],\tIteraion [25156/46900],\tLoss: 2.2972,\tTime: 0.07\n",
      "Epoch [27/50],\tStep [832/938],\tIteraion [25220/46900],\tLoss: 2.2971,\tTime: 0.07\n",
      "Epoch [27/50],\tStep [896/938],\tIteraion [25284/46900],\tLoss: 2.2920,\tTime: 0.07\n"
     ]
    },
    {
     "name": "stderr",
     "output_type": "stream",
     "text": [
      " 54%|█████▍    | 27/50 [34:28<30:33, 79.70s/it]"
     ]
    },
    {
     "name": "stdout",
     "output_type": "stream",
     "text": [
      "Epoch [28/50],\tStep [64/938],\tIteraion [25390/46900],\tLoss: 2.2898,\tTime: 0.07\n",
      "Epoch [28/50],\tStep [128/938],\tIteraion [25454/46900],\tLoss: 2.2911,\tTime: 0.08\n",
      "Epoch [28/50],\tStep [192/938],\tIteraion [25518/46900],\tLoss: 2.2973,\tTime: 0.07\n",
      "Epoch [28/50],\tStep [256/938],\tIteraion [25582/46900],\tLoss: 2.2915,\tTime: 0.07\n",
      "Epoch [28/50],\tStep [320/938],\tIteraion [25646/46900],\tLoss: 2.2898,\tTime: 0.07\n",
      "Epoch [28/50],\tStep [384/938],\tIteraion [25710/46900],\tLoss: 2.2932,\tTime: 0.07\n",
      "Epoch [28/50],\tStep [448/938],\tIteraion [25774/46900],\tLoss: 2.2944,\tTime: 0.07\n",
      "Epoch [28/50],\tStep [512/938],\tIteraion [25838/46900],\tLoss: 2.2911,\tTime: 0.07\n",
      "Epoch [28/50],\tStep [576/938],\tIteraion [25902/46900],\tLoss: 2.2907,\tTime: 0.08\n",
      "Epoch [28/50],\tStep [640/938],\tIteraion [25966/46900],\tLoss: 2.2920,\tTime: 0.08\n",
      "Epoch [28/50],\tStep [704/938],\tIteraion [26030/46900],\tLoss: 2.2954,\tTime: 0.06\n",
      "Epoch [28/50],\tStep [768/938],\tIteraion [26094/46900],\tLoss: 2.2938,\tTime: 0.07\n",
      "Epoch [28/50],\tStep [832/938],\tIteraion [26158/46900],\tLoss: 2.2948,\tTime: 0.07\n",
      "Epoch [28/50],\tStep [896/938],\tIteraion [26222/46900],\tLoss: 2.2883,\tTime: 0.07\n"
     ]
    },
    {
     "name": "stderr",
     "output_type": "stream",
     "text": [
      " 56%|█████▌    | 28/50 [35:47<29:12, 79.68s/it]"
     ]
    },
    {
     "name": "stdout",
     "output_type": "stream",
     "text": [
      "Epoch [29/50],\tStep [64/938],\tIteraion [26328/46900],\tLoss: 2.2980,\tTime: 0.07\n",
      "Epoch [29/50],\tStep [128/938],\tIteraion [26392/46900],\tLoss: 2.2888,\tTime: 0.07\n",
      "Epoch [29/50],\tStep [192/938],\tIteraion [26456/46900],\tLoss: 2.2940,\tTime: 0.07\n",
      "Epoch [29/50],\tStep [256/938],\tIteraion [26520/46900],\tLoss: 2.2956,\tTime: 0.07\n",
      "Epoch [29/50],\tStep [320/938],\tIteraion [26584/46900],\tLoss: 2.2923,\tTime: 0.07\n",
      "Epoch [29/50],\tStep [384/938],\tIteraion [26648/46900],\tLoss: 2.2921,\tTime: 0.08\n",
      "Epoch [29/50],\tStep [448/938],\tIteraion [26712/46900],\tLoss: 2.2944,\tTime: 0.07\n",
      "Epoch [29/50],\tStep [512/938],\tIteraion [26776/46900],\tLoss: 2.2926,\tTime: 0.08\n",
      "Epoch [29/50],\tStep [576/938],\tIteraion [26840/46900],\tLoss: 2.2924,\tTime: 0.07\n",
      "Epoch [29/50],\tStep [640/938],\tIteraion [26904/46900],\tLoss: 2.2982,\tTime: 0.07\n",
      "Epoch [29/50],\tStep [704/938],\tIteraion [26968/46900],\tLoss: 2.2980,\tTime: 0.07\n",
      "Epoch [29/50],\tStep [768/938],\tIteraion [27032/46900],\tLoss: 2.2927,\tTime: 0.07\n",
      "Epoch [29/50],\tStep [832/938],\tIteraion [27096/46900],\tLoss: 2.2909,\tTime: 0.08\n",
      "Epoch [29/50],\tStep [896/938],\tIteraion [27160/46900],\tLoss: 2.2915,\tTime: 0.08\n"
     ]
    },
    {
     "name": "stderr",
     "output_type": "stream",
     "text": [
      " 58%|█████▊    | 29/50 [37:07<27:53, 79.70s/it]"
     ]
    },
    {
     "name": "stdout",
     "output_type": "stream",
     "text": [
      "Epoch [30/50],\tStep [64/938],\tIteraion [27266/46900],\tLoss: 2.2898,\tTime: 0.07\n",
      "Epoch [30/50],\tStep [128/938],\tIteraion [27330/46900],\tLoss: 2.2925,\tTime: 0.08\n",
      "Epoch [30/50],\tStep [192/938],\tIteraion [27394/46900],\tLoss: 2.2895,\tTime: 0.08\n",
      "Epoch [30/50],\tStep [256/938],\tIteraion [27458/46900],\tLoss: 2.2936,\tTime: 0.08\n",
      "Epoch [30/50],\tStep [320/938],\tIteraion [27522/46900],\tLoss: 2.2912,\tTime: 0.07\n",
      "Epoch [30/50],\tStep [384/938],\tIteraion [27586/46900],\tLoss: 2.2854,\tTime: 0.07\n",
      "Epoch [30/50],\tStep [448/938],\tIteraion [27650/46900],\tLoss: 2.2984,\tTime: 0.08\n",
      "Epoch [30/50],\tStep [512/938],\tIteraion [27714/46900],\tLoss: 2.2994,\tTime: 0.07\n",
      "Epoch [30/50],\tStep [576/938],\tIteraion [27778/46900],\tLoss: 2.2935,\tTime: 0.07\n",
      "Epoch [30/50],\tStep [640/938],\tIteraion [27842/46900],\tLoss: 2.2963,\tTime: 0.07\n",
      "Epoch [30/50],\tStep [704/938],\tIteraion [27906/46900],\tLoss: 2.2892,\tTime: 0.07\n",
      "Epoch [30/50],\tStep [768/938],\tIteraion [27970/46900],\tLoss: 2.2947,\tTime: 0.07\n",
      "Epoch [30/50],\tStep [832/938],\tIteraion [28034/46900],\tLoss: 2.2958,\tTime: 0.08\n",
      "Epoch [30/50],\tStep [896/938],\tIteraion [28098/46900],\tLoss: 2.2920,\tTime: 0.07\n"
     ]
    },
    {
     "name": "stderr",
     "output_type": "stream",
     "text": [
      " 60%|██████    | 30/50 [38:27<26:34, 79.75s/it]"
     ]
    },
    {
     "name": "stdout",
     "output_type": "stream",
     "text": [
      "Epoch [31/50],\tStep [64/938],\tIteraion [28204/46900],\tLoss: 2.2953,\tTime: 0.08\n",
      "Epoch [31/50],\tStep [128/938],\tIteraion [28268/46900],\tLoss: 2.2955,\tTime: 0.07\n",
      "Epoch [31/50],\tStep [192/938],\tIteraion [28332/46900],\tLoss: 2.2922,\tTime: 0.08\n",
      "Epoch [31/50],\tStep [256/938],\tIteraion [28396/46900],\tLoss: 2.2946,\tTime: 0.08\n",
      "Epoch [31/50],\tStep [320/938],\tIteraion [28460/46900],\tLoss: 2.2992,\tTime: 0.07\n",
      "Epoch [31/50],\tStep [384/938],\tIteraion [28524/46900],\tLoss: 2.2951,\tTime: 0.08\n",
      "Epoch [31/50],\tStep [448/938],\tIteraion [28588/46900],\tLoss: 2.2876,\tTime: 0.08\n",
      "Epoch [31/50],\tStep [512/938],\tIteraion [28652/46900],\tLoss: 2.2906,\tTime: 0.07\n",
      "Epoch [31/50],\tStep [576/938],\tIteraion [28716/46900],\tLoss: 2.2911,\tTime: 0.08\n",
      "Epoch [31/50],\tStep [640/938],\tIteraion [28780/46900],\tLoss: 2.2910,\tTime: 0.07\n",
      "Epoch [31/50],\tStep [704/938],\tIteraion [28844/46900],\tLoss: 2.2942,\tTime: 0.08\n",
      "Epoch [31/50],\tStep [768/938],\tIteraion [28908/46900],\tLoss: 2.2876,\tTime: 0.07\n",
      "Epoch [31/50],\tStep [832/938],\tIteraion [28972/46900],\tLoss: 2.2917,\tTime: 0.08\n",
      "Epoch [31/50],\tStep [896/938],\tIteraion [29036/46900],\tLoss: 2.2885,\tTime: 0.08\n"
     ]
    },
    {
     "name": "stderr",
     "output_type": "stream",
     "text": [
      " 62%|██████▏   | 31/50 [39:47<25:15, 79.75s/it]"
     ]
    },
    {
     "name": "stdout",
     "output_type": "stream",
     "text": [
      "Epoch [32/50],\tStep [64/938],\tIteraion [29142/46900],\tLoss: 2.2960,\tTime: 0.08\n",
      "Epoch [32/50],\tStep [128/938],\tIteraion [29206/46900],\tLoss: 2.2951,\tTime: 0.08\n",
      "Epoch [32/50],\tStep [192/938],\tIteraion [29270/46900],\tLoss: 2.2938,\tTime: 0.08\n",
      "Epoch [32/50],\tStep [256/938],\tIteraion [29334/46900],\tLoss: 2.2929,\tTime: 0.08\n",
      "Epoch [32/50],\tStep [320/938],\tIteraion [29398/46900],\tLoss: 2.2913,\tTime: 0.07\n",
      "Epoch [32/50],\tStep [384/938],\tIteraion [29462/46900],\tLoss: 2.2907,\tTime: 0.07\n",
      "Epoch [32/50],\tStep [448/938],\tIteraion [29526/46900],\tLoss: 2.2935,\tTime: 0.07\n",
      "Epoch [32/50],\tStep [512/938],\tIteraion [29590/46900],\tLoss: 2.2932,\tTime: 0.07\n",
      "Epoch [32/50],\tStep [576/938],\tIteraion [29654/46900],\tLoss: 2.2911,\tTime: 0.07\n",
      "Epoch [32/50],\tStep [640/938],\tIteraion [29718/46900],\tLoss: 2.2973,\tTime: 0.07\n",
      "Epoch [32/50],\tStep [704/938],\tIteraion [29782/46900],\tLoss: 2.2904,\tTime: 0.07\n",
      "Epoch [32/50],\tStep [768/938],\tIteraion [29846/46900],\tLoss: 2.2957,\tTime: 0.07\n",
      "Epoch [32/50],\tStep [832/938],\tIteraion [29910/46900],\tLoss: 2.2894,\tTime: 0.07\n",
      "Epoch [32/50],\tStep [896/938],\tIteraion [29974/46900],\tLoss: 2.2943,\tTime: 0.07\n"
     ]
    },
    {
     "name": "stderr",
     "output_type": "stream",
     "text": [
      " 64%|██████▍   | 32/50 [41:07<23:55, 79.76s/it]"
     ]
    },
    {
     "name": "stdout",
     "output_type": "stream",
     "text": [
      "Epoch [33/50],\tStep [64/938],\tIteraion [30080/46900],\tLoss: 2.2918,\tTime: 0.07\n",
      "Epoch [33/50],\tStep [128/938],\tIteraion [30144/46900],\tLoss: 2.2910,\tTime: 0.07\n",
      "Epoch [33/50],\tStep [192/938],\tIteraion [30208/46900],\tLoss: 2.2902,\tTime: 0.07\n",
      "Epoch [33/50],\tStep [256/938],\tIteraion [30272/46900],\tLoss: 2.2982,\tTime: 0.08\n",
      "Epoch [33/50],\tStep [320/938],\tIteraion [30336/46900],\tLoss: 2.2913,\tTime: 0.07\n",
      "Epoch [33/50],\tStep [384/938],\tIteraion [30400/46900],\tLoss: 2.2905,\tTime: 0.08\n",
      "Epoch [33/50],\tStep [448/938],\tIteraion [30464/46900],\tLoss: 2.2927,\tTime: 0.07\n",
      "Epoch [33/50],\tStep [512/938],\tIteraion [30528/46900],\tLoss: 2.2894,\tTime: 0.07\n",
      "Epoch [33/50],\tStep [576/938],\tIteraion [30592/46900],\tLoss: 2.2950,\tTime: 0.07\n",
      "Epoch [33/50],\tStep [640/938],\tIteraion [30656/46900],\tLoss: 2.2922,\tTime: 0.07\n",
      "Epoch [33/50],\tStep [704/938],\tIteraion [30720/46900],\tLoss: 2.2943,\tTime: 0.07\n",
      "Epoch [33/50],\tStep [768/938],\tIteraion [30784/46900],\tLoss: 2.2847,\tTime: 0.08\n",
      "Epoch [33/50],\tStep [832/938],\tIteraion [30848/46900],\tLoss: 2.2954,\tTime: 0.07\n",
      "Epoch [33/50],\tStep [896/938],\tIteraion [30912/46900],\tLoss: 2.2956,\tTime: 0.08\n"
     ]
    },
    {
     "name": "stderr",
     "output_type": "stream",
     "text": [
      " 66%|██████▌   | 33/50 [42:26<22:35, 79.74s/it]"
     ]
    },
    {
     "name": "stdout",
     "output_type": "stream",
     "text": [
      "Epoch [34/50],\tStep [64/938],\tIteraion [31018/46900],\tLoss: 2.2875,\tTime: 0.08\n",
      "Epoch [34/50],\tStep [128/938],\tIteraion [31082/46900],\tLoss: 2.2904,\tTime: 0.08\n",
      "Epoch [34/50],\tStep [192/938],\tIteraion [31146/46900],\tLoss: 2.2913,\tTime: 0.07\n",
      "Epoch [34/50],\tStep [256/938],\tIteraion [31210/46900],\tLoss: 2.2868,\tTime: 0.08\n",
      "Epoch [34/50],\tStep [320/938],\tIteraion [31274/46900],\tLoss: 2.2860,\tTime: 0.07\n",
      "Epoch [34/50],\tStep [384/938],\tIteraion [31338/46900],\tLoss: 2.2908,\tTime: 0.07\n",
      "Epoch [34/50],\tStep [448/938],\tIteraion [31402/46900],\tLoss: 2.2895,\tTime: 0.07\n",
      "Epoch [34/50],\tStep [512/938],\tIteraion [31466/46900],\tLoss: 2.2908,\tTime: 0.07\n",
      "Epoch [34/50],\tStep [576/938],\tIteraion [31530/46900],\tLoss: 2.2870,\tTime: 0.07\n",
      "Epoch [34/50],\tStep [640/938],\tIteraion [31594/46900],\tLoss: 2.2902,\tTime: 0.07\n",
      "Epoch [34/50],\tStep [704/938],\tIteraion [31658/46900],\tLoss: 2.2994,\tTime: 0.08\n",
      "Epoch [34/50],\tStep [768/938],\tIteraion [31722/46900],\tLoss: 2.2906,\tTime: 0.07\n",
      "Epoch [34/50],\tStep [832/938],\tIteraion [31786/46900],\tLoss: 2.2892,\tTime: 0.07\n",
      "Epoch [34/50],\tStep [896/938],\tIteraion [31850/46900],\tLoss: 2.2950,\tTime: 0.07\n"
     ]
    },
    {
     "name": "stderr",
     "output_type": "stream",
     "text": [
      " 68%|██████▊   | 34/50 [43:46<21:15, 79.74s/it]"
     ]
    },
    {
     "name": "stdout",
     "output_type": "stream",
     "text": [
      "Epoch [35/50],\tStep [64/938],\tIteraion [31956/46900],\tLoss: 2.2924,\tTime: 0.07\n",
      "Epoch [35/50],\tStep [128/938],\tIteraion [32020/46900],\tLoss: 2.2917,\tTime: 0.08\n",
      "Epoch [35/50],\tStep [192/938],\tIteraion [32084/46900],\tLoss: 2.2914,\tTime: 0.08\n",
      "Epoch [35/50],\tStep [256/938],\tIteraion [32148/46900],\tLoss: 2.2997,\tTime: 0.07\n",
      "Epoch [35/50],\tStep [320/938],\tIteraion [32212/46900],\tLoss: 2.2873,\tTime: 0.07\n",
      "Epoch [35/50],\tStep [384/938],\tIteraion [32276/46900],\tLoss: 2.2970,\tTime: 0.07\n",
      "Epoch [35/50],\tStep [448/938],\tIteraion [32340/46900],\tLoss: 2.2838,\tTime: 0.07\n",
      "Epoch [35/50],\tStep [512/938],\tIteraion [32404/46900],\tLoss: 2.2892,\tTime: 0.08\n",
      "Epoch [35/50],\tStep [576/938],\tIteraion [32468/46900],\tLoss: 2.2972,\tTime: 0.08\n",
      "Epoch [35/50],\tStep [640/938],\tIteraion [32532/46900],\tLoss: 2.2902,\tTime: 0.07\n",
      "Epoch [35/50],\tStep [704/938],\tIteraion [32596/46900],\tLoss: 2.2931,\tTime: 0.07\n",
      "Epoch [35/50],\tStep [768/938],\tIteraion [32660/46900],\tLoss: 2.2887,\tTime: 0.08\n",
      "Epoch [35/50],\tStep [832/938],\tIteraion [32724/46900],\tLoss: 2.2925,\tTime: 0.08\n",
      "Epoch [35/50],\tStep [896/938],\tIteraion [32788/46900],\tLoss: 2.2917,\tTime: 0.07\n"
     ]
    },
    {
     "name": "stderr",
     "output_type": "stream",
     "text": [
      " 70%|███████   | 35/50 [45:06<19:56, 79.74s/it]"
     ]
    },
    {
     "name": "stdout",
     "output_type": "stream",
     "text": [
      "Epoch [36/50],\tStep [64/938],\tIteraion [32894/46900],\tLoss: 2.2859,\tTime: 0.07\n",
      "Epoch [36/50],\tStep [128/938],\tIteraion [32958/46900],\tLoss: 2.2942,\tTime: 0.07\n",
      "Epoch [36/50],\tStep [192/938],\tIteraion [33022/46900],\tLoss: 2.2892,\tTime: 0.07\n",
      "Epoch [36/50],\tStep [256/938],\tIteraion [33086/46900],\tLoss: 2.2936,\tTime: 0.08\n",
      "Epoch [36/50],\tStep [320/938],\tIteraion [33150/46900],\tLoss: 2.2937,\tTime: 0.08\n",
      "Epoch [36/50],\tStep [384/938],\tIteraion [33214/46900],\tLoss: 2.2901,\tTime: 0.07\n",
      "Epoch [36/50],\tStep [448/938],\tIteraion [33278/46900],\tLoss: 2.2832,\tTime: 0.08\n",
      "Epoch [36/50],\tStep [512/938],\tIteraion [33342/46900],\tLoss: 2.2870,\tTime: 0.07\n",
      "Epoch [36/50],\tStep [576/938],\tIteraion [33406/46900],\tLoss: 2.2868,\tTime: 0.07\n",
      "Epoch [36/50],\tStep [640/938],\tIteraion [33470/46900],\tLoss: 2.2927,\tTime: 0.08\n",
      "Epoch [36/50],\tStep [704/938],\tIteraion [33534/46900],\tLoss: 2.2979,\tTime: 0.07\n",
      "Epoch [36/50],\tStep [768/938],\tIteraion [33598/46900],\tLoss: 2.2882,\tTime: 0.07\n",
      "Epoch [36/50],\tStep [832/938],\tIteraion [33662/46900],\tLoss: 2.2944,\tTime: 0.08\n",
      "Epoch [36/50],\tStep [896/938],\tIteraion [33726/46900],\tLoss: 2.2921,\tTime: 0.07\n"
     ]
    },
    {
     "name": "stderr",
     "output_type": "stream",
     "text": [
      " 72%|███████▏  | 36/50 [46:26<18:36, 79.76s/it]"
     ]
    },
    {
     "name": "stdout",
     "output_type": "stream",
     "text": [
      "Epoch [37/50],\tStep [64/938],\tIteraion [33832/46900],\tLoss: 2.2913,\tTime: 0.07\n",
      "Epoch [37/50],\tStep [128/938],\tIteraion [33896/46900],\tLoss: 2.2936,\tTime: 0.07\n",
      "Epoch [37/50],\tStep [192/938],\tIteraion [33960/46900],\tLoss: 2.2913,\tTime: 0.08\n",
      "Epoch [37/50],\tStep [256/938],\tIteraion [34024/46900],\tLoss: 2.2920,\tTime: 0.08\n",
      "Epoch [37/50],\tStep [320/938],\tIteraion [34088/46900],\tLoss: 2.2895,\tTime: 0.07\n",
      "Epoch [37/50],\tStep [384/938],\tIteraion [34152/46900],\tLoss: 2.2956,\tTime: 0.07\n",
      "Epoch [37/50],\tStep [448/938],\tIteraion [34216/46900],\tLoss: 2.2922,\tTime: 0.07\n",
      "Epoch [37/50],\tStep [512/938],\tIteraion [34280/46900],\tLoss: 2.2879,\tTime: 0.07\n",
      "Epoch [37/50],\tStep [576/938],\tIteraion [34344/46900],\tLoss: 2.2933,\tTime: 0.08\n",
      "Epoch [37/50],\tStep [640/938],\tIteraion [34408/46900],\tLoss: 2.2915,\tTime: 0.07\n",
      "Epoch [37/50],\tStep [704/938],\tIteraion [34472/46900],\tLoss: 2.2950,\tTime: 0.07\n",
      "Epoch [37/50],\tStep [768/938],\tIteraion [34536/46900],\tLoss: 2.2899,\tTime: 0.08\n",
      "Epoch [37/50],\tStep [832/938],\tIteraion [34600/46900],\tLoss: 2.2920,\tTime: 0.08\n",
      "Epoch [37/50],\tStep [896/938],\tIteraion [34664/46900],\tLoss: 2.2937,\tTime: 0.07\n"
     ]
    },
    {
     "name": "stderr",
     "output_type": "stream",
     "text": [
      " 74%|███████▍  | 37/50 [47:45<17:16, 79.72s/it]"
     ]
    },
    {
     "name": "stdout",
     "output_type": "stream",
     "text": [
      "Epoch [38/50],\tStep [64/938],\tIteraion [34770/46900],\tLoss: 2.2909,\tTime: 0.07\n",
      "Epoch [38/50],\tStep [128/938],\tIteraion [34834/46900],\tLoss: 2.2961,\tTime: 0.07\n",
      "Epoch [38/50],\tStep [192/938],\tIteraion [34898/46900],\tLoss: 2.2899,\tTime: 0.08\n",
      "Epoch [38/50],\tStep [256/938],\tIteraion [34962/46900],\tLoss: 2.2854,\tTime: 0.08\n",
      "Epoch [38/50],\tStep [320/938],\tIteraion [35026/46900],\tLoss: 2.2866,\tTime: 0.06\n",
      "Epoch [38/50],\tStep [384/938],\tIteraion [35090/46900],\tLoss: 2.2948,\tTime: 0.07\n",
      "Epoch [38/50],\tStep [448/938],\tIteraion [35154/46900],\tLoss: 2.2915,\tTime: 0.08\n",
      "Epoch [38/50],\tStep [512/938],\tIteraion [35218/46900],\tLoss: 2.2874,\tTime: 0.07\n",
      "Epoch [38/50],\tStep [576/938],\tIteraion [35282/46900],\tLoss: 2.2843,\tTime: 0.08\n",
      "Epoch [38/50],\tStep [640/938],\tIteraion [35346/46900],\tLoss: 2.2933,\tTime: 0.07\n",
      "Epoch [38/50],\tStep [704/938],\tIteraion [35410/46900],\tLoss: 2.2908,\tTime: 0.07\n",
      "Epoch [38/50],\tStep [768/938],\tIteraion [35474/46900],\tLoss: 2.2882,\tTime: 0.07\n",
      "Epoch [38/50],\tStep [832/938],\tIteraion [35538/46900],\tLoss: 2.2966,\tTime: 0.07\n",
      "Epoch [38/50],\tStep [896/938],\tIteraion [35602/46900],\tLoss: 2.2908,\tTime: 0.07\n"
     ]
    },
    {
     "name": "stderr",
     "output_type": "stream",
     "text": [
      " 76%|███████▌  | 38/50 [49:05<15:56, 79.72s/it]"
     ]
    },
    {
     "name": "stdout",
     "output_type": "stream",
     "text": [
      "Epoch [39/50],\tStep [64/938],\tIteraion [35708/46900],\tLoss: 2.2850,\tTime: 0.08\n",
      "Epoch [39/50],\tStep [128/938],\tIteraion [35772/46900],\tLoss: 2.2897,\tTime: 0.07\n",
      "Epoch [39/50],\tStep [192/938],\tIteraion [35836/46900],\tLoss: 2.2912,\tTime: 0.07\n",
      "Epoch [39/50],\tStep [256/938],\tIteraion [35900/46900],\tLoss: 2.2944,\tTime: 0.08\n",
      "Epoch [39/50],\tStep [320/938],\tIteraion [35964/46900],\tLoss: 2.2911,\tTime: 0.07\n",
      "Epoch [39/50],\tStep [384/938],\tIteraion [36028/46900],\tLoss: 2.2884,\tTime: 0.07\n",
      "Epoch [39/50],\tStep [448/938],\tIteraion [36092/46900],\tLoss: 2.2927,\tTime: 0.07\n",
      "Epoch [39/50],\tStep [512/938],\tIteraion [36156/46900],\tLoss: 2.2917,\tTime: 0.07\n",
      "Epoch [39/50],\tStep [576/938],\tIteraion [36220/46900],\tLoss: 2.2955,\tTime: 0.07\n",
      "Epoch [39/50],\tStep [640/938],\tIteraion [36284/46900],\tLoss: 2.2942,\tTime: 0.07\n",
      "Epoch [39/50],\tStep [704/938],\tIteraion [36348/46900],\tLoss: 2.2949,\tTime: 0.07\n",
      "Epoch [39/50],\tStep [768/938],\tIteraion [36412/46900],\tLoss: 2.2903,\tTime: 0.07\n",
      "Epoch [39/50],\tStep [832/938],\tIteraion [36476/46900],\tLoss: 2.2908,\tTime: 0.07\n",
      "Epoch [39/50],\tStep [896/938],\tIteraion [36540/46900],\tLoss: 2.2850,\tTime: 0.07\n"
     ]
    },
    {
     "name": "stderr",
     "output_type": "stream",
     "text": [
      " 78%|███████▊  | 39/50 [50:25<14:37, 79.74s/it]"
     ]
    },
    {
     "name": "stdout",
     "output_type": "stream",
     "text": [
      "Epoch [40/50],\tStep [64/938],\tIteraion [36646/46900],\tLoss: 2.2933,\tTime: 0.07\n",
      "Epoch [40/50],\tStep [128/938],\tIteraion [36710/46900],\tLoss: 2.2877,\tTime: 0.07\n",
      "Epoch [40/50],\tStep [192/938],\tIteraion [36774/46900],\tLoss: 2.2921,\tTime: 0.08\n",
      "Epoch [40/50],\tStep [256/938],\tIteraion [36838/46900],\tLoss: 2.2918,\tTime: 0.07\n",
      "Epoch [40/50],\tStep [320/938],\tIteraion [36902/46900],\tLoss: 2.2952,\tTime: 0.07\n",
      "Epoch [40/50],\tStep [384/938],\tIteraion [36966/46900],\tLoss: 2.2965,\tTime: 0.08\n",
      "Epoch [40/50],\tStep [448/938],\tIteraion [37030/46900],\tLoss: 2.2845,\tTime: 0.07\n",
      "Epoch [40/50],\tStep [512/938],\tIteraion [37094/46900],\tLoss: 2.2886,\tTime: 0.08\n",
      "Epoch [40/50],\tStep [576/938],\tIteraion [37158/46900],\tLoss: 2.2978,\tTime: 0.07\n",
      "Epoch [40/50],\tStep [640/938],\tIteraion [37222/46900],\tLoss: 2.2866,\tTime: 0.07\n",
      "Epoch [40/50],\tStep [704/938],\tIteraion [37286/46900],\tLoss: 2.2944,\tTime: 0.07\n",
      "Epoch [40/50],\tStep [768/938],\tIteraion [37350/46900],\tLoss: 2.2944,\tTime: 0.07\n",
      "Epoch [40/50],\tStep [832/938],\tIteraion [37414/46900],\tLoss: 2.2901,\tTime: 0.08\n",
      "Epoch [40/50],\tStep [896/938],\tIteraion [37478/46900],\tLoss: 2.2992,\tTime: 0.07\n"
     ]
    },
    {
     "name": "stderr",
     "output_type": "stream",
     "text": [
      " 80%|████████  | 40/50 [51:45<13:17, 79.79s/it]"
     ]
    },
    {
     "name": "stdout",
     "output_type": "stream",
     "text": [
      "Epoch [41/50],\tStep [64/938],\tIteraion [37584/46900],\tLoss: 2.2946,\tTime: 0.07\n",
      "Epoch [41/50],\tStep [128/938],\tIteraion [37648/46900],\tLoss: 2.2926,\tTime: 0.07\n",
      "Epoch [41/50],\tStep [192/938],\tIteraion [37712/46900],\tLoss: 2.2882,\tTime: 0.07\n",
      "Epoch [41/50],\tStep [256/938],\tIteraion [37776/46900],\tLoss: 2.2879,\tTime: 0.07\n",
      "Epoch [41/50],\tStep [320/938],\tIteraion [37840/46900],\tLoss: 2.2940,\tTime: 0.08\n",
      "Epoch [41/50],\tStep [384/938],\tIteraion [37904/46900],\tLoss: 2.2921,\tTime: 0.08\n",
      "Epoch [41/50],\tStep [448/938],\tIteraion [37968/46900],\tLoss: 2.2859,\tTime: 0.07\n",
      "Epoch [41/50],\tStep [512/938],\tIteraion [38032/46900],\tLoss: 2.2856,\tTime: 0.07\n",
      "Epoch [41/50],\tStep [576/938],\tIteraion [38096/46900],\tLoss: 2.2899,\tTime: 0.07\n",
      "Epoch [41/50],\tStep [640/938],\tIteraion [38160/46900],\tLoss: 2.2848,\tTime: 0.08\n",
      "Epoch [41/50],\tStep [704/938],\tIteraion [38224/46900],\tLoss: 2.2898,\tTime: 0.07\n",
      "Epoch [41/50],\tStep [768/938],\tIteraion [38288/46900],\tLoss: 2.2918,\tTime: 0.07\n",
      "Epoch [41/50],\tStep [832/938],\tIteraion [38352/46900],\tLoss: 2.2886,\tTime: 0.07\n",
      "Epoch [41/50],\tStep [896/938],\tIteraion [38416/46900],\tLoss: 2.2884,\tTime: 0.07\n"
     ]
    },
    {
     "name": "stderr",
     "output_type": "stream",
     "text": [
      " 82%|████████▏ | 41/50 [53:04<11:57, 79.72s/it]"
     ]
    },
    {
     "name": "stdout",
     "output_type": "stream",
     "text": [
      "Epoch [42/50],\tStep [64/938],\tIteraion [38522/46900],\tLoss: 2.2935,\tTime: 0.08\n",
      "Epoch [42/50],\tStep [128/938],\tIteraion [38586/46900],\tLoss: 2.2949,\tTime: 0.07\n",
      "Epoch [42/50],\tStep [192/938],\tIteraion [38650/46900],\tLoss: 2.2941,\tTime: 0.07\n",
      "Epoch [42/50],\tStep [256/938],\tIteraion [38714/46900],\tLoss: 2.2966,\tTime: 0.08\n",
      "Epoch [42/50],\tStep [320/938],\tIteraion [38778/46900],\tLoss: 2.2975,\tTime: 0.07\n",
      "Epoch [42/50],\tStep [384/938],\tIteraion [38842/46900],\tLoss: 2.2884,\tTime: 0.07\n",
      "Epoch [42/50],\tStep [448/938],\tIteraion [38906/46900],\tLoss: 2.2903,\tTime: 0.07\n",
      "Epoch [42/50],\tStep [512/938],\tIteraion [38970/46900],\tLoss: 2.2948,\tTime: 0.08\n",
      "Epoch [42/50],\tStep [576/938],\tIteraion [39034/46900],\tLoss: 2.2922,\tTime: 0.07\n",
      "Epoch [42/50],\tStep [640/938],\tIteraion [39098/46900],\tLoss: 2.2858,\tTime: 0.07\n",
      "Epoch [42/50],\tStep [704/938],\tIteraion [39162/46900],\tLoss: 2.2928,\tTime: 0.08\n",
      "Epoch [42/50],\tStep [768/938],\tIteraion [39226/46900],\tLoss: 2.2929,\tTime: 0.08\n",
      "Epoch [42/50],\tStep [832/938],\tIteraion [39290/46900],\tLoss: 2.2874,\tTime: 0.07\n",
      "Epoch [42/50],\tStep [896/938],\tIteraion [39354/46900],\tLoss: 2.2926,\tTime: 0.08\n"
     ]
    },
    {
     "name": "stderr",
     "output_type": "stream",
     "text": [
      " 84%|████████▍ | 42/50 [54:24<10:37, 79.74s/it]"
     ]
    },
    {
     "name": "stdout",
     "output_type": "stream",
     "text": [
      "Epoch [43/50],\tStep [64/938],\tIteraion [39460/46900],\tLoss: 2.2994,\tTime: 0.07\n",
      "Epoch [43/50],\tStep [128/938],\tIteraion [39524/46900],\tLoss: 2.2928,\tTime: 0.07\n",
      "Epoch [43/50],\tStep [192/938],\tIteraion [39588/46900],\tLoss: 2.2886,\tTime: 0.08\n",
      "Epoch [43/50],\tStep [256/938],\tIteraion [39652/46900],\tLoss: 2.2971,\tTime: 0.07\n",
      "Epoch [43/50],\tStep [320/938],\tIteraion [39716/46900],\tLoss: 2.2927,\tTime: 0.08\n",
      "Epoch [43/50],\tStep [384/938],\tIteraion [39780/46900],\tLoss: 2.2894,\tTime: 0.08\n",
      "Epoch [43/50],\tStep [448/938],\tIteraion [39844/46900],\tLoss: 2.2944,\tTime: 0.07\n",
      "Epoch [43/50],\tStep [512/938],\tIteraion [39908/46900],\tLoss: 2.2974,\tTime: 0.07\n",
      "Epoch [43/50],\tStep [576/938],\tIteraion [39972/46900],\tLoss: 2.2937,\tTime: 0.08\n",
      "Epoch [43/50],\tStep [640/938],\tIteraion [40036/46900],\tLoss: 2.2878,\tTime: 0.08\n",
      "Epoch [43/50],\tStep [704/938],\tIteraion [40100/46900],\tLoss: 2.2910,\tTime: 0.07\n",
      "Epoch [43/50],\tStep [768/938],\tIteraion [40164/46900],\tLoss: 2.2913,\tTime: 0.07\n",
      "Epoch [43/50],\tStep [832/938],\tIteraion [40228/46900],\tLoss: 2.2998,\tTime: 0.08\n",
      "Epoch [43/50],\tStep [896/938],\tIteraion [40292/46900],\tLoss: 2.2946,\tTime: 0.08\n"
     ]
    },
    {
     "name": "stderr",
     "output_type": "stream",
     "text": [
      " 86%|████████▌ | 43/50 [55:44<09:18, 79.75s/it]"
     ]
    },
    {
     "name": "stdout",
     "output_type": "stream",
     "text": [
      "Epoch [44/50],\tStep [64/938],\tIteraion [40398/46900],\tLoss: 2.2926,\tTime: 0.08\n",
      "Epoch [44/50],\tStep [128/938],\tIteraion [40462/46900],\tLoss: 2.2936,\tTime: 0.07\n",
      "Epoch [44/50],\tStep [192/938],\tIteraion [40526/46900],\tLoss: 2.2958,\tTime: 0.08\n",
      "Epoch [44/50],\tStep [256/938],\tIteraion [40590/46900],\tLoss: 2.2948,\tTime: 0.07\n",
      "Epoch [44/50],\tStep [320/938],\tIteraion [40654/46900],\tLoss: 2.2976,\tTime: 0.07\n",
      "Epoch [44/50],\tStep [384/938],\tIteraion [40718/46900],\tLoss: 2.2945,\tTime: 0.08\n",
      "Epoch [44/50],\tStep [448/938],\tIteraion [40782/46900],\tLoss: 2.2941,\tTime: 0.08\n",
      "Epoch [44/50],\tStep [512/938],\tIteraion [40846/46900],\tLoss: 2.2981,\tTime: 0.08\n",
      "Epoch [44/50],\tStep [576/938],\tIteraion [40910/46900],\tLoss: 2.2963,\tTime: 0.08\n",
      "Epoch [44/50],\tStep [640/938],\tIteraion [40974/46900],\tLoss: 2.2823,\tTime: 0.07\n",
      "Epoch [44/50],\tStep [704/938],\tIteraion [41038/46900],\tLoss: 2.2951,\tTime: 0.07\n",
      "Epoch [44/50],\tStep [768/938],\tIteraion [41102/46900],\tLoss: 2.2930,\tTime: 0.07\n",
      "Epoch [44/50],\tStep [832/938],\tIteraion [41166/46900],\tLoss: 2.2868,\tTime: 0.07\n",
      "Epoch [44/50],\tStep [896/938],\tIteraion [41230/46900],\tLoss: 2.2903,\tTime: 0.08\n"
     ]
    },
    {
     "name": "stderr",
     "output_type": "stream",
     "text": [
      " 88%|████████▊ | 44/50 [57:03<07:58, 79.71s/it]"
     ]
    },
    {
     "name": "stdout",
     "output_type": "stream",
     "text": [
      "Epoch [45/50],\tStep [64/938],\tIteraion [41336/46900],\tLoss: 2.2910,\tTime: 0.07\n",
      "Epoch [45/50],\tStep [128/938],\tIteraion [41400/46900],\tLoss: 2.2915,\tTime: 0.07\n",
      "Epoch [45/50],\tStep [192/938],\tIteraion [41464/46900],\tLoss: 2.2923,\tTime: 0.07\n",
      "Epoch [45/50],\tStep [256/938],\tIteraion [41528/46900],\tLoss: 2.2888,\tTime: 0.08\n",
      "Epoch [45/50],\tStep [320/938],\tIteraion [41592/46900],\tLoss: 2.2889,\tTime: 0.07\n",
      "Epoch [45/50],\tStep [384/938],\tIteraion [41656/46900],\tLoss: 2.2962,\tTime: 0.07\n",
      "Epoch [45/50],\tStep [448/938],\tIteraion [41720/46900],\tLoss: 2.2924,\tTime: 0.07\n",
      "Epoch [45/50],\tStep [512/938],\tIteraion [41784/46900],\tLoss: 2.2910,\tTime: 0.07\n",
      "Epoch [45/50],\tStep [576/938],\tIteraion [41848/46900],\tLoss: 2.2956,\tTime: 0.07\n",
      "Epoch [45/50],\tStep [640/938],\tIteraion [41912/46900],\tLoss: 2.2869,\tTime: 0.08\n",
      "Epoch [45/50],\tStep [704/938],\tIteraion [41976/46900],\tLoss: 2.2920,\tTime: 0.08\n",
      "Epoch [45/50],\tStep [768/938],\tIteraion [42040/46900],\tLoss: 2.2924,\tTime: 0.07\n",
      "Epoch [45/50],\tStep [832/938],\tIteraion [42104/46900],\tLoss: 2.2897,\tTime: 0.07\n",
      "Epoch [45/50],\tStep [896/938],\tIteraion [42168/46900],\tLoss: 2.2942,\tTime: 0.08\n"
     ]
    },
    {
     "name": "stderr",
     "output_type": "stream",
     "text": [
      " 90%|█████████ | 45/50 [58:23<06:38, 79.73s/it]"
     ]
    },
    {
     "name": "stdout",
     "output_type": "stream",
     "text": [
      "Epoch [46/50],\tStep [64/938],\tIteraion [42274/46900],\tLoss: 2.2910,\tTime: 0.08\n",
      "Epoch [46/50],\tStep [128/938],\tIteraion [42338/46900],\tLoss: 2.2930,\tTime: 0.07\n",
      "Epoch [46/50],\tStep [192/938],\tIteraion [42402/46900],\tLoss: 2.2961,\tTime: 0.07\n",
      "Epoch [46/50],\tStep [256/938],\tIteraion [42466/46900],\tLoss: 2.2925,\tTime: 0.07\n",
      "Epoch [46/50],\tStep [320/938],\tIteraion [42530/46900],\tLoss: 2.2944,\tTime: 0.07\n",
      "Epoch [46/50],\tStep [384/938],\tIteraion [42594/46900],\tLoss: 2.2883,\tTime: 0.07\n",
      "Epoch [46/50],\tStep [448/938],\tIteraion [42658/46900],\tLoss: 2.2934,\tTime: 0.07\n",
      "Epoch [46/50],\tStep [512/938],\tIteraion [42722/46900],\tLoss: 2.2955,\tTime: 0.07\n",
      "Epoch [46/50],\tStep [576/938],\tIteraion [42786/46900],\tLoss: 2.2901,\tTime: 0.07\n",
      "Epoch [46/50],\tStep [640/938],\tIteraion [42850/46900],\tLoss: 2.2879,\tTime: 0.07\n",
      "Epoch [46/50],\tStep [704/938],\tIteraion [42914/46900],\tLoss: 2.3010,\tTime: 0.07\n",
      "Epoch [46/50],\tStep [768/938],\tIteraion [42978/46900],\tLoss: 2.2868,\tTime: 0.07\n",
      "Epoch [46/50],\tStep [832/938],\tIteraion [43042/46900],\tLoss: 2.2927,\tTime: 0.08\n",
      "Epoch [46/50],\tStep [896/938],\tIteraion [43106/46900],\tLoss: 2.2887,\tTime: 0.07\n"
     ]
    },
    {
     "name": "stderr",
     "output_type": "stream",
     "text": [
      " 92%|█████████▏| 46/50 [59:43<05:19, 79.77s/it]"
     ]
    },
    {
     "name": "stdout",
     "output_type": "stream",
     "text": [
      "Epoch [47/50],\tStep [64/938],\tIteraion [43212/46900],\tLoss: 2.2905,\tTime: 0.07\n",
      "Epoch [47/50],\tStep [128/938],\tIteraion [43276/46900],\tLoss: 2.2922,\tTime: 0.08\n",
      "Epoch [47/50],\tStep [192/938],\tIteraion [43340/46900],\tLoss: 2.2939,\tTime: 0.08\n",
      "Epoch [47/50],\tStep [256/938],\tIteraion [43404/46900],\tLoss: 2.2897,\tTime: 0.07\n",
      "Epoch [47/50],\tStep [320/938],\tIteraion [43468/46900],\tLoss: 2.2908,\tTime: 0.08\n",
      "Epoch [47/50],\tStep [384/938],\tIteraion [43532/46900],\tLoss: 2.2927,\tTime: 0.08\n",
      "Epoch [47/50],\tStep [448/938],\tIteraion [43596/46900],\tLoss: 2.2920,\tTime: 0.08\n",
      "Epoch [47/50],\tStep [512/938],\tIteraion [43660/46900],\tLoss: 2.2925,\tTime: 0.08\n",
      "Epoch [47/50],\tStep [576/938],\tIteraion [43724/46900],\tLoss: 2.2916,\tTime: 0.08\n",
      "Epoch [47/50],\tStep [640/938],\tIteraion [43788/46900],\tLoss: 2.2913,\tTime: 0.08\n",
      "Epoch [47/50],\tStep [704/938],\tIteraion [43852/46900],\tLoss: 2.2901,\tTime: 0.08\n",
      "Epoch [47/50],\tStep [768/938],\tIteraion [43916/46900],\tLoss: 2.2881,\tTime: 0.08\n",
      "Epoch [47/50],\tStep [832/938],\tIteraion [43980/46900],\tLoss: 2.2941,\tTime: 0.07\n",
      "Epoch [47/50],\tStep [896/938],\tIteraion [44044/46900],\tLoss: 2.2922,\tTime: 0.07\n"
     ]
    },
    {
     "name": "stderr",
     "output_type": "stream",
     "text": [
      " 94%|█████████▍| 47/50 [1:01:03<03:59, 79.79s/it]"
     ]
    },
    {
     "name": "stdout",
     "output_type": "stream",
     "text": [
      "Epoch [48/50],\tStep [64/938],\tIteraion [44150/46900],\tLoss: 2.2917,\tTime: 0.07\n",
      "Epoch [48/50],\tStep [128/938],\tIteraion [44214/46900],\tLoss: 2.2975,\tTime: 0.07\n",
      "Epoch [48/50],\tStep [192/938],\tIteraion [44278/46900],\tLoss: 2.2873,\tTime: 0.08\n",
      "Epoch [48/50],\tStep [256/938],\tIteraion [44342/46900],\tLoss: 2.2950,\tTime: 0.07\n",
      "Epoch [48/50],\tStep [320/938],\tIteraion [44406/46900],\tLoss: 2.2878,\tTime: 0.07\n",
      "Epoch [48/50],\tStep [384/938],\tIteraion [44470/46900],\tLoss: 2.2886,\tTime: 0.06\n",
      "Epoch [48/50],\tStep [448/938],\tIteraion [44534/46900],\tLoss: 2.2920,\tTime: 0.07\n",
      "Epoch [48/50],\tStep [512/938],\tIteraion [44598/46900],\tLoss: 2.2906,\tTime: 0.07\n",
      "Epoch [48/50],\tStep [576/938],\tIteraion [44662/46900],\tLoss: 2.2891,\tTime: 0.07\n",
      "Epoch [48/50],\tStep [640/938],\tIteraion [44726/46900],\tLoss: 2.2790,\tTime: 0.07\n",
      "Epoch [48/50],\tStep [704/938],\tIteraion [44790/46900],\tLoss: 2.2888,\tTime: 0.07\n",
      "Epoch [48/50],\tStep [768/938],\tIteraion [44854/46900],\tLoss: 2.2952,\tTime: 0.07\n",
      "Epoch [48/50],\tStep [832/938],\tIteraion [44918/46900],\tLoss: 2.2932,\tTime: 0.08\n",
      "Epoch [48/50],\tStep [896/938],\tIteraion [44982/46900],\tLoss: 2.2891,\tTime: 0.07\n"
     ]
    },
    {
     "name": "stderr",
     "output_type": "stream",
     "text": [
      " 96%|█████████▌| 48/50 [1:02:23<02:39, 79.80s/it]"
     ]
    },
    {
     "name": "stdout",
     "output_type": "stream",
     "text": [
      "Epoch [49/50],\tStep [64/938],\tIteraion [45088/46900],\tLoss: 2.2955,\tTime: 0.07\n",
      "Epoch [49/50],\tStep [128/938],\tIteraion [45152/46900],\tLoss: 2.2943,\tTime: 0.07\n",
      "Epoch [49/50],\tStep [192/938],\tIteraion [45216/46900],\tLoss: 2.2954,\tTime: 0.08\n",
      "Epoch [49/50],\tStep [256/938],\tIteraion [45280/46900],\tLoss: 2.2918,\tTime: 0.08\n",
      "Epoch [49/50],\tStep [320/938],\tIteraion [45344/46900],\tLoss: 2.2899,\tTime: 0.08\n",
      "Epoch [49/50],\tStep [384/938],\tIteraion [45408/46900],\tLoss: 2.2918,\tTime: 0.07\n",
      "Epoch [49/50],\tStep [448/938],\tIteraion [45472/46900],\tLoss: 2.2904,\tTime: 0.07\n",
      "Epoch [49/50],\tStep [512/938],\tIteraion [45536/46900],\tLoss: 2.2883,\tTime: 0.08\n",
      "Epoch [49/50],\tStep [576/938],\tIteraion [45600/46900],\tLoss: 2.2850,\tTime: 0.07\n",
      "Epoch [49/50],\tStep [640/938],\tIteraion [45664/46900],\tLoss: 2.2938,\tTime: 0.07\n",
      "Epoch [49/50],\tStep [704/938],\tIteraion [45728/46900],\tLoss: 2.2945,\tTime: 0.07\n",
      "Epoch [49/50],\tStep [768/938],\tIteraion [45792/46900],\tLoss: 2.2910,\tTime: 0.07\n",
      "Epoch [49/50],\tStep [832/938],\tIteraion [45856/46900],\tLoss: 2.2928,\tTime: 0.07\n",
      "Epoch [49/50],\tStep [896/938],\tIteraion [45920/46900],\tLoss: 2.2938,\tTime: 0.08\n"
     ]
    },
    {
     "name": "stderr",
     "output_type": "stream",
     "text": [
      " 98%|█████████▊| 49/50 [1:03:42<01:19, 79.77s/it]"
     ]
    },
    {
     "name": "stdout",
     "output_type": "stream",
     "text": [
      "Epoch [50/50],\tStep [64/938],\tIteraion [46026/46900],\tLoss: 2.2891,\tTime: 0.07\n",
      "Epoch [50/50],\tStep [128/938],\tIteraion [46090/46900],\tLoss: 2.2903,\tTime: 0.08\n",
      "Epoch [50/50],\tStep [192/938],\tIteraion [46154/46900],\tLoss: 2.2928,\tTime: 0.07\n",
      "Epoch [50/50],\tStep [256/938],\tIteraion [46218/46900],\tLoss: 2.2950,\tTime: 0.08\n",
      "Epoch [50/50],\tStep [320/938],\tIteraion [46282/46900],\tLoss: 2.2895,\tTime: 0.07\n",
      "Epoch [50/50],\tStep [384/938],\tIteraion [46346/46900],\tLoss: 2.2912,\tTime: 0.07\n",
      "Epoch [50/50],\tStep [448/938],\tIteraion [46410/46900],\tLoss: 2.2929,\tTime: 0.08\n",
      "Epoch [50/50],\tStep [512/938],\tIteraion [46474/46900],\tLoss: 2.2914,\tTime: 0.07\n",
      "Epoch [50/50],\tStep [576/938],\tIteraion [46538/46900],\tLoss: 2.2921,\tTime: 0.07\n",
      "Epoch [50/50],\tStep [640/938],\tIteraion [46602/46900],\tLoss: 2.2909,\tTime: 0.08\n",
      "Epoch [50/50],\tStep [704/938],\tIteraion [46666/46900],\tLoss: 2.2946,\tTime: 0.07\n",
      "Epoch [50/50],\tStep [768/938],\tIteraion [46730/46900],\tLoss: 2.2868,\tTime: 0.07\n",
      "Epoch [50/50],\tStep [832/938],\tIteraion [46794/46900],\tLoss: 2.2911,\tTime: 0.07\n",
      "Epoch [50/50],\tStep [896/938],\tIteraion [46858/46900],\tLoss: 2.2891,\tTime: 0.07\n"
     ]
    },
    {
     "name": "stderr",
     "output_type": "stream",
     "text": [
      "100%|██████████| 50/50 [1:05:02<00:00, 78.05s/it]\n"
     ]
    },
    {
     "name": "stdout",
     "output_type": "stream",
     "text": [
      "Finished FGD Training\n"
     ]
    },
    {
     "data": {
      "image/png": "[encoded data removed]",
      "text/plain": [
       "<Figure size 1200x480 with 2 Axes>"
      ]
     },
     "metadata": {},
     "output_type": "display_data"
    }
   ],
   "source": [
    "# Train CNN with FGD\n",
    "cnn_fgd_l, cnn_fgd_t = train_fgd(CNN(), train_loader=train_loader, num_epochs=50)\n",
    "# Train CNN with SGD\n",
    "# cnn_sgd_l, cnn_sgd_t = train_sgd(CNN(), train_loader=train_loader, num_epochs=50)\n",
    "\n",
    "# Set up a figure\n",
    "fig = plt.figure(figsize=plt.figaspect(.4))\n",
    "fig.suptitle(\"CNN losses and training times\", fontsize=15, fontweight='bold', y=1.05)\n",
    "\n",
    "# First subplot (Losses)\n",
    "ax1 = fig.add_subplot(1, 2, 1)\n",
    "ax1.set_title(\"CNN losses\")\n",
    "ax1.plot(cnn_fgd_l, label='FGD', alpha=0.75)\n",
    "# ax1.plot(cnn_sgd_l, label='SGD', alpha=0.75)\n",
    "ax1.set_xlabel(\"Iterations\")\n",
    "ax1.set_ylabel(\"Loss\")\n",
    "ax1.legend()\n",
    "\n",
    "# Second subplot (Times)\n",
    "ax2 = fig.add_subplot(1, 2, 2)\n",
    "ax2.set_title(\"CNN training time\")\n",
    "ax2.plot(cnn_fgd_t, label='FGD', alpha=0.75)\n",
    "# ax2.plot(cnn_sgd_t, label='SGD', alpha=0.75)\n",
    "ax2.set_xlabel(\"Iterations\")\n",
    "ax2.set_ylabel(\"Time (s)\")\n",
    "ax2.legend()\n",
    "\n",
    "plt.show()"
   ]
  },
  {
   "cell_type": "code",
   "execution_count": 40,
   "metadata": {},
   "outputs": [],
   "source": [
    "# Given a model, train it using SGD\n",
    "def train_sgd(model, train_loader, num_epochs=20, learning_rate=2e-4, input_size=28*28):\n",
    "    print(f'\\n\\nTraining {model.__class__.__name__} with SGD for {num_epochs} epochs...')\n",
    "\n",
    "    # Define criterion and optimizer\n",
    "    criterion = nn.CrossEntropyLoss()\n",
    "    optimizer = torch.optim.SGD(model.parameters(), lr=learning_rate)\n",
    "\n",
    "    # Initialize losses and times\n",
    "    losses = list()\n",
    "    times = list([0])\n",
    "\n",
    "    # Train the model\n",
    "    for epoch in range(num_epochs):\n",
    "        for i, (images, labels) in enumerate(train_loader):\n",
    "            # Start time\n",
    "            t0 = time.time()\n",
    "            # Reshape the images (for FNN only)\n",
    "            if isinstance(model, FNN): images = images.reshape(-1, input_size)\n",
    "            # Zero the gradients\n",
    "            optimizer.zero_grad()\n",
    "            # Forward pass\n",
    "            outputs = model(images)\n",
    "            loss = criterion(outputs, labels)\n",
    "            # Backward and optimize\n",
    "            loss.backward()\n",
    "            optimizer.step()\n",
    "            # End time\n",
    "            t1 = time.time()\n",
    "            # Update losses and times\n",
    "            losses.append(loss.item())\n",
    "            times.append(times[-1]+t1-t0)  \n",
    "            # Print the statistics\n",
    "            if (i+1) % batch_size == 0:\n",
    "                print (f'Epoch [{epoch+1}/{num_epochs}],\\tStep [{i+1}/{len(train_loader)}],\\t' +\n",
    "                        f'Iteraion [{i+1+epoch*len(train_loader)}/{len(train_loader)*num_epochs}],\\t' +\n",
    "                        f'Loss: {loss:.4f},\\tTime: {t1-t0:.2f}')\n",
    "    print('Finished SGD Training')\n",
    "    return losses, times"
   ]
  },
  {
   "cell_type": "code",
   "execution_count": 41,
   "metadata": {},
   "outputs": [
    {
     "name": "stdout",
     "output_type": "stream",
     "text": [
      "\n",
      "\n",
      "Training CNN with SGD for 50 epochs...\n",
      "Epoch [1/50],\tStep [64/938],\tIteraion [64/46900],\tLoss: 2.3034,\tTime: 0.05\n",
      "Epoch [1/50],\tStep [128/938],\tIteraion [128/46900],\tLoss: 2.3036,\tTime: 0.04\n",
      "Epoch [1/50],\tStep [192/938],\tIteraion [192/46900],\tLoss: 2.3002,\tTime: 0.03\n",
      "Epoch [1/50],\tStep [256/938],\tIteraion [256/46900],\tLoss: 2.3018,\tTime: 0.04\n",
      "Epoch [1/50],\tStep [320/938],\tIteraion [320/46900],\tLoss: 2.3006,\tTime: 0.05\n",
      "Epoch [1/50],\tStep [384/938],\tIteraion [384/46900],\tLoss: 2.3039,\tTime: 0.03\n",
      "Epoch [1/50],\tStep [448/938],\tIteraion [448/46900],\tLoss: 2.3012,\tTime: 0.05\n",
      "Epoch [1/50],\tStep [512/938],\tIteraion [512/46900],\tLoss: 2.3010,\tTime: 0.06\n",
      "Epoch [1/50],\tStep [576/938],\tIteraion [576/46900],\tLoss: 2.3004,\tTime: 0.04\n",
      "Epoch [1/50],\tStep [640/938],\tIteraion [640/46900],\tLoss: 2.3031,\tTime: 0.03\n",
      "Epoch [1/50],\tStep [704/938],\tIteraion [704/46900],\tLoss: 2.3011,\tTime: 0.05\n",
      "Epoch [1/50],\tStep [768/938],\tIteraion [768/46900],\tLoss: 2.3011,\tTime: 0.05\n",
      "Epoch [1/50],\tStep [832/938],\tIteraion [832/46900],\tLoss: 2.3004,\tTime: 0.05\n",
      "Epoch [1/50],\tStep [896/938],\tIteraion [896/46900],\tLoss: 2.3025,\tTime: 0.05\n",
      "Epoch [2/50],\tStep [64/938],\tIteraion [1002/46900],\tLoss: 2.3014,\tTime: 0.04\n",
      "Epoch [2/50],\tStep [128/938],\tIteraion [1066/46900],\tLoss: 2.3020,\tTime: 0.05\n",
      "Epoch [2/50],\tStep [192/938],\tIteraion [1130/46900],\tLoss: 2.3004,\tTime: 0.04\n",
      "Epoch [2/50],\tStep [256/938],\tIteraion [1194/46900],\tLoss: 2.2998,\tTime: 0.04\n",
      "Epoch [2/50],\tStep [320/938],\tIteraion [1258/46900],\tLoss: 2.3029,\tTime: 0.06\n",
      "Epoch [2/50],\tStep [384/938],\tIteraion [1322/46900],\tLoss: 2.3011,\tTime: 0.04\n",
      "Epoch [2/50],\tStep [448/938],\tIteraion [1386/46900],\tLoss: 2.3020,\tTime: 0.03\n",
      "Epoch [2/50],\tStep [512/938],\tIteraion [1450/46900],\tLoss: 2.2999,\tTime: 0.05\n",
      "Epoch [2/50],\tStep [576/938],\tIteraion [1514/46900],\tLoss: 2.3052,\tTime: 0.05\n",
      "Epoch [2/50],\tStep [640/938],\tIteraion [1578/46900],\tLoss: 2.3003,\tTime: 0.05\n",
      "Epoch [2/50],\tStep [704/938],\tIteraion [1642/46900],\tLoss: 2.3011,\tTime: 0.05\n",
      "Epoch [2/50],\tStep [768/938],\tIteraion [1706/46900],\tLoss: 2.3007,\tTime: 0.05\n",
      "Epoch [2/50],\tStep [832/938],\tIteraion [1770/46900],\tLoss: 2.2986,\tTime: 0.05\n",
      "Epoch [2/50],\tStep [896/938],\tIteraion [1834/46900],\tLoss: 2.3007,\tTime: 0.05\n",
      "Epoch [3/50],\tStep [64/938],\tIteraion [1940/46900],\tLoss: 2.3036,\tTime: 0.05\n",
      "Epoch [3/50],\tStep [128/938],\tIteraion [2004/46900],\tLoss: 2.2989,\tTime: 0.05\n",
      "Epoch [3/50],\tStep [192/938],\tIteraion [2068/46900],\tLoss: 2.2996,\tTime: 0.05\n",
      "Epoch [3/50],\tStep [256/938],\tIteraion [2132/46900],\tLoss: 2.3008,\tTime: 0.04\n",
      "Epoch [3/50],\tStep [320/938],\tIteraion [2196/46900],\tLoss: 2.3039,\tTime: 0.05\n",
      "Epoch [3/50],\tStep [384/938],\tIteraion [2260/46900],\tLoss: 2.2997,\tTime: 0.06\n",
      "Epoch [3/50],\tStep [448/938],\tIteraion [2324/46900],\tLoss: 2.3017,\tTime: 0.05\n",
      "Epoch [3/50],\tStep [512/938],\tIteraion [2388/46900],\tLoss: 2.3005,\tTime: 0.03\n",
      "Epoch [3/50],\tStep [576/938],\tIteraion [2452/46900],\tLoss: 2.3009,\tTime: 0.03\n",
      "Epoch [3/50],\tStep [640/938],\tIteraion [2516/46900],\tLoss: 2.3001,\tTime: 0.07\n",
      "Epoch [3/50],\tStep [704/938],\tIteraion [2580/46900],\tLoss: 2.3006,\tTime: 0.05\n",
      "Epoch [3/50],\tStep [768/938],\tIteraion [2644/46900],\tLoss: 2.2987,\tTime: 0.07\n",
      "Epoch [3/50],\tStep [832/938],\tIteraion [2708/46900],\tLoss: 2.3000,\tTime: 0.04\n",
      "Epoch [3/50],\tStep [896/938],\tIteraion [2772/46900],\tLoss: 2.2974,\tTime: 0.05\n",
      "Epoch [4/50],\tStep [64/938],\tIteraion [2878/46900],\tLoss: 2.3008,\tTime: 0.05\n",
      "Epoch [4/50],\tStep [128/938],\tIteraion [2942/46900],\tLoss: 2.2997,\tTime: 0.05\n",
      "Epoch [4/50],\tStep [192/938],\tIteraion [3006/46900],\tLoss: 2.2997,\tTime: 0.05\n",
      "Epoch [4/50],\tStep [256/938],\tIteraion [3070/46900],\tLoss: 2.3022,\tTime: 0.05\n",
      "Epoch [4/50],\tStep [320/938],\tIteraion [3134/46900],\tLoss: 2.2998,\tTime: 0.05\n",
      "Epoch [4/50],\tStep [384/938],\tIteraion [3198/46900],\tLoss: 2.2995,\tTime: 0.05\n",
      "Epoch [4/50],\tStep [448/938],\tIteraion [3262/46900],\tLoss: 2.2971,\tTime: 0.05\n",
      "Epoch [4/50],\tStep [512/938],\tIteraion [3326/46900],\tLoss: 2.3018,\tTime: 0.03\n",
      "Epoch [4/50],\tStep [576/938],\tIteraion [3390/46900],\tLoss: 2.3014,\tTime: 0.04\n",
      "Epoch [4/50],\tStep [640/938],\tIteraion [3454/46900],\tLoss: 2.3011,\tTime: 0.04\n",
      "Epoch [4/50],\tStep [704/938],\tIteraion [3518/46900],\tLoss: 2.3004,\tTime: 0.05\n",
      "Epoch [4/50],\tStep [768/938],\tIteraion [3582/46900],\tLoss: 2.2990,\tTime: 0.05\n",
      "Epoch [4/50],\tStep [832/938],\tIteraion [3646/46900],\tLoss: 2.2970,\tTime: 0.06\n",
      "Epoch [4/50],\tStep [896/938],\tIteraion [3710/46900],\tLoss: 2.2977,\tTime: 0.05\n",
      "Epoch [5/50],\tStep [64/938],\tIteraion [3816/46900],\tLoss: 2.2988,\tTime: 0.05\n",
      "Epoch [5/50],\tStep [128/938],\tIteraion [3880/46900],\tLoss: 2.3007,\tTime: 0.03\n",
      "Epoch [5/50],\tStep [192/938],\tIteraion [3944/46900],\tLoss: 2.2963,\tTime: 0.05\n",
      "Epoch [5/50],\tStep [256/938],\tIteraion [4008/46900],\tLoss: 2.2975,\tTime: 0.06\n",
      "Epoch [5/50],\tStep [320/938],\tIteraion [4072/46900],\tLoss: 2.2991,\tTime: 0.03\n",
      "Epoch [5/50],\tStep [384/938],\tIteraion [4136/46900],\tLoss: 2.2999,\tTime: 0.03\n",
      "Epoch [5/50],\tStep [448/938],\tIteraion [4200/46900],\tLoss: 2.2980,\tTime: 0.03\n",
      "Epoch [5/50],\tStep [512/938],\tIteraion [4264/46900],\tLoss: 2.2960,\tTime: 0.03\n",
      "Epoch [5/50],\tStep [576/938],\tIteraion [4328/46900],\tLoss: 2.3002,\tTime: 0.05\n",
      "Epoch [5/50],\tStep [640/938],\tIteraion [4392/46900],\tLoss: 2.2974,\tTime: 0.05\n",
      "Epoch [5/50],\tStep [704/938],\tIteraion [4456/46900],\tLoss: 2.2973,\tTime: 0.04\n",
      "Epoch [5/50],\tStep [768/938],\tIteraion [4520/46900],\tLoss: 2.2972,\tTime: 0.03\n",
      "Epoch [5/50],\tStep [832/938],\tIteraion [4584/46900],\tLoss: 2.3014,\tTime: 0.05\n",
      "Epoch [5/50],\tStep [896/938],\tIteraion [4648/46900],\tLoss: 2.2968,\tTime: 0.05\n",
      "Epoch [6/50],\tStep [64/938],\tIteraion [4754/46900],\tLoss: 2.2965,\tTime: 0.05\n",
      "Epoch [6/50],\tStep [128/938],\tIteraion [4818/46900],\tLoss: 2.2981,\tTime: 0.05\n",
      "Epoch [6/50],\tStep [192/938],\tIteraion [4882/46900],\tLoss: 2.2974,\tTime: 0.05\n",
      "Epoch [6/50],\tStep [256/938],\tIteraion [4946/46900],\tLoss: 2.2967,\tTime: 0.03\n",
      "Epoch [6/50],\tStep [320/938],\tIteraion [5010/46900],\tLoss: 2.2988,\tTime: 0.03\n",
      "Epoch [6/50],\tStep [384/938],\tIteraion [5074/46900],\tLoss: 2.2974,\tTime: 0.05\n",
      "Epoch [6/50],\tStep [448/938],\tIteraion [5138/46900],\tLoss: 2.2958,\tTime: 0.03\n",
      "Epoch [6/50],\tStep [512/938],\tIteraion [5202/46900],\tLoss: 2.2985,\tTime: 0.05\n",
      "Epoch [6/50],\tStep [576/938],\tIteraion [5266/46900],\tLoss: 2.2976,\tTime: 0.05\n",
      "Epoch [6/50],\tStep [640/938],\tIteraion [5330/46900],\tLoss: 2.3004,\tTime: 0.06\n",
      "Epoch [6/50],\tStep [704/938],\tIteraion [5394/46900],\tLoss: 2.3006,\tTime: 0.05\n",
      "Epoch [6/50],\tStep [768/938],\tIteraion [5458/46900],\tLoss: 2.2971,\tTime: 0.05\n",
      "Epoch [6/50],\tStep [832/938],\tIteraion [5522/46900],\tLoss: 2.2964,\tTime: 0.05\n",
      "Epoch [6/50],\tStep [896/938],\tIteraion [5586/46900],\tLoss: 2.2969,\tTime: 0.05\n",
      "Epoch [7/50],\tStep [64/938],\tIteraion [5692/46900],\tLoss: 2.2956,\tTime: 0.06\n",
      "Epoch [7/50],\tStep [128/938],\tIteraion [5756/46900],\tLoss: 2.2989,\tTime: 0.05\n",
      "Epoch [7/50],\tStep [192/938],\tIteraion [5820/46900],\tLoss: 2.2956,\tTime: 0.04\n",
      "Epoch [7/50],\tStep [256/938],\tIteraion [5884/46900],\tLoss: 2.2927,\tTime: 0.05\n",
      "Epoch [7/50],\tStep [320/938],\tIteraion [5948/46900],\tLoss: 2.3005,\tTime: 0.05\n",
      "Epoch [7/50],\tStep [384/938],\tIteraion [6012/46900],\tLoss: 2.2948,\tTime: 0.05\n",
      "Epoch [7/50],\tStep [448/938],\tIteraion [6076/46900],\tLoss: 2.2955,\tTime: 0.05\n",
      "Epoch [7/50],\tStep [512/938],\tIteraion [6140/46900],\tLoss: 2.2989,\tTime: 0.04\n",
      "Epoch [7/50],\tStep [576/938],\tIteraion [6204/46900],\tLoss: 2.2974,\tTime: 0.05\n",
      "Epoch [7/50],\tStep [640/938],\tIteraion [6268/46900],\tLoss: 2.2979,\tTime: 0.03\n",
      "Epoch [7/50],\tStep [704/938],\tIteraion [6332/46900],\tLoss: 2.2939,\tTime: 0.04\n",
      "Epoch [7/50],\tStep [768/938],\tIteraion [6396/46900],\tLoss: 2.2946,\tTime: 0.04\n",
      "Epoch [7/50],\tStep [832/938],\tIteraion [6460/46900],\tLoss: 2.2953,\tTime: 0.05\n",
      "Epoch [7/50],\tStep [896/938],\tIteraion [6524/46900],\tLoss: 2.2942,\tTime: 0.04\n",
      "Epoch [8/50],\tStep [64/938],\tIteraion [6630/46900],\tLoss: 2.2970,\tTime: 0.05\n",
      "Epoch [8/50],\tStep [128/938],\tIteraion [6694/46900],\tLoss: 2.2965,\tTime: 0.06\n",
      "Epoch [8/50],\tStep [192/938],\tIteraion [6758/46900],\tLoss: 2.2963,\tTime: 0.05\n",
      "Epoch [8/50],\tStep [256/938],\tIteraion [6822/46900],\tLoss: 2.2968,\tTime: 0.05\n",
      "Epoch [8/50],\tStep [320/938],\tIteraion [6886/46900],\tLoss: 2.2986,\tTime: 0.03\n",
      "Epoch [8/50],\tStep [384/938],\tIteraion [6950/46900],\tLoss: 2.2963,\tTime: 0.03\n",
      "Epoch [8/50],\tStep [448/938],\tIteraion [7014/46900],\tLoss: 2.2964,\tTime: 0.05\n",
      "Epoch [8/50],\tStep [512/938],\tIteraion [7078/46900],\tLoss: 2.2945,\tTime: 0.05\n",
      "Epoch [8/50],\tStep [576/938],\tIteraion [7142/46900],\tLoss: 2.2960,\tTime: 0.04\n",
      "Epoch [8/50],\tStep [640/938],\tIteraion [7206/46900],\tLoss: 2.2934,\tTime: 0.05\n",
      "Epoch [8/50],\tStep [704/938],\tIteraion [7270/46900],\tLoss: 2.2946,\tTime: 0.05\n",
      "Epoch [8/50],\tStep [768/938],\tIteraion [7334/46900],\tLoss: 2.2981,\tTime: 0.05\n",
      "Epoch [8/50],\tStep [832/938],\tIteraion [7398/46900],\tLoss: 2.2952,\tTime: 0.05\n",
      "Epoch [8/50],\tStep [896/938],\tIteraion [7462/46900],\tLoss: 2.2964,\tTime: 0.05\n",
      "Epoch [9/50],\tStep [64/938],\tIteraion [7568/46900],\tLoss: 2.2943,\tTime: 0.05\n",
      "Epoch [9/50],\tStep [128/938],\tIteraion [7632/46900],\tLoss: 2.2967,\tTime: 0.05\n",
      "Epoch [9/50],\tStep [192/938],\tIteraion [7696/46900],\tLoss: 2.2937,\tTime: 0.05\n",
      "Epoch [9/50],\tStep [256/938],\tIteraion [7760/46900],\tLoss: 2.2942,\tTime: 0.04\n",
      "Epoch [9/50],\tStep [320/938],\tIteraion [7824/46900],\tLoss: 2.2969,\tTime: 0.05\n",
      "Epoch [9/50],\tStep [384/938],\tIteraion [7888/46900],\tLoss: 2.2936,\tTime: 0.05\n",
      "Epoch [9/50],\tStep [448/938],\tIteraion [7952/46900],\tLoss: 2.2969,\tTime: 0.05\n",
      "Epoch [9/50],\tStep [512/938],\tIteraion [8016/46900],\tLoss: 2.2947,\tTime: 0.05\n",
      "Epoch [9/50],\tStep [576/938],\tIteraion [8080/46900],\tLoss: 2.2977,\tTime: 0.05\n",
      "Epoch [9/50],\tStep [640/938],\tIteraion [8144/46900],\tLoss: 2.2954,\tTime: 0.05\n",
      "Epoch [9/50],\tStep [704/938],\tIteraion [8208/46900],\tLoss: 2.2945,\tTime: 0.05\n",
      "Epoch [9/50],\tStep [768/938],\tIteraion [8272/46900],\tLoss: 2.2968,\tTime: 0.05\n",
      "Epoch [9/50],\tStep [832/938],\tIteraion [8336/46900],\tLoss: 2.2944,\tTime: 0.05\n",
      "Epoch [9/50],\tStep [896/938],\tIteraion [8400/46900],\tLoss: 2.2939,\tTime: 0.05\n",
      "Epoch [10/50],\tStep [64/938],\tIteraion [8506/46900],\tLoss: 2.2891,\tTime: 0.05\n",
      "Epoch [10/50],\tStep [128/938],\tIteraion [8570/46900],\tLoss: 2.2928,\tTime: 0.05\n",
      "Epoch [10/50],\tStep [192/938],\tIteraion [8634/46900],\tLoss: 2.2914,\tTime: 0.05\n",
      "Epoch [10/50],\tStep [256/938],\tIteraion [8698/46900],\tLoss: 2.2943,\tTime: 0.07\n",
      "Epoch [10/50],\tStep [320/938],\tIteraion [8762/46900],\tLoss: 2.2916,\tTime: 0.05\n",
      "Epoch [10/50],\tStep [384/938],\tIteraion [8826/46900],\tLoss: 2.2951,\tTime: 0.05\n",
      "Epoch [10/50],\tStep [448/938],\tIteraion [8890/46900],\tLoss: 2.2909,\tTime: 0.05\n",
      "Epoch [10/50],\tStep [512/938],\tIteraion [8954/46900],\tLoss: 2.2915,\tTime: 0.03\n",
      "Epoch [10/50],\tStep [576/938],\tIteraion [9018/46900],\tLoss: 2.2902,\tTime: 0.04\n",
      "Epoch [10/50],\tStep [640/938],\tIteraion [9082/46900],\tLoss: 2.2899,\tTime: 0.05\n",
      "Epoch [10/50],\tStep [704/938],\tIteraion [9146/46900],\tLoss: 2.2961,\tTime: 0.05\n",
      "Epoch [10/50],\tStep [768/938],\tIteraion [9210/46900],\tLoss: 2.2938,\tTime: 0.04\n",
      "Epoch [10/50],\tStep [832/938],\tIteraion [9274/46900],\tLoss: 2.2934,\tTime: 0.04\n",
      "Epoch [10/50],\tStep [896/938],\tIteraion [9338/46900],\tLoss: 2.2917,\tTime: 0.06\n",
      "Epoch [11/50],\tStep [64/938],\tIteraion [9444/46900],\tLoss: 2.2966,\tTime: 0.05\n",
      "Epoch [11/50],\tStep [128/938],\tIteraion [9508/46900],\tLoss: 2.2911,\tTime: 0.05\n",
      "Epoch [11/50],\tStep [192/938],\tIteraion [9572/46900],\tLoss: 2.2952,\tTime: 0.05\n",
      "Epoch [11/50],\tStep [256/938],\tIteraion [9636/46900],\tLoss: 2.2865,\tTime: 0.05\n",
      "Epoch [11/50],\tStep [320/938],\tIteraion [9700/46900],\tLoss: 2.2928,\tTime: 0.05\n",
      "Epoch [11/50],\tStep [384/938],\tIteraion [9764/46900],\tLoss: 2.2926,\tTime: 0.05\n",
      "Epoch [11/50],\tStep [448/938],\tIteraion [9828/46900],\tLoss: 2.2931,\tTime: 0.05\n",
      "Epoch [11/50],\tStep [512/938],\tIteraion [9892/46900],\tLoss: 2.2918,\tTime: 0.05\n",
      "Epoch [11/50],\tStep [576/938],\tIteraion [9956/46900],\tLoss: 2.2867,\tTime: 0.05\n",
      "Epoch [11/50],\tStep [640/938],\tIteraion [10020/46900],\tLoss: 2.2917,\tTime: 0.03\n",
      "Epoch [11/50],\tStep [704/938],\tIteraion [10084/46900],\tLoss: 2.2878,\tTime: 0.05\n",
      "Epoch [11/50],\tStep [768/938],\tIteraion [10148/46900],\tLoss: 2.2917,\tTime: 0.05\n",
      "Epoch [11/50],\tStep [832/938],\tIteraion [10212/46900],\tLoss: 2.2927,\tTime: 0.04\n",
      "Epoch [11/50],\tStep [896/938],\tIteraion [10276/46900],\tLoss: 2.2919,\tTime: 0.05\n",
      "Epoch [12/50],\tStep [64/938],\tIteraion [10382/46900],\tLoss: 2.2896,\tTime: 0.05\n",
      "Epoch [12/50],\tStep [128/938],\tIteraion [10446/46900],\tLoss: 2.2877,\tTime: 0.06\n",
      "Epoch [12/50],\tStep [192/938],\tIteraion [10510/46900],\tLoss: 2.2858,\tTime: 0.06\n",
      "Epoch [12/50],\tStep [256/938],\tIteraion [10574/46900],\tLoss: 2.2942,\tTime: 0.06\n",
      "Epoch [12/50],\tStep [320/938],\tIteraion [10638/46900],\tLoss: 2.2936,\tTime: 0.05\n",
      "Epoch [12/50],\tStep [384/938],\tIteraion [10702/46900],\tLoss: 2.2916,\tTime: 0.05\n",
      "Epoch [12/50],\tStep [448/938],\tIteraion [10766/46900],\tLoss: 2.2869,\tTime: 0.05\n",
      "Epoch [12/50],\tStep [512/938],\tIteraion [10830/46900],\tLoss: 2.2913,\tTime: 0.03\n",
      "Epoch [12/50],\tStep [576/938],\tIteraion [10894/46900],\tLoss: 2.2930,\tTime: 0.04\n",
      "Epoch [12/50],\tStep [640/938],\tIteraion [10958/46900],\tLoss: 2.2891,\tTime: 0.05\n",
      "Epoch [12/50],\tStep [704/938],\tIteraion [11022/46900],\tLoss: 2.2896,\tTime: 0.05\n",
      "Epoch [12/50],\tStep [768/938],\tIteraion [11086/46900],\tLoss: 2.2905,\tTime: 0.05\n",
      "Epoch [12/50],\tStep [832/938],\tIteraion [11150/46900],\tLoss: 2.2898,\tTime: 0.05\n",
      "Epoch [12/50],\tStep [896/938],\tIteraion [11214/46900],\tLoss: 2.2865,\tTime: 0.05\n",
      "Epoch [13/50],\tStep [64/938],\tIteraion [11320/46900],\tLoss: 2.2818,\tTime: 0.05\n",
      "Epoch [13/50],\tStep [128/938],\tIteraion [11384/46900],\tLoss: 2.2931,\tTime: 0.06\n",
      "Epoch [13/50],\tStep [192/938],\tIteraion [11448/46900],\tLoss: 2.2880,\tTime: 0.05\n",
      "Epoch [13/50],\tStep [256/938],\tIteraion [11512/46900],\tLoss: 2.2879,\tTime: 0.06\n",
      "Epoch [13/50],\tStep [320/938],\tIteraion [11576/46900],\tLoss: 2.2871,\tTime: 0.05\n",
      "Epoch [13/50],\tStep [384/938],\tIteraion [11640/46900],\tLoss: 2.2865,\tTime: 0.05\n",
      "Epoch [13/50],\tStep [448/938],\tIteraion [11704/46900],\tLoss: 2.2829,\tTime: 0.05\n",
      "Epoch [13/50],\tStep [512/938],\tIteraion [11768/46900],\tLoss: 2.2842,\tTime: 0.05\n",
      "Epoch [13/50],\tStep [576/938],\tIteraion [11832/46900],\tLoss: 2.2889,\tTime: 0.05\n",
      "Epoch [13/50],\tStep [640/938],\tIteraion [11896/46900],\tLoss: 2.2826,\tTime: 0.05\n",
      "Epoch [13/50],\tStep [704/938],\tIteraion [11960/46900],\tLoss: 2.2831,\tTime: 0.05\n",
      "Epoch [13/50],\tStep [768/938],\tIteraion [12024/46900],\tLoss: 2.2868,\tTime: 0.05\n",
      "Epoch [13/50],\tStep [832/938],\tIteraion [12088/46900],\tLoss: 2.2842,\tTime: 0.05\n",
      "Epoch [13/50],\tStep [896/938],\tIteraion [12152/46900],\tLoss: 2.2847,\tTime: 0.05\n",
      "Epoch [14/50],\tStep [64/938],\tIteraion [12258/46900],\tLoss: 2.2897,\tTime: 0.04\n",
      "Epoch [14/50],\tStep [128/938],\tIteraion [12322/46900],\tLoss: 2.2869,\tTime: 0.05\n",
      "Epoch [14/50],\tStep [192/938],\tIteraion [12386/46900],\tLoss: 2.2820,\tTime: 0.03\n",
      "Epoch [14/50],\tStep [256/938],\tIteraion [12450/46900],\tLoss: 2.2825,\tTime: 0.05\n",
      "Epoch [14/50],\tStep [320/938],\tIteraion [12514/46900],\tLoss: 2.2814,\tTime: 0.05\n",
      "Epoch [14/50],\tStep [384/938],\tIteraion [12578/46900],\tLoss: 2.2861,\tTime: 0.05\n",
      "Epoch [14/50],\tStep [448/938],\tIteraion [12642/46900],\tLoss: 2.2862,\tTime: 0.05\n",
      "Epoch [14/50],\tStep [512/938],\tIteraion [12706/46900],\tLoss: 2.2905,\tTime: 0.05\n",
      "Epoch [14/50],\tStep [576/938],\tIteraion [12770/46900],\tLoss: 2.2834,\tTime: 0.05\n",
      "Epoch [14/50],\tStep [640/938],\tIteraion [12834/46900],\tLoss: 2.2843,\tTime: 0.04\n",
      "Epoch [14/50],\tStep [704/938],\tIteraion [12898/46900],\tLoss: 2.2828,\tTime: 0.05\n",
      "Epoch [14/50],\tStep [768/938],\tIteraion [12962/46900],\tLoss: 2.2860,\tTime: 0.05\n",
      "Epoch [14/50],\tStep [832/938],\tIteraion [13026/46900],\tLoss: 2.2803,\tTime: 0.05\n",
      "Epoch [14/50],\tStep [896/938],\tIteraion [13090/46900],\tLoss: 2.2756,\tTime: 0.05\n",
      "Epoch [15/50],\tStep [64/938],\tIteraion [13196/46900],\tLoss: 2.2839,\tTime: 0.05\n",
      "Epoch [15/50],\tStep [128/938],\tIteraion [13260/46900],\tLoss: 2.2773,\tTime: 0.05\n",
      "Epoch [15/50],\tStep [192/938],\tIteraion [13324/46900],\tLoss: 2.2806,\tTime: 0.05\n",
      "Epoch [15/50],\tStep [256/938],\tIteraion [13388/46900],\tLoss: 2.2847,\tTime: 0.05\n",
      "Epoch [15/50],\tStep [320/938],\tIteraion [13452/46900],\tLoss: 2.2765,\tTime: 0.04\n",
      "Epoch [15/50],\tStep [384/938],\tIteraion [13516/46900],\tLoss: 2.2811,\tTime: 0.05\n",
      "Epoch [15/50],\tStep [448/938],\tIteraion [13580/46900],\tLoss: 2.2796,\tTime: 0.05\n",
      "Epoch [15/50],\tStep [512/938],\tIteraion [13644/46900],\tLoss: 2.2838,\tTime: 0.05\n",
      "Epoch [15/50],\tStep [576/938],\tIteraion [13708/46900],\tLoss: 2.2757,\tTime: 0.05\n",
      "Epoch [15/50],\tStep [640/938],\tIteraion [13772/46900],\tLoss: 2.2734,\tTime: 0.05\n",
      "Epoch [15/50],\tStep [704/938],\tIteraion [13836/46900],\tLoss: 2.2779,\tTime: 0.05\n",
      "Epoch [15/50],\tStep [768/938],\tIteraion [13900/46900],\tLoss: 2.2779,\tTime: 0.05\n",
      "Epoch [15/50],\tStep [832/938],\tIteraion [13964/46900],\tLoss: 2.2801,\tTime: 0.05\n",
      "Epoch [15/50],\tStep [896/938],\tIteraion [14028/46900],\tLoss: 2.2764,\tTime: 0.05\n",
      "Epoch [16/50],\tStep [64/938],\tIteraion [14134/46900],\tLoss: 2.2847,\tTime: 0.05\n",
      "Epoch [16/50],\tStep [128/938],\tIteraion [14198/46900],\tLoss: 2.2788,\tTime: 0.05\n",
      "Epoch [16/50],\tStep [192/938],\tIteraion [14262/46900],\tLoss: 2.2708,\tTime: 0.05\n",
      "Epoch [16/50],\tStep [256/938],\tIteraion [14326/46900],\tLoss: 2.2770,\tTime: 0.05\n",
      "Epoch [16/50],\tStep [320/938],\tIteraion [14390/46900],\tLoss: 2.2673,\tTime: 0.05\n",
      "Epoch [16/50],\tStep [384/938],\tIteraion [14454/46900],\tLoss: 2.2704,\tTime: 0.05\n",
      "Epoch [16/50],\tStep [448/938],\tIteraion [14518/46900],\tLoss: 2.2721,\tTime: 0.05\n",
      "Epoch [16/50],\tStep [512/938],\tIteraion [14582/46900],\tLoss: 2.2730,\tTime: 0.05\n",
      "Epoch [16/50],\tStep [576/938],\tIteraion [14646/46900],\tLoss: 2.2662,\tTime: 0.05\n",
      "Epoch [16/50],\tStep [640/938],\tIteraion [14710/46900],\tLoss: 2.2721,\tTime: 0.05\n",
      "Epoch [16/50],\tStep [704/938],\tIteraion [14774/46900],\tLoss: 2.2735,\tTime: 0.05\n",
      "Epoch [16/50],\tStep [768/938],\tIteraion [14838/46900],\tLoss: 2.2724,\tTime: 0.03\n",
      "Epoch [16/50],\tStep [832/938],\tIteraion [14902/46900],\tLoss: 2.2646,\tTime: 0.05\n",
      "Epoch [16/50],\tStep [896/938],\tIteraion [14966/46900],\tLoss: 2.2664,\tTime: 0.05\n",
      "Epoch [17/50],\tStep [64/938],\tIteraion [15072/46900],\tLoss: 2.2738,\tTime: 0.05\n",
      "Epoch [17/50],\tStep [128/938],\tIteraion [15136/46900],\tLoss: 2.2667,\tTime: 0.04\n",
      "Epoch [17/50],\tStep [192/938],\tIteraion [15200/46900],\tLoss: 2.2708,\tTime: 0.04\n",
      "Epoch [17/50],\tStep [256/938],\tIteraion [15264/46900],\tLoss: 2.2634,\tTime: 0.06\n",
      "Epoch [17/50],\tStep [320/938],\tIteraion [15328/46900],\tLoss: 2.2679,\tTime: 0.04\n",
      "Epoch [17/50],\tStep [384/938],\tIteraion [15392/46900],\tLoss: 2.2729,\tTime: 0.06\n",
      "Epoch [17/50],\tStep [448/938],\tIteraion [15456/46900],\tLoss: 2.2673,\tTime: 0.05\n",
      "Epoch [17/50],\tStep [512/938],\tIteraion [15520/46900],\tLoss: 2.2635,\tTime: 0.05\n",
      "Epoch [17/50],\tStep [576/938],\tIteraion [15584/46900],\tLoss: 2.2657,\tTime: 0.04\n",
      "Epoch [17/50],\tStep [640/938],\tIteraion [15648/46900],\tLoss: 2.2614,\tTime: 0.05\n",
      "Epoch [17/50],\tStep [704/938],\tIteraion [15712/46900],\tLoss: 2.2762,\tTime: 0.05\n",
      "Epoch [17/50],\tStep [768/938],\tIteraion [15776/46900],\tLoss: 2.2638,\tTime: 0.06\n",
      "Epoch [17/50],\tStep [832/938],\tIteraion [15840/46900],\tLoss: 2.2590,\tTime: 0.06\n",
      "Epoch [17/50],\tStep [896/938],\tIteraion [15904/46900],\tLoss: 2.2605,\tTime: 0.05\n",
      "Epoch [18/50],\tStep [64/938],\tIteraion [16010/46900],\tLoss: 2.2581,\tTime: 0.05\n",
      "Epoch [18/50],\tStep [128/938],\tIteraion [16074/46900],\tLoss: 2.2779,\tTime: 0.05\n",
      "Epoch [18/50],\tStep [192/938],\tIteraion [16138/46900],\tLoss: 2.2616,\tTime: 0.05\n",
      "Epoch [18/50],\tStep [256/938],\tIteraion [16202/46900],\tLoss: 2.2529,\tTime: 0.05\n",
      "Epoch [18/50],\tStep [320/938],\tIteraion [16266/46900],\tLoss: 2.2527,\tTime: 0.05\n",
      "Epoch [18/50],\tStep [384/938],\tIteraion [16330/46900],\tLoss: 2.2618,\tTime: 0.03\n",
      "Epoch [18/50],\tStep [448/938],\tIteraion [16394/46900],\tLoss: 2.2578,\tTime: 0.05\n",
      "Epoch [18/50],\tStep [512/938],\tIteraion [16458/46900],\tLoss: 2.2562,\tTime: 0.05\n",
      "Epoch [18/50],\tStep [576/938],\tIteraion [16522/46900],\tLoss: 2.2492,\tTime: 0.05\n",
      "Epoch [18/50],\tStep [640/938],\tIteraion [16586/46900],\tLoss: 2.2507,\tTime: 0.04\n",
      "Epoch [18/50],\tStep [704/938],\tIteraion [16650/46900],\tLoss: 2.2400,\tTime: 0.05\n",
      "Epoch [18/50],\tStep [768/938],\tIteraion [16714/46900],\tLoss: 2.2489,\tTime: 0.05\n",
      "Epoch [18/50],\tStep [832/938],\tIteraion [16778/46900],\tLoss: 2.2449,\tTime: 0.06\n",
      "Epoch [18/50],\tStep [896/938],\tIteraion [16842/46900],\tLoss: 2.2555,\tTime: 0.05\n",
      "Epoch [19/50],\tStep [64/938],\tIteraion [16948/46900],\tLoss: 2.2583,\tTime: 0.04\n",
      "Epoch [19/50],\tStep [128/938],\tIteraion [17012/46900],\tLoss: 2.2528,\tTime: 0.05\n",
      "Epoch [19/50],\tStep [192/938],\tIteraion [17076/46900],\tLoss: 2.2535,\tTime: 0.03\n",
      "Epoch [19/50],\tStep [256/938],\tIteraion [17140/46900],\tLoss: 2.2429,\tTime: 0.05\n",
      "Epoch [19/50],\tStep [320/938],\tIteraion [17204/46900],\tLoss: 2.2424,\tTime: 0.05\n",
      "Epoch [19/50],\tStep [384/938],\tIteraion [17268/46900],\tLoss: 2.2436,\tTime: 0.05\n",
      "Epoch [19/50],\tStep [448/938],\tIteraion [17332/46900],\tLoss: 2.2386,\tTime: 0.04\n",
      "Epoch [19/50],\tStep [512/938],\tIteraion [17396/46900],\tLoss: 2.2381,\tTime: 0.04\n",
      "Epoch [19/50],\tStep [576/938],\tIteraion [17460/46900],\tLoss: 2.2385,\tTime: 0.05\n",
      "Epoch [19/50],\tStep [640/938],\tIteraion [17524/46900],\tLoss: 2.2485,\tTime: 0.05\n",
      "Epoch [19/50],\tStep [704/938],\tIteraion [17588/46900],\tLoss: 2.2306,\tTime: 0.05\n",
      "Epoch [19/50],\tStep [768/938],\tIteraion [17652/46900],\tLoss: 2.2315,\tTime: 0.05\n",
      "Epoch [19/50],\tStep [832/938],\tIteraion [17716/46900],\tLoss: 2.2345,\tTime: 0.05\n",
      "Epoch [19/50],\tStep [896/938],\tIteraion [17780/46900],\tLoss: 2.2365,\tTime: 0.05\n",
      "Epoch [20/50],\tStep [64/938],\tIteraion [17886/46900],\tLoss: 2.2232,\tTime: 0.05\n",
      "Epoch [20/50],\tStep [128/938],\tIteraion [17950/46900],\tLoss: 2.2137,\tTime: 0.05\n",
      "Epoch [20/50],\tStep [192/938],\tIteraion [18014/46900],\tLoss: 2.2367,\tTime: 0.05\n",
      "Epoch [20/50],\tStep [256/938],\tIteraion [18078/46900],\tLoss: 2.2161,\tTime: 0.03\n",
      "Epoch [20/50],\tStep [320/938],\tIteraion [18142/46900],\tLoss: 2.2283,\tTime: 0.05\n",
      "Epoch [20/50],\tStep [384/938],\tIteraion [18206/46900],\tLoss: 2.2283,\tTime: 0.06\n",
      "Epoch [20/50],\tStep [448/938],\tIteraion [18270/46900],\tLoss: 2.2202,\tTime: 0.05\n",
      "Epoch [20/50],\tStep [512/938],\tIteraion [18334/46900],\tLoss: 2.2136,\tTime: 0.05\n",
      "Epoch [20/50],\tStep [576/938],\tIteraion [18398/46900],\tLoss: 2.2042,\tTime: 0.05\n",
      "Epoch [20/50],\tStep [640/938],\tIteraion [18462/46900],\tLoss: 2.2124,\tTime: 0.05\n",
      "Epoch [20/50],\tStep [704/938],\tIteraion [18526/46900],\tLoss: 2.2051,\tTime: 0.03\n",
      "Epoch [20/50],\tStep [768/938],\tIteraion [18590/46900],\tLoss: 2.1986,\tTime: 0.05\n",
      "Epoch [20/50],\tStep [832/938],\tIteraion [18654/46900],\tLoss: 2.2149,\tTime: 0.05\n",
      "Epoch [20/50],\tStep [896/938],\tIteraion [18718/46900],\tLoss: 2.1896,\tTime: 0.05\n",
      "Epoch [21/50],\tStep [64/938],\tIteraion [18824/46900],\tLoss: 2.1913,\tTime: 0.05\n",
      "Epoch [21/50],\tStep [128/938],\tIteraion [18888/46900],\tLoss: 2.1832,\tTime: 0.04\n",
      "Epoch [21/50],\tStep [192/938],\tIteraion [18952/46900],\tLoss: 2.1765,\tTime: 0.05\n",
      "Epoch [21/50],\tStep [256/938],\tIteraion [19016/46900],\tLoss: 2.1818,\tTime: 0.05\n",
      "Epoch [21/50],\tStep [320/938],\tIteraion [19080/46900],\tLoss: 2.1776,\tTime: 0.05\n",
      "Epoch [21/50],\tStep [384/938],\tIteraion [19144/46900],\tLoss: 2.1574,\tTime: 0.05\n",
      "Epoch [21/50],\tStep [448/938],\tIteraion [19208/46900],\tLoss: 2.1787,\tTime: 0.05\n",
      "Epoch [21/50],\tStep [512/938],\tIteraion [19272/46900],\tLoss: 2.1627,\tTime: 0.05\n",
      "Epoch [21/50],\tStep [576/938],\tIteraion [19336/46900],\tLoss: 2.1793,\tTime: 0.05\n",
      "Epoch [21/50],\tStep [640/938],\tIteraion [19400/46900],\tLoss: 2.1645,\tTime: 0.05\n",
      "Epoch [21/50],\tStep [704/938],\tIteraion [19464/46900],\tLoss: 2.1733,\tTime: 0.05\n",
      "Epoch [21/50],\tStep [768/938],\tIteraion [19528/46900],\tLoss: 2.1648,\tTime: 0.05\n",
      "Epoch [21/50],\tStep [832/938],\tIteraion [19592/46900],\tLoss: 2.1667,\tTime: 0.05\n",
      "Epoch [21/50],\tStep [896/938],\tIteraion [19656/46900],\tLoss: 2.1429,\tTime: 0.05\n",
      "Epoch [22/50],\tStep [64/938],\tIteraion [19762/46900],\tLoss: 2.1210,\tTime: 0.05\n",
      "Epoch [22/50],\tStep [128/938],\tIteraion [19826/46900],\tLoss: 2.1232,\tTime: 0.04\n",
      "Epoch [22/50],\tStep [192/938],\tIteraion [19890/46900],\tLoss: 2.1401,\tTime: 0.05\n",
      "Epoch [22/50],\tStep [256/938],\tIteraion [19954/46900],\tLoss: 2.1245,\tTime: 0.05\n",
      "Epoch [22/50],\tStep [320/938],\tIteraion [20018/46900],\tLoss: 2.0939,\tTime: 0.05\n",
      "Epoch [22/50],\tStep [384/938],\tIteraion [20082/46900],\tLoss: 2.1284,\tTime: 0.05\n",
      "Epoch [22/50],\tStep [448/938],\tIteraion [20146/46900],\tLoss: 2.0796,\tTime: 0.05\n",
      "Epoch [22/50],\tStep [512/938],\tIteraion [20210/46900],\tLoss: 2.0877,\tTime: 0.05\n",
      "Epoch [22/50],\tStep [576/938],\tIteraion [20274/46900],\tLoss: 2.0802,\tTime: 0.05\n",
      "Epoch [22/50],\tStep [640/938],\tIteraion [20338/46900],\tLoss: 2.0564,\tTime: 0.05\n",
      "Epoch [22/50],\tStep [704/938],\tIteraion [20402/46900],\tLoss: 2.0600,\tTime: 0.05\n",
      "Epoch [22/50],\tStep [768/938],\tIteraion [20466/46900],\tLoss: 2.0110,\tTime: 0.03\n",
      "Epoch [22/50],\tStep [832/938],\tIteraion [20530/46900],\tLoss: 2.0639,\tTime: 0.05\n",
      "Epoch [22/50],\tStep [896/938],\tIteraion [20594/46900],\tLoss: 2.0170,\tTime: 0.05\n",
      "Epoch [23/50],\tStep [64/938],\tIteraion [20700/46900],\tLoss: 2.0094,\tTime: 0.05\n",
      "Epoch [23/50],\tStep [128/938],\tIteraion [20764/46900],\tLoss: 2.0233,\tTime: 0.05\n",
      "Epoch [23/50],\tStep [192/938],\tIteraion [20828/46900],\tLoss: 1.9982,\tTime: 0.05\n",
      "Epoch [23/50],\tStep [256/938],\tIteraion [20892/46900],\tLoss: 2.0229,\tTime: 0.05\n",
      "Epoch [23/50],\tStep [320/938],\tIteraion [20956/46900],\tLoss: 1.9371,\tTime: 0.05\n",
      "Epoch [23/50],\tStep [384/938],\tIteraion [21020/46900],\tLoss: 1.9486,\tTime: 0.06\n",
      "Epoch [23/50],\tStep [448/938],\tIteraion [21084/46900],\tLoss: 1.9013,\tTime: 0.05\n",
      "Epoch [23/50],\tStep [512/938],\tIteraion [21148/46900],\tLoss: 1.8713,\tTime: 0.05\n",
      "Epoch [23/50],\tStep [576/938],\tIteraion [21212/46900],\tLoss: 1.9152,\tTime: 0.05\n",
      "Epoch [23/50],\tStep [640/938],\tIteraion [21276/46900],\tLoss: 1.8259,\tTime: 0.05\n",
      "Epoch [23/50],\tStep [704/938],\tIteraion [21340/46900],\tLoss: 1.8506,\tTime: 0.05\n",
      "Epoch [23/50],\tStep [768/938],\tIteraion [21404/46900],\tLoss: 1.8040,\tTime: 0.05\n",
      "Epoch [23/50],\tStep [832/938],\tIteraion [21468/46900],\tLoss: 1.7304,\tTime: 0.03\n",
      "Epoch [23/50],\tStep [896/938],\tIteraion [21532/46900],\tLoss: 1.7905,\tTime: 0.04\n",
      "Epoch [24/50],\tStep [64/938],\tIteraion [21638/46900],\tLoss: 1.6293,\tTime: 0.05\n",
      "Epoch [24/50],\tStep [128/938],\tIteraion [21702/46900],\tLoss: 1.5579,\tTime: 0.05\n",
      "Epoch [24/50],\tStep [192/938],\tIteraion [21766/46900],\tLoss: 1.5656,\tTime: 0.05\n",
      "Epoch [24/50],\tStep [256/938],\tIteraion [21830/46900],\tLoss: 1.5595,\tTime: 0.04\n",
      "Epoch [24/50],\tStep [320/938],\tIteraion [21894/46900],\tLoss: 1.4270,\tTime: 0.06\n",
      "Epoch [24/50],\tStep [384/938],\tIteraion [21958/46900],\tLoss: 1.4377,\tTime: 0.05\n",
      "Epoch [24/50],\tStep [448/938],\tIteraion [22022/46900],\tLoss: 1.5079,\tTime: 0.05\n",
      "Epoch [24/50],\tStep [512/938],\tIteraion [22086/46900],\tLoss: 1.3512,\tTime: 0.05\n",
      "Epoch [24/50],\tStep [576/938],\tIteraion [22150/46900],\tLoss: 1.3138,\tTime: 0.05\n",
      "Epoch [24/50],\tStep [640/938],\tIteraion [22214/46900],\tLoss: 1.2846,\tTime: 0.05\n",
      "Epoch [24/50],\tStep [704/938],\tIteraion [22278/46900],\tLoss: 1.2526,\tTime: 0.05\n",
      "Epoch [24/50],\tStep [768/938],\tIteraion [22342/46900],\tLoss: 1.2943,\tTime: 0.05\n",
      "Epoch [24/50],\tStep [832/938],\tIteraion [22406/46900],\tLoss: 1.2245,\tTime: 0.04\n",
      "Epoch [24/50],\tStep [896/938],\tIteraion [22470/46900],\tLoss: 1.1445,\tTime: 0.03\n",
      "Epoch [25/50],\tStep [64/938],\tIteraion [22576/46900],\tLoss: 1.0694,\tTime: 0.05\n",
      "Epoch [25/50],\tStep [128/938],\tIteraion [22640/46900],\tLoss: 0.9622,\tTime: 0.05\n",
      "Epoch [25/50],\tStep [192/938],\tIteraion [22704/46900],\tLoss: 1.0933,\tTime: 0.05\n",
      "Epoch [25/50],\tStep [256/938],\tIteraion [22768/46900],\tLoss: 0.9092,\tTime: 0.05\n",
      "Epoch [25/50],\tStep [320/938],\tIteraion [22832/46900],\tLoss: 0.8549,\tTime: 0.05\n",
      "Epoch [25/50],\tStep [384/938],\tIteraion [22896/46900],\tLoss: 0.9246,\tTime: 0.04\n",
      "Epoch [25/50],\tStep [448/938],\tIteraion [22960/46900],\tLoss: 0.9680,\tTime: 0.05\n",
      "Epoch [25/50],\tStep [512/938],\tIteraion [23024/46900],\tLoss: 0.9493,\tTime: 0.05\n",
      "Epoch [25/50],\tStep [576/938],\tIteraion [23088/46900],\tLoss: 0.7714,\tTime: 0.03\n",
      "Epoch [25/50],\tStep [640/938],\tIteraion [23152/46900],\tLoss: 1.0160,\tTime: 0.05\n",
      "Epoch [25/50],\tStep [704/938],\tIteraion [23216/46900],\tLoss: 0.9616,\tTime: 0.05\n",
      "Epoch [25/50],\tStep [768/938],\tIteraion [23280/46900],\tLoss: 0.6876,\tTime: 0.05\n",
      "Epoch [25/50],\tStep [832/938],\tIteraion [23344/46900],\tLoss: 0.7655,\tTime: 0.05\n",
      "Epoch [25/50],\tStep [896/938],\tIteraion [23408/46900],\tLoss: 0.6195,\tTime: 0.05\n",
      "Epoch [26/50],\tStep [64/938],\tIteraion [23514/46900],\tLoss: 0.7498,\tTime: 0.05\n",
      "Epoch [26/50],\tStep [128/938],\tIteraion [23578/46900],\tLoss: 0.6759,\tTime: 0.05\n",
      "Epoch [26/50],\tStep [192/938],\tIteraion [23642/46900],\tLoss: 0.8492,\tTime: 0.05\n",
      "Epoch [26/50],\tStep [256/938],\tIteraion [23706/46900],\tLoss: 0.9448,\tTime: 0.07\n",
      "Epoch [26/50],\tStep [320/938],\tIteraion [23770/46900],\tLoss: 0.6066,\tTime: 0.05\n",
      "Epoch [26/50],\tStep [384/938],\tIteraion [23834/46900],\tLoss: 0.8105,\tTime: 0.05\n",
      "Epoch [26/50],\tStep [448/938],\tIteraion [23898/46900],\tLoss: 0.7029,\tTime: 0.05\n",
      "Epoch [26/50],\tStep [512/938],\tIteraion [23962/46900],\tLoss: 0.6336,\tTime: 0.05\n",
      "Epoch [26/50],\tStep [576/938],\tIteraion [24026/46900],\tLoss: 0.8505,\tTime: 0.05\n",
      "Epoch [26/50],\tStep [640/938],\tIteraion [24090/46900],\tLoss: 0.5445,\tTime: 0.05\n",
      "Epoch [26/50],\tStep [704/938],\tIteraion [24154/46900],\tLoss: 0.6122,\tTime: 0.05\n",
      "Epoch [26/50],\tStep [768/938],\tIteraion [24218/46900],\tLoss: 0.7746,\tTime: 0.06\n",
      "Epoch [26/50],\tStep [832/938],\tIteraion [24282/46900],\tLoss: 0.4730,\tTime: 0.05\n",
      "Epoch [26/50],\tStep [896/938],\tIteraion [24346/46900],\tLoss: 0.6022,\tTime: 0.05\n",
      "Epoch [27/50],\tStep [64/938],\tIteraion [24452/46900],\tLoss: 0.5483,\tTime: 0.04\n",
      "Epoch [27/50],\tStep [128/938],\tIteraion [24516/46900],\tLoss: 0.6480,\tTime: 0.05\n",
      "Epoch [27/50],\tStep [192/938],\tIteraion [24580/46900],\tLoss: 0.5294,\tTime: 0.05\n",
      "Epoch [27/50],\tStep [256/938],\tIteraion [24644/46900],\tLoss: 0.5371,\tTime: 0.05\n",
      "Epoch [27/50],\tStep [320/938],\tIteraion [24708/46900],\tLoss: 0.6206,\tTime: 0.05\n",
      "Epoch [27/50],\tStep [384/938],\tIteraion [24772/46900],\tLoss: 0.8475,\tTime: 0.05\n",
      "Epoch [27/50],\tStep [448/938],\tIteraion [24836/46900],\tLoss: 0.5427,\tTime: 0.05\n",
      "Epoch [27/50],\tStep [512/938],\tIteraion [24900/46900],\tLoss: 0.4998,\tTime: 0.05\n",
      "Epoch [27/50],\tStep [576/938],\tIteraion [24964/46900],\tLoss: 0.3794,\tTime: 0.05\n",
      "Epoch [27/50],\tStep [640/938],\tIteraion [25028/46900],\tLoss: 0.6117,\tTime: 0.05\n",
      "Epoch [27/50],\tStep [704/938],\tIteraion [25092/46900],\tLoss: 0.7482,\tTime: 0.05\n",
      "Epoch [27/50],\tStep [768/938],\tIteraion [25156/46900],\tLoss: 0.5821,\tTime: 0.05\n",
      "Epoch [27/50],\tStep [832/938],\tIteraion [25220/46900],\tLoss: 0.4148,\tTime: 0.05\n",
      "Epoch [27/50],\tStep [896/938],\tIteraion [25284/46900],\tLoss: 0.7376,\tTime: 0.05\n",
      "Epoch [28/50],\tStep [64/938],\tIteraion [25390/46900],\tLoss: 0.5006,\tTime: 0.05\n",
      "Epoch [28/50],\tStep [128/938],\tIteraion [25454/46900],\tLoss: 0.4743,\tTime: 0.05\n",
      "Epoch [28/50],\tStep [192/938],\tIteraion [25518/46900],\tLoss: 0.7058,\tTime: 0.03\n",
      "Epoch [28/50],\tStep [256/938],\tIteraion [25582/46900],\tLoss: 0.4046,\tTime: 0.05\n",
      "Epoch [28/50],\tStep [320/938],\tIteraion [25646/46900],\tLoss: 0.3848,\tTime: 0.05\n",
      "Epoch [28/50],\tStep [384/938],\tIteraion [25710/46900],\tLoss: 0.4456,\tTime: 0.05\n",
      "Epoch [28/50],\tStep [448/938],\tIteraion [25774/46900],\tLoss: 0.4093,\tTime: 0.05\n",
      "Epoch [28/50],\tStep [512/938],\tIteraion [25838/46900],\tLoss: 0.5456,\tTime: 0.05\n",
      "Epoch [28/50],\tStep [576/938],\tIteraion [25902/46900],\tLoss: 0.5016,\tTime: 0.05\n",
      "Epoch [28/50],\tStep [640/938],\tIteraion [25966/46900],\tLoss: 0.4015,\tTime: 0.04\n",
      "Epoch [28/50],\tStep [704/938],\tIteraion [26030/46900],\tLoss: 0.4289,\tTime: 0.05\n",
      "Epoch [28/50],\tStep [768/938],\tIteraion [26094/46900],\tLoss: 0.4649,\tTime: 0.05\n",
      "Epoch [28/50],\tStep [832/938],\tIteraion [26158/46900],\tLoss: 0.3663,\tTime: 0.05\n",
      "Epoch [28/50],\tStep [896/938],\tIteraion [26222/46900],\tLoss: 0.4687,\tTime: 0.05\n",
      "Epoch [29/50],\tStep [64/938],\tIteraion [26328/46900],\tLoss: 0.4123,\tTime: 0.05\n",
      "Epoch [29/50],\tStep [128/938],\tIteraion [26392/46900],\tLoss: 0.5415,\tTime: 0.05\n",
      "Epoch [29/50],\tStep [192/938],\tIteraion [26456/46900],\tLoss: 0.2086,\tTime: 0.05\n",
      "Epoch [29/50],\tStep [256/938],\tIteraion [26520/46900],\tLoss: 0.8078,\tTime: 0.05\n",
      "Epoch [29/50],\tStep [320/938],\tIteraion [26584/46900],\tLoss: 0.5549,\tTime: 0.05\n",
      "Epoch [29/50],\tStep [384/938],\tIteraion [26648/46900],\tLoss: 0.3425,\tTime: 0.05\n",
      "Epoch [29/50],\tStep [448/938],\tIteraion [26712/46900],\tLoss: 0.6147,\tTime: 0.05\n",
      "Epoch [29/50],\tStep [512/938],\tIteraion [26776/46900],\tLoss: 0.5799,\tTime: 0.03\n",
      "Epoch [29/50],\tStep [576/938],\tIteraion [26840/46900],\tLoss: 0.4556,\tTime: 0.05\n",
      "Epoch [29/50],\tStep [640/938],\tIteraion [26904/46900],\tLoss: 0.4844,\tTime: 0.07\n",
      "Epoch [29/50],\tStep [704/938],\tIteraion [26968/46900],\tLoss: 0.3269,\tTime: 0.03\n",
      "Epoch [29/50],\tStep [768/938],\tIteraion [27032/46900],\tLoss: 0.4105,\tTime: 0.05\n",
      "Epoch [29/50],\tStep [832/938],\tIteraion [27096/46900],\tLoss: 0.3505,\tTime: 0.05\n",
      "Epoch [29/50],\tStep [896/938],\tIteraion [27160/46900],\tLoss: 0.7014,\tTime: 0.05\n",
      "Epoch [30/50],\tStep [64/938],\tIteraion [27266/46900],\tLoss: 0.3850,\tTime: 0.05\n",
      "Epoch [30/50],\tStep [128/938],\tIteraion [27330/46900],\tLoss: 0.4950,\tTime: 0.05\n",
      "Epoch [30/50],\tStep [192/938],\tIteraion [27394/46900],\tLoss: 0.5079,\tTime: 0.05\n",
      "Epoch [30/50],\tStep [256/938],\tIteraion [27458/46900],\tLoss: 0.7119,\tTime: 0.05\n",
      "Epoch [30/50],\tStep [320/938],\tIteraion [27522/46900],\tLoss: 0.3539,\tTime: 0.06\n",
      "Epoch [30/50],\tStep [384/938],\tIteraion [27586/46900],\tLoss: 0.4665,\tTime: 0.06\n",
      "Epoch [30/50],\tStep [448/938],\tIteraion [27650/46900],\tLoss: 0.4419,\tTime: 0.06\n",
      "Epoch [30/50],\tStep [512/938],\tIteraion [27714/46900],\tLoss: 0.5367,\tTime: 0.05\n",
      "Epoch [30/50],\tStep [576/938],\tIteraion [27778/46900],\tLoss: 0.5019,\tTime: 0.06\n",
      "Epoch [30/50],\tStep [640/938],\tIteraion [27842/46900],\tLoss: 0.3817,\tTime: 0.05\n",
      "Epoch [30/50],\tStep [704/938],\tIteraion [27906/46900],\tLoss: 0.4213,\tTime: 0.05\n",
      "Epoch [30/50],\tStep [768/938],\tIteraion [27970/46900],\tLoss: 0.4589,\tTime: 0.05\n",
      "Epoch [30/50],\tStep [832/938],\tIteraion [28034/46900],\tLoss: 0.3887,\tTime: 0.04\n",
      "Epoch [30/50],\tStep [896/938],\tIteraion [28098/46900],\tLoss: 0.3354,\tTime: 0.05\n",
      "Epoch [31/50],\tStep [64/938],\tIteraion [28204/46900],\tLoss: 0.3626,\tTime: 0.05\n",
      "Epoch [31/50],\tStep [128/938],\tIteraion [28268/46900],\tLoss: 0.3453,\tTime: 0.05\n",
      "Epoch [31/50],\tStep [192/938],\tIteraion [28332/46900],\tLoss: 0.4830,\tTime: 0.05\n",
      "Epoch [31/50],\tStep [256/938],\tIteraion [28396/46900],\tLoss: 0.3819,\tTime: 0.04\n",
      "Epoch [31/50],\tStep [320/938],\tIteraion [28460/46900],\tLoss: 0.8280,\tTime: 0.06\n",
      "Epoch [31/50],\tStep [384/938],\tIteraion [28524/46900],\tLoss: 0.3764,\tTime: 0.05\n",
      "Epoch [31/50],\tStep [448/938],\tIteraion [28588/46900],\tLoss: 0.3821,\tTime: 0.05\n",
      "Epoch [31/50],\tStep [512/938],\tIteraion [28652/46900],\tLoss: 0.4644,\tTime: 0.05\n",
      "Epoch [31/50],\tStep [576/938],\tIteraion [28716/46900],\tLoss: 0.3049,\tTime: 0.05\n",
      "Epoch [31/50],\tStep [640/938],\tIteraion [28780/46900],\tLoss: 0.3153,\tTime: 0.04\n",
      "Epoch [31/50],\tStep [704/938],\tIteraion [28844/46900],\tLoss: 0.3829,\tTime: 0.04\n",
      "Epoch [31/50],\tStep [768/938],\tIteraion [28908/46900],\tLoss: 0.3798,\tTime: 0.05\n",
      "Epoch [31/50],\tStep [832/938],\tIteraion [28972/46900],\tLoss: 0.2846,\tTime: 0.04\n",
      "Epoch [31/50],\tStep [896/938],\tIteraion [29036/46900],\tLoss: 0.2507,\tTime: 0.04\n",
      "Epoch [32/50],\tStep [64/938],\tIteraion [29142/46900],\tLoss: 0.3768,\tTime: 0.05\n",
      "Epoch [32/50],\tStep [128/938],\tIteraion [29206/46900],\tLoss: 0.4081,\tTime: 0.05\n",
      "Epoch [32/50],\tStep [192/938],\tIteraion [29270/46900],\tLoss: 0.3356,\tTime: 0.05\n",
      "Epoch [32/50],\tStep [256/938],\tIteraion [29334/46900],\tLoss: 0.2405,\tTime: 0.05\n",
      "Epoch [32/50],\tStep [320/938],\tIteraion [29398/46900],\tLoss: 0.3495,\tTime: 0.05\n",
      "Epoch [32/50],\tStep [384/938],\tIteraion [29462/46900],\tLoss: 0.3573,\tTime: 0.05\n",
      "Epoch [32/50],\tStep [448/938],\tIteraion [29526/46900],\tLoss: 0.4622,\tTime: 0.05\n",
      "Epoch [32/50],\tStep [512/938],\tIteraion [29590/46900],\tLoss: 0.4221,\tTime: 0.05\n",
      "Epoch [32/50],\tStep [576/938],\tIteraion [29654/46900],\tLoss: 0.4675,\tTime: 0.05\n",
      "Epoch [32/50],\tStep [640/938],\tIteraion [29718/46900],\tLoss: 0.3488,\tTime: 0.04\n",
      "Epoch [32/50],\tStep [704/938],\tIteraion [29782/46900],\tLoss: 0.3578,\tTime: 0.04\n",
      "Epoch [32/50],\tStep [768/938],\tIteraion [29846/46900],\tLoss: 0.2974,\tTime: 0.05\n",
      "Epoch [32/50],\tStep [832/938],\tIteraion [29910/46900],\tLoss: 0.3741,\tTime: 0.05\n",
      "Epoch [32/50],\tStep [896/938],\tIteraion [29974/46900],\tLoss: 0.4433,\tTime: 0.05\n",
      "Epoch [33/50],\tStep [64/938],\tIteraion [30080/46900],\tLoss: 0.3233,\tTime: 0.05\n",
      "Epoch [33/50],\tStep [128/938],\tIteraion [30144/46900],\tLoss: 0.3437,\tTime: 0.05\n",
      "Epoch [33/50],\tStep [192/938],\tIteraion [30208/46900],\tLoss: 0.2895,\tTime: 0.05\n",
      "Epoch [33/50],\tStep [256/938],\tIteraion [30272/46900],\tLoss: 0.6079,\tTime: 0.05\n",
      "Epoch [33/50],\tStep [320/938],\tIteraion [30336/46900],\tLoss: 0.4191,\tTime: 0.06\n",
      "Epoch [33/50],\tStep [384/938],\tIteraion [30400/46900],\tLoss: 0.3600,\tTime: 0.06\n",
      "Epoch [33/50],\tStep [448/938],\tIteraion [30464/46900],\tLoss: 0.5602,\tTime: 0.05\n",
      "Epoch [33/50],\tStep [512/938],\tIteraion [30528/46900],\tLoss: 0.4392,\tTime: 0.05\n",
      "Epoch [33/50],\tStep [576/938],\tIteraion [30592/46900],\tLoss: 0.5717,\tTime: 0.05\n",
      "Epoch [33/50],\tStep [640/938],\tIteraion [30656/46900],\tLoss: 0.4438,\tTime: 0.04\n",
      "Epoch [33/50],\tStep [704/938],\tIteraion [30720/46900],\tLoss: 0.3667,\tTime: 0.06\n",
      "Epoch [33/50],\tStep [768/938],\tIteraion [30784/46900],\tLoss: 0.3092,\tTime: 0.05\n",
      "Epoch [33/50],\tStep [832/938],\tIteraion [30848/46900],\tLoss: 0.4636,\tTime: 0.05\n",
      "Epoch [33/50],\tStep [896/938],\tIteraion [30912/46900],\tLoss: 0.4124,\tTime: 0.03\n",
      "Epoch [34/50],\tStep [64/938],\tIteraion [31018/46900],\tLoss: 0.3837,\tTime: 0.03\n",
      "Epoch [34/50],\tStep [128/938],\tIteraion [31082/46900],\tLoss: 0.2832,\tTime: 0.05\n",
      "Epoch [34/50],\tStep [192/938],\tIteraion [31146/46900],\tLoss: 0.2663,\tTime: 0.05\n",
      "Epoch [34/50],\tStep [256/938],\tIteraion [31210/46900],\tLoss: 0.3075,\tTime: 0.05\n",
      "Epoch [34/50],\tStep [320/938],\tIteraion [31274/46900],\tLoss: 0.2667,\tTime: 0.05\n",
      "Epoch [34/50],\tStep [384/938],\tIteraion [31338/46900],\tLoss: 0.4483,\tTime: 0.05\n",
      "Epoch [34/50],\tStep [448/938],\tIteraion [31402/46900],\tLoss: 0.5676,\tTime: 0.05\n",
      "Epoch [34/50],\tStep [512/938],\tIteraion [31466/46900],\tLoss: 0.2559,\tTime: 0.05\n",
      "Epoch [34/50],\tStep [576/938],\tIteraion [31530/46900],\tLoss: 0.7638,\tTime: 0.05\n",
      "Epoch [34/50],\tStep [640/938],\tIteraion [31594/46900],\tLoss: 0.2741,\tTime: 0.05\n",
      "Epoch [34/50],\tStep [704/938],\tIteraion [31658/46900],\tLoss: 0.3551,\tTime: 0.05\n",
      "Epoch [34/50],\tStep [768/938],\tIteraion [31722/46900],\tLoss: 0.4040,\tTime: 0.05\n",
      "Epoch [34/50],\tStep [832/938],\tIteraion [31786/46900],\tLoss: 0.2820,\tTime: 0.05\n",
      "Epoch [34/50],\tStep [896/938],\tIteraion [31850/46900],\tLoss: 0.3058,\tTime: 0.05\n",
      "Epoch [35/50],\tStep [64/938],\tIteraion [31956/46900],\tLoss: 0.4002,\tTime: 0.05\n",
      "Epoch [35/50],\tStep [128/938],\tIteraion [32020/46900],\tLoss: 0.3790,\tTime: 0.05\n",
      "Epoch [35/50],\tStep [192/938],\tIteraion [32084/46900],\tLoss: 0.2759,\tTime: 0.05\n",
      "Epoch [35/50],\tStep [256/938],\tIteraion [32148/46900],\tLoss: 0.3040,\tTime: 0.04\n",
      "Epoch [35/50],\tStep [320/938],\tIteraion [32212/46900],\tLoss: 0.4639,\tTime: 0.05\n",
      "Epoch [35/50],\tStep [384/938],\tIteraion [32276/46900],\tLoss: 0.2827,\tTime: 0.05\n",
      "Epoch [35/50],\tStep [448/938],\tIteraion [32340/46900],\tLoss: 0.3520,\tTime: 0.06\n",
      "Epoch [35/50],\tStep [512/938],\tIteraion [32404/46900],\tLoss: 0.3308,\tTime: 0.05\n",
      "Epoch [35/50],\tStep [576/938],\tIteraion [32468/46900],\tLoss: 0.3448,\tTime: 0.05\n",
      "Epoch [35/50],\tStep [640/938],\tIteraion [32532/46900],\tLoss: 0.2407,\tTime: 0.03\n",
      "Epoch [35/50],\tStep [704/938],\tIteraion [32596/46900],\tLoss: 0.3999,\tTime: 0.05\n",
      "Epoch [35/50],\tStep [768/938],\tIteraion [32660/46900],\tLoss: 0.4347,\tTime: 0.05\n",
      "Epoch [35/50],\tStep [832/938],\tIteraion [32724/46900],\tLoss: 0.4100,\tTime: 0.05\n",
      "Epoch [35/50],\tStep [896/938],\tIteraion [32788/46900],\tLoss: 0.2776,\tTime: 0.05\n",
      "Epoch [36/50],\tStep [64/938],\tIteraion [32894/46900],\tLoss: 0.4129,\tTime: 0.05\n",
      "Epoch [36/50],\tStep [128/938],\tIteraion [32958/46900],\tLoss: 0.2160,\tTime: 0.06\n",
      "Epoch [36/50],\tStep [192/938],\tIteraion [33022/46900],\tLoss: 0.6275,\tTime: 0.05\n",
      "Epoch [36/50],\tStep [256/938],\tIteraion [33086/46900],\tLoss: 0.2652,\tTime: 0.05\n",
      "Epoch [36/50],\tStep [320/938],\tIteraion [33150/46900],\tLoss: 0.3482,\tTime: 0.05\n",
      "Epoch [36/50],\tStep [384/938],\tIteraion [33214/46900],\tLoss: 0.4714,\tTime: 0.05\n",
      "Epoch [36/50],\tStep [448/938],\tIteraion [33278/46900],\tLoss: 0.3863,\tTime: 0.05\n",
      "Epoch [36/50],\tStep [512/938],\tIteraion [33342/46900],\tLoss: 0.2037,\tTime: 0.05\n",
      "Epoch [36/50],\tStep [576/938],\tIteraion [33406/46900],\tLoss: 0.1793,\tTime: 0.03\n",
      "Epoch [36/50],\tStep [640/938],\tIteraion [33470/46900],\tLoss: 0.2524,\tTime: 0.04\n",
      "Epoch [36/50],\tStep [704/938],\tIteraion [33534/46900],\tLoss: 0.3152,\tTime: 0.04\n",
      "Epoch [36/50],\tStep [768/938],\tIteraion [33598/46900],\tLoss: 0.2286,\tTime: 0.04\n",
      "Epoch [36/50],\tStep [832/938],\tIteraion [33662/46900],\tLoss: 0.2080,\tTime: 0.03\n",
      "Epoch [36/50],\tStep [896/938],\tIteraion [33726/46900],\tLoss: 0.3055,\tTime: 0.05\n",
      "Epoch [37/50],\tStep [64/938],\tIteraion [33832/46900],\tLoss: 0.1460,\tTime: 0.05\n",
      "Epoch [37/50],\tStep [128/938],\tIteraion [33896/46900],\tLoss: 0.2048,\tTime: 0.03\n",
      "Epoch [37/50],\tStep [192/938],\tIteraion [33960/46900],\tLoss: 0.2889,\tTime: 0.05\n",
      "Epoch [37/50],\tStep [256/938],\tIteraion [34024/46900],\tLoss: 0.4893,\tTime: 0.05\n",
      "Epoch [37/50],\tStep [320/938],\tIteraion [34088/46900],\tLoss: 0.1685,\tTime: 0.05\n",
      "Epoch [37/50],\tStep [384/938],\tIteraion [34152/46900],\tLoss: 0.2214,\tTime: 0.05\n",
      "Epoch [37/50],\tStep [448/938],\tIteraion [34216/46900],\tLoss: 0.2510,\tTime: 0.05\n",
      "Epoch [37/50],\tStep [512/938],\tIteraion [34280/46900],\tLoss: 0.5093,\tTime: 0.05\n",
      "Epoch [37/50],\tStep [576/938],\tIteraion [34344/46900],\tLoss: 0.3538,\tTime: 0.05\n",
      "Epoch [37/50],\tStep [640/938],\tIteraion [34408/46900],\tLoss: 0.3050,\tTime: 0.05\n",
      "Epoch [37/50],\tStep [704/938],\tIteraion [34472/46900],\tLoss: 0.4081,\tTime: 0.05\n",
      "Epoch [37/50],\tStep [768/938],\tIteraion [34536/46900],\tLoss: 0.3401,\tTime: 0.04\n",
      "Epoch [37/50],\tStep [832/938],\tIteraion [34600/46900],\tLoss: 0.2514,\tTime: 0.05\n",
      "Epoch [37/50],\tStep [896/938],\tIteraion [34664/46900],\tLoss: 0.1229,\tTime: 0.05\n",
      "Epoch [38/50],\tStep [64/938],\tIteraion [34770/46900],\tLoss: 0.2995,\tTime: 0.05\n",
      "Epoch [38/50],\tStep [128/938],\tIteraion [34834/46900],\tLoss: 0.1930,\tTime: 0.05\n",
      "Epoch [38/50],\tStep [192/938],\tIteraion [34898/46900],\tLoss: 0.2968,\tTime: 0.04\n",
      "Epoch [38/50],\tStep [256/938],\tIteraion [34962/46900],\tLoss: 0.3272,\tTime: 0.05\n",
      "Epoch [38/50],\tStep [320/938],\tIteraion [35026/46900],\tLoss: 0.3086,\tTime: 0.05\n",
      "Epoch [38/50],\tStep [384/938],\tIteraion [35090/46900],\tLoss: 0.1846,\tTime: 0.05\n",
      "Epoch [38/50],\tStep [448/938],\tIteraion [35154/46900],\tLoss: 0.5034,\tTime: 0.05\n",
      "Epoch [38/50],\tStep [512/938],\tIteraion [35218/46900],\tLoss: 0.2157,\tTime: 0.05\n",
      "Epoch [38/50],\tStep [576/938],\tIteraion [35282/46900],\tLoss: 0.2615,\tTime: 0.03\n",
      "Epoch [38/50],\tStep [640/938],\tIteraion [35346/46900],\tLoss: 0.3344,\tTime: 0.05\n",
      "Epoch [38/50],\tStep [704/938],\tIteraion [35410/46900],\tLoss: 0.4131,\tTime: 0.05\n",
      "Epoch [38/50],\tStep [768/938],\tIteraion [35474/46900],\tLoss: 0.3427,\tTime: 0.05\n",
      "Epoch [38/50],\tStep [832/938],\tIteraion [35538/46900],\tLoss: 0.1484,\tTime: 0.05\n",
      "Epoch [38/50],\tStep [896/938],\tIteraion [35602/46900],\tLoss: 0.3752,\tTime: 0.05\n",
      "Epoch [39/50],\tStep [64/938],\tIteraion [35708/46900],\tLoss: 0.2508,\tTime: 0.05\n",
      "Epoch [39/50],\tStep [128/938],\tIteraion [35772/46900],\tLoss: 0.1419,\tTime: 0.05\n",
      "Epoch [39/50],\tStep [192/938],\tIteraion [35836/46900],\tLoss: 0.4602,\tTime: 0.05\n",
      "Epoch [39/50],\tStep [256/938],\tIteraion [35900/46900],\tLoss: 0.3051,\tTime: 0.05\n",
      "Epoch [39/50],\tStep [320/938],\tIteraion [35964/46900],\tLoss: 0.4354,\tTime: 0.05\n",
      "Epoch [39/50],\tStep [384/938],\tIteraion [36028/46900],\tLoss: 0.1970,\tTime: 0.05\n",
      "Epoch [39/50],\tStep [448/938],\tIteraion [36092/46900],\tLoss: 0.1649,\tTime: 0.05\n",
      "Epoch [39/50],\tStep [512/938],\tIteraion [36156/46900],\tLoss: 0.4167,\tTime: 0.06\n",
      "Epoch [39/50],\tStep [576/938],\tIteraion [36220/46900],\tLoss: 0.3217,\tTime: 0.05\n",
      "Epoch [39/50],\tStep [640/938],\tIteraion [36284/46900],\tLoss: 0.3502,\tTime: 0.05\n",
      "Epoch [39/50],\tStep [704/938],\tIteraion [36348/46900],\tLoss: 0.3540,\tTime: 0.03\n",
      "Epoch [39/50],\tStep [768/938],\tIteraion [36412/46900],\tLoss: 0.2926,\tTime: 0.05\n",
      "Epoch [39/50],\tStep [832/938],\tIteraion [36476/46900],\tLoss: 0.2364,\tTime: 0.05\n",
      "Epoch [39/50],\tStep [896/938],\tIteraion [36540/46900],\tLoss: 0.2608,\tTime: 0.05\n",
      "Epoch [40/50],\tStep [64/938],\tIteraion [36646/46900],\tLoss: 0.4686,\tTime: 0.04\n",
      "Epoch [40/50],\tStep [128/938],\tIteraion [36710/46900],\tLoss: 0.3861,\tTime: 0.05\n",
      "Epoch [40/50],\tStep [192/938],\tIteraion [36774/46900],\tLoss: 0.1442,\tTime: 0.05\n",
      "Epoch [40/50],\tStep [256/938],\tIteraion [36838/46900],\tLoss: 0.2196,\tTime: 0.05\n",
      "Epoch [40/50],\tStep [320/938],\tIteraion [36902/46900],\tLoss: 0.2679,\tTime: 0.03\n",
      "Epoch [40/50],\tStep [384/938],\tIteraion [36966/46900],\tLoss: 0.1955,\tTime: 0.04\n",
      "Epoch [40/50],\tStep [448/938],\tIteraion [37030/46900],\tLoss: 0.1652,\tTime: 0.05\n",
      "Epoch [40/50],\tStep [512/938],\tIteraion [37094/46900],\tLoss: 0.3331,\tTime: 0.05\n",
      "Epoch [40/50],\tStep [576/938],\tIteraion [37158/46900],\tLoss: 0.2666,\tTime: 0.05\n",
      "Epoch [40/50],\tStep [640/938],\tIteraion [37222/46900],\tLoss: 0.2732,\tTime: 0.05\n",
      "Epoch [40/50],\tStep [704/938],\tIteraion [37286/46900],\tLoss: 0.2206,\tTime: 0.05\n",
      "Epoch [40/50],\tStep [768/938],\tIteraion [37350/46900],\tLoss: 0.3193,\tTime: 0.03\n",
      "Epoch [40/50],\tStep [832/938],\tIteraion [37414/46900],\tLoss: 0.3625,\tTime: 0.05\n",
      "Epoch [40/50],\tStep [896/938],\tIteraion [37478/46900],\tLoss: 0.2792,\tTime: 0.04\n",
      "Epoch [41/50],\tStep [64/938],\tIteraion [37584/46900],\tLoss: 0.1448,\tTime: 0.05\n",
      "Epoch [41/50],\tStep [128/938],\tIteraion [37648/46900],\tLoss: 0.4595,\tTime: 0.05\n",
      "Epoch [41/50],\tStep [192/938],\tIteraion [37712/46900],\tLoss: 0.2677,\tTime: 0.05\n",
      "Epoch [41/50],\tStep [256/938],\tIteraion [37776/46900],\tLoss: 0.4133,\tTime: 0.05\n",
      "Epoch [41/50],\tStep [320/938],\tIteraion [37840/46900],\tLoss: 0.5219,\tTime: 0.05\n",
      "Epoch [41/50],\tStep [384/938],\tIteraion [37904/46900],\tLoss: 0.3092,\tTime: 0.05\n",
      "Epoch [41/50],\tStep [448/938],\tIteraion [37968/46900],\tLoss: 0.2644,\tTime: 0.05\n",
      "Epoch [41/50],\tStep [512/938],\tIteraion [38032/46900],\tLoss: 0.1974,\tTime: 0.05\n",
      "Epoch [41/50],\tStep [576/938],\tIteraion [38096/46900],\tLoss: 0.2999,\tTime: 0.05\n",
      "Epoch [41/50],\tStep [640/938],\tIteraion [38160/46900],\tLoss: 0.3414,\tTime: 0.05\n",
      "Epoch [41/50],\tStep [704/938],\tIteraion [38224/46900],\tLoss: 0.3075,\tTime: 0.05\n",
      "Epoch [41/50],\tStep [768/938],\tIteraion [38288/46900],\tLoss: 0.3101,\tTime: 0.05\n",
      "Epoch [41/50],\tStep [832/938],\tIteraion [38352/46900],\tLoss: 0.1605,\tTime: 0.05\n",
      "Epoch [41/50],\tStep [896/938],\tIteraion [38416/46900],\tLoss: 0.4635,\tTime: 0.03\n",
      "Epoch [42/50],\tStep [64/938],\tIteraion [38522/46900],\tLoss: 0.4909,\tTime: 0.05\n",
      "Epoch [42/50],\tStep [128/938],\tIteraion [38586/46900],\tLoss: 0.1900,\tTime: 0.05\n",
      "Epoch [42/50],\tStep [192/938],\tIteraion [38650/46900],\tLoss: 0.3815,\tTime: 0.05\n",
      "Epoch [42/50],\tStep [256/938],\tIteraion [38714/46900],\tLoss: 0.2544,\tTime: 0.05\n",
      "Epoch [42/50],\tStep [320/938],\tIteraion [38778/46900],\tLoss: 0.1923,\tTime: 0.03\n",
      "Epoch [42/50],\tStep [384/938],\tIteraion [38842/46900],\tLoss: 0.2379,\tTime: 0.03\n",
      "Epoch [42/50],\tStep [448/938],\tIteraion [38906/46900],\tLoss: 0.3198,\tTime: 0.05\n",
      "Epoch [42/50],\tStep [512/938],\tIteraion [38970/46900],\tLoss: 0.2227,\tTime: 0.04\n",
      "Epoch [42/50],\tStep [576/938],\tIteraion [39034/46900],\tLoss: 0.2682,\tTime: 0.05\n",
      "Epoch [42/50],\tStep [640/938],\tIteraion [39098/46900],\tLoss: 0.3144,\tTime: 0.05\n",
      "Epoch [42/50],\tStep [704/938],\tIteraion [39162/46900],\tLoss: 0.1987,\tTime: 0.05\n",
      "Epoch [42/50],\tStep [768/938],\tIteraion [39226/46900],\tLoss: 0.1747,\tTime: 0.05\n",
      "Epoch [42/50],\tStep [832/938],\tIteraion [39290/46900],\tLoss: 0.3523,\tTime: 0.05\n",
      "Epoch [42/50],\tStep [896/938],\tIteraion [39354/46900],\tLoss: 0.3166,\tTime: 0.05\n",
      "Epoch [43/50],\tStep [64/938],\tIteraion [39460/46900],\tLoss: 0.1579,\tTime: 0.06\n",
      "Epoch [43/50],\tStep [128/938],\tIteraion [39524/46900],\tLoss: 0.3048,\tTime: 0.05\n",
      "Epoch [43/50],\tStep [192/938],\tIteraion [39588/46900],\tLoss: 0.2535,\tTime: 0.05\n",
      "Epoch [43/50],\tStep [256/938],\tIteraion [39652/46900],\tLoss: 0.3309,\tTime: 0.05\n",
      "Epoch [43/50],\tStep [320/938],\tIteraion [39716/46900],\tLoss: 0.3788,\tTime: 0.05\n",
      "Epoch [43/50],\tStep [384/938],\tIteraion [39780/46900],\tLoss: 0.3959,\tTime: 0.05\n",
      "Epoch [43/50],\tStep [448/938],\tIteraion [39844/46900],\tLoss: 0.5229,\tTime: 0.05\n",
      "Epoch [43/50],\tStep [512/938],\tIteraion [39908/46900],\tLoss: 0.2732,\tTime: 0.05\n",
      "Epoch [43/50],\tStep [576/938],\tIteraion [39972/46900],\tLoss: 0.2600,\tTime: 0.05\n",
      "Epoch [43/50],\tStep [640/938],\tIteraion [40036/46900],\tLoss: 0.2243,\tTime: 0.05\n",
      "Epoch [43/50],\tStep [704/938],\tIteraion [40100/46900],\tLoss: 0.1674,\tTime: 0.05\n",
      "Epoch [43/50],\tStep [768/938],\tIteraion [40164/46900],\tLoss: 0.1712,\tTime: 0.04\n",
      "Epoch [43/50],\tStep [832/938],\tIteraion [40228/46900],\tLoss: 0.2653,\tTime: 0.05\n",
      "Epoch [43/50],\tStep [896/938],\tIteraion [40292/46900],\tLoss: 0.2589,\tTime: 0.03\n",
      "Epoch [44/50],\tStep [64/938],\tIteraion [40398/46900],\tLoss: 0.1763,\tTime: 0.04\n",
      "Epoch [44/50],\tStep [128/938],\tIteraion [40462/46900],\tLoss: 0.3025,\tTime: 0.05\n",
      "Epoch [44/50],\tStep [192/938],\tIteraion [40526/46900],\tLoss: 0.3020,\tTime: 0.06\n",
      "Epoch [44/50],\tStep [256/938],\tIteraion [40590/46900],\tLoss: 0.2461,\tTime: 0.05\n",
      "Epoch [44/50],\tStep [320/938],\tIteraion [40654/46900],\tLoss: 0.2468,\tTime: 0.05\n",
      "Epoch [44/50],\tStep [384/938],\tIteraion [40718/46900],\tLoss: 0.1343,\tTime: 0.05\n",
      "Epoch [44/50],\tStep [448/938],\tIteraion [40782/46900],\tLoss: 0.3382,\tTime: 0.07\n",
      "Epoch [44/50],\tStep [512/938],\tIteraion [40846/46900],\tLoss: 0.3480,\tTime: 0.06\n",
      "Epoch [44/50],\tStep [576/938],\tIteraion [40910/46900],\tLoss: 0.1644,\tTime: 0.05\n",
      "Epoch [44/50],\tStep [640/938],\tIteraion [40974/46900],\tLoss: 0.3362,\tTime: 0.04\n",
      "Epoch [44/50],\tStep [704/938],\tIteraion [41038/46900],\tLoss: 0.4689,\tTime: 0.05\n",
      "Epoch [44/50],\tStep [768/938],\tIteraion [41102/46900],\tLoss: 0.2834,\tTime: 0.03\n",
      "Epoch [44/50],\tStep [832/938],\tIteraion [41166/46900],\tLoss: 0.2387,\tTime: 0.05\n",
      "Epoch [44/50],\tStep [896/938],\tIteraion [41230/46900],\tLoss: 0.3142,\tTime: 0.06\n",
      "Epoch [45/50],\tStep [64/938],\tIteraion [41336/46900],\tLoss: 0.1944,\tTime: 0.05\n",
      "Epoch [45/50],\tStep [128/938],\tIteraion [41400/46900],\tLoss: 0.3160,\tTime: 0.05\n",
      "Epoch [45/50],\tStep [192/938],\tIteraion [41464/46900],\tLoss: 0.2177,\tTime: 0.05\n",
      "Epoch [45/50],\tStep [256/938],\tIteraion [41528/46900],\tLoss: 0.1512,\tTime: 0.05\n",
      "Epoch [45/50],\tStep [320/938],\tIteraion [41592/46900],\tLoss: 0.2644,\tTime: 0.05\n",
      "Epoch [45/50],\tStep [384/938],\tIteraion [41656/46900],\tLoss: 0.2776,\tTime: 0.05\n",
      "Epoch [45/50],\tStep [448/938],\tIteraion [41720/46900],\tLoss: 0.4645,\tTime: 0.05\n",
      "Epoch [45/50],\tStep [512/938],\tIteraion [41784/46900],\tLoss: 0.2438,\tTime: 0.05\n",
      "Epoch [45/50],\tStep [576/938],\tIteraion [41848/46900],\tLoss: 0.2203,\tTime: 0.04\n",
      "Epoch [45/50],\tStep [640/938],\tIteraion [41912/46900],\tLoss: 0.2284,\tTime: 0.05\n",
      "Epoch [45/50],\tStep [704/938],\tIteraion [41976/46900],\tLoss: 0.1222,\tTime: 0.05\n",
      "Epoch [45/50],\tStep [768/938],\tIteraion [42040/46900],\tLoss: 0.2480,\tTime: 0.04\n",
      "Epoch [45/50],\tStep [832/938],\tIteraion [42104/46900],\tLoss: 0.2518,\tTime: 0.05\n",
      "Epoch [45/50],\tStep [896/938],\tIteraion [42168/46900],\tLoss: 0.0784,\tTime: 0.05\n",
      "Epoch [46/50],\tStep [64/938],\tIteraion [42274/46900],\tLoss: 0.2214,\tTime: 0.05\n",
      "Epoch [46/50],\tStep [128/938],\tIteraion [42338/46900],\tLoss: 0.3574,\tTime: 0.05\n",
      "Epoch [46/50],\tStep [192/938],\tIteraion [42402/46900],\tLoss: 0.3336,\tTime: 0.05\n",
      "Epoch [46/50],\tStep [256/938],\tIteraion [42466/46900],\tLoss: 0.2278,\tTime: 0.05\n",
      "Epoch [46/50],\tStep [320/938],\tIteraion [42530/46900],\tLoss: 0.3887,\tTime: 0.05\n",
      "Epoch [46/50],\tStep [384/938],\tIteraion [42594/46900],\tLoss: 0.2214,\tTime: 0.05\n",
      "Epoch [46/50],\tStep [448/938],\tIteraion [42658/46900],\tLoss: 0.1806,\tTime: 0.05\n",
      "Epoch [46/50],\tStep [512/938],\tIteraion [42722/46900],\tLoss: 0.1951,\tTime: 0.05\n",
      "Epoch [46/50],\tStep [576/938],\tIteraion [42786/46900],\tLoss: 0.4057,\tTime: 0.05\n",
      "Epoch [46/50],\tStep [640/938],\tIteraion [42850/46900],\tLoss: 0.2250,\tTime: 0.04\n",
      "Epoch [46/50],\tStep [704/938],\tIteraion [42914/46900],\tLoss: 0.1933,\tTime: 0.05\n",
      "Epoch [46/50],\tStep [768/938],\tIteraion [42978/46900],\tLoss: 0.2873,\tTime: 0.06\n",
      "Epoch [46/50],\tStep [832/938],\tIteraion [43042/46900],\tLoss: 0.2866,\tTime: 0.05\n",
      "Epoch [46/50],\tStep [896/938],\tIteraion [43106/46900],\tLoss: 0.0707,\tTime: 0.05\n",
      "Epoch [47/50],\tStep [64/938],\tIteraion [43212/46900],\tLoss: 0.3228,\tTime: 0.06\n",
      "Epoch [47/50],\tStep [128/938],\tIteraion [43276/46900],\tLoss: 0.2035,\tTime: 0.06\n",
      "Epoch [47/50],\tStep [192/938],\tIteraion [43340/46900],\tLoss: 0.2303,\tTime: 0.05\n",
      "Epoch [47/50],\tStep [256/938],\tIteraion [43404/46900],\tLoss: 0.2128,\tTime: 0.05\n",
      "Epoch [47/50],\tStep [320/938],\tIteraion [43468/46900],\tLoss: 0.2634,\tTime: 0.05\n",
      "Epoch [47/50],\tStep [384/938],\tIteraion [43532/46900],\tLoss: 0.3644,\tTime: 0.05\n",
      "Epoch [47/50],\tStep [448/938],\tIteraion [43596/46900],\tLoss: 0.0946,\tTime: 0.05\n",
      "Epoch [47/50],\tStep [512/938],\tIteraion [43660/46900],\tLoss: 0.1990,\tTime: 0.05\n",
      "Epoch [47/50],\tStep [576/938],\tIteraion [43724/46900],\tLoss: 0.2822,\tTime: 0.05\n",
      "Epoch [47/50],\tStep [640/938],\tIteraion [43788/46900],\tLoss: 0.1907,\tTime: 0.05\n",
      "Epoch [47/50],\tStep [704/938],\tIteraion [43852/46900],\tLoss: 0.1643,\tTime: 0.05\n",
      "Epoch [47/50],\tStep [768/938],\tIteraion [43916/46900],\tLoss: 0.2305,\tTime: 0.05\n",
      "Epoch [47/50],\tStep [832/938],\tIteraion [43980/46900],\tLoss: 0.0913,\tTime: 0.05\n",
      "Epoch [47/50],\tStep [896/938],\tIteraion [44044/46900],\tLoss: 0.2049,\tTime: 0.05\n",
      "Epoch [48/50],\tStep [64/938],\tIteraion [44150/46900],\tLoss: 0.1476,\tTime: 0.05\n",
      "Epoch [48/50],\tStep [128/938],\tIteraion [44214/46900],\tLoss: 0.1916,\tTime: 0.05\n",
      "Epoch [48/50],\tStep [192/938],\tIteraion [44278/46900],\tLoss: 0.1967,\tTime: 0.03\n",
      "Epoch [48/50],\tStep [256/938],\tIteraion [44342/46900],\tLoss: 0.1226,\tTime: 0.05\n",
      "Epoch [48/50],\tStep [320/938],\tIteraion [44406/46900],\tLoss: 0.2729,\tTime: 0.05\n",
      "Epoch [48/50],\tStep [384/938],\tIteraion [44470/46900],\tLoss: 0.2390,\tTime: 0.05\n",
      "Epoch [48/50],\tStep [448/938],\tIteraion [44534/46900],\tLoss: 0.1915,\tTime: 0.05\n",
      "Epoch [48/50],\tStep [512/938],\tIteraion [44598/46900],\tLoss: 0.2061,\tTime: 0.05\n",
      "Epoch [48/50],\tStep [576/938],\tIteraion [44662/46900],\tLoss: 0.2280,\tTime: 0.05\n",
      "Epoch [48/50],\tStep [640/938],\tIteraion [44726/46900],\tLoss: 0.2515,\tTime: 0.05\n",
      "Epoch [48/50],\tStep [704/938],\tIteraion [44790/46900],\tLoss: 0.2143,\tTime: 0.05\n",
      "Epoch [48/50],\tStep [768/938],\tIteraion [44854/46900],\tLoss: 0.1602,\tTime: 0.04\n",
      "Epoch [48/50],\tStep [832/938],\tIteraion [44918/46900],\tLoss: 0.2277,\tTime: 0.05\n",
      "Epoch [48/50],\tStep [896/938],\tIteraion [44982/46900],\tLoss: 0.4034,\tTime: 0.05\n",
      "Epoch [49/50],\tStep [64/938],\tIteraion [45088/46900],\tLoss: 0.1786,\tTime: 0.05\n",
      "Epoch [49/50],\tStep [128/938],\tIteraion [45152/46900],\tLoss: 0.2720,\tTime: 0.05\n",
      "Epoch [49/50],\tStep [192/938],\tIteraion [45216/46900],\tLoss: 0.2006,\tTime: 0.05\n",
      "Epoch [49/50],\tStep [256/938],\tIteraion [45280/46900],\tLoss: 0.3317,\tTime: 0.04\n",
      "Epoch [49/50],\tStep [320/938],\tIteraion [45344/46900],\tLoss: 0.2345,\tTime: 0.03\n",
      "Epoch [49/50],\tStep [384/938],\tIteraion [45408/46900],\tLoss: 0.3012,\tTime: 0.05\n",
      "Epoch [49/50],\tStep [448/938],\tIteraion [45472/46900],\tLoss: 0.0978,\tTime: 0.05\n",
      "Epoch [49/50],\tStep [512/938],\tIteraion [45536/46900],\tLoss: 0.1125,\tTime: 0.05\n",
      "Epoch [49/50],\tStep [576/938],\tIteraion [45600/46900],\tLoss: 0.0930,\tTime: 0.04\n",
      "Epoch [49/50],\tStep [640/938],\tIteraion [45664/46900],\tLoss: 0.2256,\tTime: 0.05\n",
      "Epoch [49/50],\tStep [704/938],\tIteraion [45728/46900],\tLoss: 0.1388,\tTime: 0.05\n",
      "Epoch [49/50],\tStep [768/938],\tIteraion [45792/46900],\tLoss: 0.2426,\tTime: 0.05\n",
      "Epoch [49/50],\tStep [832/938],\tIteraion [45856/46900],\tLoss: 0.3343,\tTime: 0.05\n",
      "Epoch [49/50],\tStep [896/938],\tIteraion [45920/46900],\tLoss: 0.0625,\tTime: 0.05\n",
      "Epoch [50/50],\tStep [64/938],\tIteraion [46026/46900],\tLoss: 0.3643,\tTime: 0.05\n",
      "Epoch [50/50],\tStep [128/938],\tIteraion [46090/46900],\tLoss: 0.2513,\tTime: 0.04\n",
      "Epoch [50/50],\tStep [192/938],\tIteraion [46154/46900],\tLoss: 0.3072,\tTime: 0.05\n",
      "Epoch [50/50],\tStep [256/938],\tIteraion [46218/46900],\tLoss: 0.3267,\tTime: 0.05\n",
      "Epoch [50/50],\tStep [320/938],\tIteraion [46282/46900],\tLoss: 0.1105,\tTime: 0.05\n",
      "Epoch [50/50],\tStep [384/938],\tIteraion [46346/46900],\tLoss: 0.3035,\tTime: 0.05\n",
      "Epoch [50/50],\tStep [448/938],\tIteraion [46410/46900],\tLoss: 0.1107,\tTime: 0.06\n",
      "Epoch [50/50],\tStep [512/938],\tIteraion [46474/46900],\tLoss: 0.1409,\tTime: 0.05\n",
      "Epoch [50/50],\tStep [576/938],\tIteraion [46538/46900],\tLoss: 0.3145,\tTime: 0.05\n",
      "Epoch [50/50],\tStep [640/938],\tIteraion [46602/46900],\tLoss: 0.0958,\tTime: 0.05\n",
      "Epoch [50/50],\tStep [704/938],\tIteraion [46666/46900],\tLoss: 0.1551,\tTime: 0.05\n",
      "Epoch [50/50],\tStep [768/938],\tIteraion [46730/46900],\tLoss: 0.1197,\tTime: 0.05\n",
      "Epoch [50/50],\tStep [832/938],\tIteraion [46794/46900],\tLoss: 0.1819,\tTime: 0.03\n",
      "Epoch [50/50],\tStep [896/938],\tIteraion [46858/46900],\tLoss: 0.1085,\tTime: 0.05\n",
      "Finished SGD Training\n"
     ]
    },
    {
     "data": {
      "image/png": "[encoded data removed]",
      "text/plain": [
       "<Figure size 1200x480 with 2 Axes>"
      ]
     },
     "metadata": {},
     "output_type": "display_data"
    }
   ],
   "source": [
    "# Train CNN with FGD\n",
    "# cnn_fgd_l, cnn_fgd_t = train_fgd(CNN(), train_loader=train_loader, num_epochs=50)\n",
    "# Train CNN with SGD\n",
    "cnn_sgd_l, cnn_sgd_t = train_sgd(CNN(), train_loader=train_loader, num_epochs=50)\n",
    "\n",
    "# Set up a figure\n",
    "fig = plt.figure(figsize=plt.figaspect(.4))\n",
    "fig.suptitle(\"CNN losses and training times\", fontsize=15, fontweight='bold', y=1.05)\n",
    "\n",
    "# First subplot (Losses)\n",
    "ax1 = fig.add_subplot(1, 2, 1)\n",
    "ax1.set_title(\"CNN losses\")\n",
    "# ax1.plot(cnn_fgd_l, label='FGD', alpha=0.75)\n",
    "ax1.plot(cnn_sgd_l, label='SGD', alpha=0.75)\n",
    "ax1.set_xlabel(\"Iterations\")\n",
    "ax1.set_ylabel(\"Loss\")\n",
    "ax1.legend()\n",
    "\n",
    "# Second subplot (Times)\n",
    "ax2 = fig.add_subplot(1, 2, 2)\n",
    "ax2.set_title(\"CNN training time\")\n",
    "# ax2.plot(cnn_fgd_t, label='FGD', alpha=0.75)\n",
    "ax2.plot(cnn_sgd_t, label='SGD', alpha=0.75)\n",
    "ax2.set_xlabel(\"Iterations\")\n",
    "ax2.set_ylabel(\"Time (s)\")\n",
    "ax2.legend()\n",
    "\n",
    "plt.show()"
   ]
  },
  {
   "cell_type": "code",
   "execution_count": null,
   "metadata": {},
   "outputs": [],
   "source": []
  }
 ],
 "metadata": {
  "kernelspec": {
   "display_name": "torch",
   "language": "python",
   "name": "python3"
  },
  "language_info": {
   "codemirror_mode": {
    "name": "ipython",
    "version": 3
   },
   "file_extension": ".py",
   "mimetype": "text/x-python",
   "name": "python",
   "nbconvert_exporter": "python",
   "pygments_lexer": "ipython3",
   "version": "3.12.9"
  }
 },
 "nbformat": 4,
 "nbformat_minor": 2
}
