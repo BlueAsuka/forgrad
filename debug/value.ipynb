{
 "cells": [
  {
   "cell_type": "code",
   "execution_count": 6,
   "metadata": {},
   "outputs": [],
   "source": [
    "class Value:\n",
    "    \"\"\" \n",
    "    A wrapper for representing a scalar value as a node in the computational graph\n",
    "    The scalar value, assigned operator, its gradient and attach children nodes \n",
    "    will be stored in the node \n",
    "    \"\"\"\n",
    "\n",
    "    def __init__(self, data, _children=(), _op='', label=''):\n",
    "        # Callable variables\n",
    "        self.label = label\n",
    "        self.data  = data\n",
    "        self.grad  = 0\n",
    "        # Internal variables used for autograd graph construction\n",
    "        self._backward = lambda: None\n",
    "        self._prev = set(_children)\n",
    "        self._op = _op # the op that produced this node, for graphviz / debugging / etc\n",
    "\n",
    "    def __add__(self, other):\n",
    "        # Define the addition operator\n",
    "        other = other if isinstance(other, Value) else Value(other)\n",
    "        # Return a new Value type with\n",
    "        #   data = self.data + other.data\n",
    "        #   _prev = (self, other)\n",
    "        #   _op  = '+'\n",
    "        return Value(self.data + other.data, (self, other), '+')\n",
    "\n",
    "    def __mul__(self, other):\n",
    "        # Define the multiply operator\n",
    "        other = other if isinstance(other, Value) else Value(other)\n",
    "        # Return a new Value type with\n",
    "        #   data = self.data * other.data\n",
    "        #   _prev = (self, other)\n",
    "        #   _op  = '*'\n",
    "        return Value(self.data * other.data, (self, other), '*')\n",
    "\n",
    "    def __pow__(self, other):\n",
    "        # Define the power operator\n",
    "        assert isinstance(other, (int, float)), \"only supporting int/float powers for now\"\n",
    "        # Return a new Value type with\n",
    "        #   data = self.data ** other\n",
    "        #   _prev = (self, )\n",
    "        #   _op  = '^'\n",
    "        return Value(self.data**other, (self,), f'**{other}')\n",
    "\n",
    "    def __neg__(self): # -self\n",
    "        return self * -1\n",
    "\n",
    "    def __radd__(self, other): # other + self\n",
    "        return self + other\n",
    "\n",
    "    def __sub__(self, other): # self - other\n",
    "        return self + (-other)\n",
    "\n",
    "    def __rsub__(self, other): # other - self\n",
    "        return other + (-self)\n",
    "\n",
    "    def __rmul__(self, other): # other * self\n",
    "        return self * other\n",
    "\n",
    "    def __truediv__(self, other): # self / other\n",
    "        return self * other**-1\n",
    "\n",
    "    def __rtruediv__(self, other): # other / self\n",
    "        return other * self**-1\n",
    "\n",
    "    def set_label(self, label_str):\n",
    "        assert isinstance(label_str, str), \"given label is not a string or char\"\n",
    "        self.label = label_str\n",
    "\n",
    "    def __repr__(self):\n",
    "        return f\"Value(label={self.label}, data={self.data}, grad={self.grad})\""
   ]
  },
  {
   "cell_type": "code",
   "execution_count": 9,
   "metadata": {},
   "outputs": [
    {
     "name": "stdout",
     "output_type": "stream",
     "text": [
      "Value(label=a, data=3.0, grad=0) Value(label=b, data=10.0, grad=0) Value(label=c, data=-2.0, grad=0)\n",
      "Value(label=d, data=-1.0, grad=0)\n"
     ]
    }
   ],
   "source": [
    "a = Value(3.0, label='a')\n",
    "b = Value(10.0, label='b')\n",
    "c = Value(-2.0, label='c')\n",
    "print(a, b, c)\n",
    "d = a * b + c - a ** 2 + b * c \n",
    "d.set_label('d')\n",
    "print(d)"
   ]
  },
  {
   "cell_type": "code",
   "execution_count": null,
   "metadata": {},
   "outputs": [],
   "source": []
  }
 ],
 "metadata": {
  "kernelspec": {
   "display_name": "ml",
   "language": "python",
   "name": "python3"
  },
  "language_info": {
   "codemirror_mode": {
    "name": "ipython",
    "version": 3
   },
   "file_extension": ".py",
   "mimetype": "text/x-python",
   "name": "python",
   "nbconvert_exporter": "python",
   "pygments_lexer": "ipython3",
   "version": "3.8.13"
  },
  "orig_nbformat": 4,
  "vscode": {
   "interpreter": {
    "hash": "e76b06f811d914f25ddf1d876c9e6424e54248baadb52cf54ff8d72e027625bb"
   }
  }
 },
 "nbformat": 4,
 "nbformat_minor": 2
}
